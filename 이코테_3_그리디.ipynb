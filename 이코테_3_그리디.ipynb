{
 "cells": [
  {
   "attachments": {},
   "cell_type": "markdown",
   "metadata": {},
   "source": [
    "# 03. 그리디"
   ]
  },
  {
   "attachments": {},
   "cell_type": "markdown",
   "metadata": {},
   "source": [
    "## 실전 문제"
   ]
  },
  {
   "attachments": {},
   "cell_type": "markdown",
   "metadata": {},
   "source": [
    "### 큰 수의 법칙"
   ]
  },
  {
   "attachments": {},
   "cell_type": "markdown",
   "metadata": {},
   "source": [
    "#### 제한\n",
    "* 풀이 시간 30분\n",
    "* 시간 제한 1초\n",
    "* 메모리 제한 128MB\n",
    "\n",
    "#### 아이디어\n",
    "* 숫자는 같아도 인덱스가 다르면 다른 수로 취급 \n",
    "=> 인덱스 별로 큰 수에 우선순위를 매겨 가장 큰 수인 인덱스를 k번 만큼 더하고, 그 다음으로 큰 수를 한 번 더하고 다시 가장 큰 수를 k번 더하는 식으로 반복하기\n",
    "=> 다시 생각해보니 굳이 인덱스를 구할 필요는 없고, 그냥 내림차순 정렬해서 첫 번째 수를 k번 더하고 그 다음 두 번째 수 더하고 다음 다시 첫 번째 수 k번 더하는 식으로 하면 되겠다."
   ]
  },
  {
   "attachments": {},
   "cell_type": "markdown",
   "metadata": {},
   "source": [
    "#### 시간 복잡도\n",
    "* O(NlogN) + O(M) => 최악의 경우 N=1000, M=10000이므로 1초 내에 해결 가능할 것으로 보임\n",
    "\n",
    "#### 해설 본 후\n",
    "* 몫, 나머지 통해 구할 거였으면 굳이 반복문 안 쓰고 반복되는 수열의 규칙을 통해 계산해서 풀 수 있음\n",
    "* 가장 큰 수가 더해지는 횟수를 구하면 전체 덧셈 횟수에서 그것을 빼면 두 번째로 큰 수를 더하는 횟수가 됨"
   ]
  },
  {
   "cell_type": "code",
   "execution_count": 2,
   "metadata": {},
   "outputs": [
    {
     "name": "stdout",
     "output_type": "stream",
     "text": [
      "46\n"
     ]
    }
   ],
   "source": [
    "# 숫자 배열의 크기 N, 더하는 횟수 M, 특정 숫자를 연속으로 더할 수 있는 횟수 K 입력\n",
    "N, M, K = map(int, input().split())\n",
    "# 숫자 배열 입력\n",
    "num_list = list(map(int, input().split()))\n",
    "\n",
    "# 숫자 배열 내림차순 정렬\n",
    "num_list.sort(reverse=True)\n",
    "\n",
    "# 답안을 담을 변수 선언\n",
    "answer = 0\n",
    "\n",
    "for i in range(1, M+1): # 1부터 M까지의 숫자를 돌며\n",
    "    if i%K != 0: # 해당 숫자가 K+1의 배수가 아니면\n",
    "        answer += num_list[0] # 가장 큰 값을 더하고\n",
    "    else: # 맞으면\n",
    "        answer += num_list[1] # 두 번째로 큰 값을 더하기\n",
    "# => K+1 배수가 아닌 동안은 가장 큰 수를 더하고, K+1의 배수 차례엔 가장 큰 수가 K번 연속해서 더해졌으므로 두 번째로 큰 수를 더하기 위함\n",
    "\n",
    "print(answer)\n"
   ]
  },
  {
   "attachments": {},
   "cell_type": "markdown",
   "metadata": {},
   "source": [
    "### 숫자 카드 게임"
   ]
  },
  {
   "attachments": {},
   "cell_type": "markdown",
   "metadata": {},
   "source": [
    "#### 제한\n",
    "* 시간 제한 1초\n",
    "* 메모리 제한 128MB\n",
    "\n",
    "#### 아이디어\n",
    "* 행 별로 min() 값을 구해서 그 값이 가장 큰 행을 고르면 될 것 같다."
   ]
  },
  {
   "attachments": {},
   "cell_type": "markdown",
   "metadata": {},
   "source": [
    "#### 시간 복잡도\n",
    "* O(N*M) => 최악의 경우 N=100, M=100 이므로 1초 내에 해결 가능할 것으로 보임\n",
    "\n",
    "#### 해설 본 후\n",
    "* 굳이 card_list 변수를 만들지 않고 각 행을 받아올 때 바로 min()을 받아올 변수와 그 중 가장 큰 값을 저장할 변수를 선언하여 그때그때 비교해주면 효율적임"
   ]
  },
  {
   "cell_type": "code",
   "execution_count": 6,
   "metadata": {},
   "outputs": [
    {
     "name": "stdout",
     "output_type": "stream",
     "text": [
      "3\n"
     ]
    }
   ],
   "source": [
    "# 행 수 N, 열 수 M 입력\n",
    "N, M = map(int, input().split())\n",
    "\n",
    "# 카드에 적힌 숫자 입력\n",
    "card_list = [] # 카드 숫자 담을 리스트 선언\n",
    "for _ in range(N): # 행 수 만큼 반복\n",
    "    card_list.append(list(map(int, input().split()))) # 각 행들을 card_list의 원소로 추가\n",
    "    \n",
    "cand = [] # 각 행의 min() 값을 받을 리스트 선언\n",
    "for row in card_list: # 카드 리스트를 돌면서\n",
    "    cand.append(min(row)) # 각 행의 가장 작은 카드 값을 cand에 추가\n",
    "\n",
    "print(max(cand)) # 각 행의 최솟값들 중 최댓값을 출력"
   ]
  },
  {
   "attachments": {},
   "cell_type": "markdown",
   "metadata": {},
   "source": [
    "### 1이 될 때까지"
   ]
  },
  {
   "attachments": {},
   "cell_type": "markdown",
   "metadata": {},
   "source": [
    "#### 제한\n",
    "* 시간 제한 1초\n",
    "* 메모리 제한 128MB\n",
    "\n",
    "#### 아이디어\n",
    "* K가 2 이상이므로 나누는 선택지가 가능하다면 무조건 나누는 게 이득\n",
    "=> 나눌 수 있으면 나누는 선택지 택하고, 아니라면 1을 빼는 선택지 택하기"
   ]
  },
  {
   "attachments": {},
   "cell_type": "markdown",
   "metadata": {},
   "source": [
    "#### 시간 복잡도\n",
    "* 최악의 경우 1을 계속 빼게 되므로 O(N)이며 이 때 N은 최대 100,000이므로 1초 내에 해결 가능할 것으로 보임\n",
    "\n",
    "#### 해설 본 후\n",
    "* N이 100억이 넘어가면 시간 제한에 걸릴 수 있다 => N이 K의 배수가 되도록 한 번에 빼는 방식 구성하기"
   ]
  },
  {
   "cell_type": "code",
   "execution_count": 7,
   "metadata": {},
   "outputs": [
    {
     "name": "stdout",
     "output_type": "stream",
     "text": [
      "2\n"
     ]
    }
   ],
   "source": [
    "# 어떠한 수 N과 나누는 수 K 입력\n",
    "N, K = map(int, input().split())\n",
    "\n",
    "answer = 0 # 답(과정 수행 횟수)을 담을 변수 선언\n",
    "while N > 1: # N이 1을 초과한다면 반복\n",
    "    if N%K == 0: # N을 K로 나눈 나머지가 0이라면\n",
    "        N //= K # N을 K로 나누고\n",
    "        answer += 1 # 과정 수행 횟수를 1 더함\n",
    "    else: # N을 K로 나눈 나머지가 0이 아니라면\n",
    "        N -= 1 # N에서 1을 빼고\n",
    "        answer += 1 # 과정 수행 횟수를 1 더함\n",
    "        \n",
    "# 답 출력\n",
    "print(answer)"
   ]
  },
  {
   "attachments": {},
   "cell_type": "markdown",
   "metadata": {},
   "source": [
    "#### 해설 코드 참고"
   ]
  },
  {
   "cell_type": "code",
   "execution_count": null,
   "metadata": {},
   "outputs": [],
   "source": [
    "# N, K를 공백으로 구분하여 입력받기\n",
    "N, K = map(int, input().split())\n",
    "answer = 0\n",
    "\n",
    "while True:\n",
    "    # N이 K로 나누어 떨어지는 수가 될 때까지 1씩 빼기\n",
    "    target = (N//K) * K # N을 K로 나눈 몫에 K를 곱해, N보다 작으면서 N과 가장 가까운 K로 나누어 떨어지는 수 찾기\n",
    "    answer += (N - target) # N에서 target을 빼면 N에서 target까지 가기 위해 1씩 뺀 횟수와 같음. 이를 정답 횟수에 추가\n",
    "    N = target # N을 target으로 재할당\n",
    "    \n",
    "    # N이 K보다 작을 때(더 나눌 수 없을 때) 반복문 탈출\n",
    "    if N < K:\n",
    "        break\n",
    "    \n",
    "    # K로 나누기\n",
    "    answer += 1\n",
    "    N //= K\n",
    "    \n",
    "# K로 나누어지진 않지만 1이 아닌 경우가 있을 수 있으므로 마지막으로 남은 수에 대해 1씩 빼기\n",
    "answer += (N - 1) # N에서 1을 빼면 N에서 1까지 가기 위해 1씩 뺀 횟수와 같음. 이를 정답 횟수에 추가\n",
    "\n",
    "# 정답 출력\n",
    "print(answer)\n",
    "    "
   ]
  },
  {
   "attachments": {},
   "cell_type": "markdown",
   "metadata": {},
   "source": [
    "## Q1. 모험가 길드"
   ]
  },
  {
   "attachments": {},
   "cell_type": "markdown",
   "metadata": {},
   "source": [
    "#### 제한\n",
    "* 풀이 시간 30분\n",
    "* 시간 제한 1초\n",
    "* 메모리 제한 128MB\n",
    "\n",
    "#### 아이디어\n",
    "* 일단 공포도가 낮은 순서대로 넣어야 가장 많은 모험가 그룹을 만들 수 있을 것 같다. 1짜린 혼자서도 그룹이 되는데 다른 그룹에 들어가면 손해니까.\n",
    "* 오름차순 정렬해서 순서대로 그룹 만들고, 최소 필요 인원과 현재 인원 비교하며 그룹 형성 되면 그룹 개수에 추가하고 남은 모험가들 중 그룹 다시 꾸려보면 될 듯"
   ]
  },
  {
   "attachments": {},
   "cell_type": "markdown",
   "metadata": {},
   "source": [
    "#### 시간 복잡도\n",
    "* len()을 쓸 데 없이 써버렸네\n",
    "* 최악의 경우(N=100,000이고 모든 공포도가 100,000이면) O(N*N)으로 10,000,000,000번의 연산을 해야할 수도 있음...\n",
    "* 가 아니라 len()은 O(1)이네(p.s. .append()도 O(1))? 그러면 최악의 경우 O(N)이니까 1초 내로 통과 가능할 듯!\n",
    "* 참고) https://wayhome25.github.io/python/2017/06/14/time-complexity/ \n",
    "\n",
    "#### 해설 본 후\n",
    "* 어차피 최대 공포도는 방금 뽑은 원소일테니 그룹 내 구성원은 알 필요 없고 인원만 알면 됨 => 리스트 안 쓰고 그냥 카운트하면 됨"
   ]
  },
  {
   "cell_type": "code",
   "execution_count": 2,
   "metadata": {},
   "outputs": [
    {
     "name": "stdout",
     "output_type": "stream",
     "text": [
      "2\n"
     ]
    }
   ],
   "source": [
    "# 모험가의 수 N 입력\n",
    "N = int(input())\n",
    "\n",
    "# 각 모험가의 공포도 입력\n",
    "fears = list(map(int, input().split()))\n",
    "\n",
    "fears.sort() # 공포도를 오름차순으로 정렬\n",
    "\n",
    "answer = 0 # 정답(총 그룹 수의 최댓값) 변수 선언\n",
    "temp_list = [] # 현재 구성하고 있는 그룹을 임시로 담아놓을 리스트 선언\n",
    "for fear in fears: # 공포도 낮은 순서대로 돌면서\n",
    "    temp_list.append(fear) # 해당 모험가를 그룹에 추가\n",
    "    if fear == len(temp_list): # 그룹 내 최대 공포도(오름차순으로 정렬한 뒤 가져오므로)와 현재 그룹의 모험가 수가 동일하면(여행 떠날 수 있으면)\n",
    "        answer += 1 # 총 그룹 수에 추가하고\n",
    "        temp_list = [] # 그룹 리셋\n",
    "\n",
    "# 정답 출력\n",
    "print(answer)"
   ]
  },
  {
   "attachments": {},
   "cell_type": "markdown",
   "metadata": {},
   "source": [
    "## Q2. 곱하기 혹은 더하기"
   ]
  },
  {
   "attachments": {},
   "cell_type": "markdown",
   "metadata": {},
   "source": [
    "#### 제한\n",
    "* 풀이 시간 30분\n",
    "* 시간 제한 1초\n",
    "* 메모리 제한 128MB\n",
    "\n",
    "#### 아이디어\n",
    "* 이전까지의 값이나 앞에 오는 값이 0이나 1이면 더하고, 아니면 곱하기"
   ]
  },
  {
   "attachments": {},
   "cell_type": "markdown",
   "metadata": {},
   "source": [
    "#### 시간 복잡도\n",
    "* O(S의 길이) => S의 최대 길이는 20이므로 1초 내에 완료 가능\n",
    "\n",
    "#### 해설 본 후\n",
    "* 맞는데 초기화하는 정답 값을 문자열의 첫 번째 원소로 하고 문자열을 인덱스 1부터 돌리면 효율적\n",
    "* 받아오는 수를 int()로 바꿔서 변수에 저장해주고, answer값 또는 해당 값이 1 이하면 더하고 아니면 곱하기하는 식으로 하면 코드를 더 깔끔하게 짤 수 있다.\n",
    "* 문자열을 굳이 리스트로 바꿔줄 필요가 없다 생각해보니."
   ]
  },
  {
   "cell_type": "code",
   "execution_count": 10,
   "metadata": {},
   "outputs": [
    {
     "name": "stdout",
     "output_type": "stream",
     "text": [
      "576\n"
     ]
    }
   ],
   "source": [
    "# 문자열 S 입력\n",
    "S = input()\n",
    "\n",
    "answer = 0 # 정답을 담을 변수 선언 및 0으로 초기화\n",
    "for num in S: # 주어진 문자열의 숫자를 하나씩 돌면서 // 처음엔 list(S)로 했는데, 생각해보니 그럴 필요가 없음\n",
    "    if answer == 0 or answer == 1 or num == '0' or num == '1': # 현재까지의 값이 0 또는 1이거나, 앞으로 계산할 숫자가 0 또는 1인 경우 // 이 부분을 1 이하인 경우로 처리해줬으면 더 깔끔했을듯\n",
    "        answer += int(num) # 더하기\n",
    "    else: # 현재까지의 값과 앞으로 계산할 숫자가 0, 1이 아닌 경우\n",
    "        answer *= int(num) # 곱하기\n",
    "\n",
    "# 정답 출력\n",
    "print(answer)"
   ]
  },
  {
   "attachments": {},
   "cell_type": "markdown",
   "metadata": {},
   "source": [
    "## Q3. 문자열 뒤집기"
   ]
  },
  {
   "attachments": {},
   "cell_type": "markdown",
   "metadata": {},
   "source": [
    "#### 제한\n",
    "* 풀이 시간 20분\n",
    "* 시간 제한 2초\n",
    "* 메모리 제한 128MB\n",
    "\n",
    "#### 아이디어\n",
    "* 모든 숫자를 첫 번째로 나온 숫자와 같은 숫자로 만들면 될 듯\n",
    "=> 첫 번째 숫자와 다른 숫자가 연속해서 존재하는 부분의 개수만큼 돌리면 된다.\n",
    "=> 문자열 돌면서 현재 숫자가 첫 숫자와 같고, 다음 숫자가 첫 숫자와 다른 부분의 개수를 세면 될 것 같다(어차피 연속된 숫자를 한 번에 같이 돌리니까 해당 부분의 맨 앞 값만 체크하면 됨)"
   ]
  },
  {
   "attachments": {},
   "cell_type": "markdown",
   "metadata": {},
   "source": [
    "#### 시간 복잡도\n",
    "* O(S의 길이) => S의 길이는 최대 1,000,000이므로 2초 내에 해결 가능\n",
    "\n",
    "#### 해설 본 후\n",
    "* 해설에선 모두 0으로 바꾸는 경우와 모두 1로 바꾸는 경우를 함께 계산하여 min() 먹임"
   ]
  },
  {
   "cell_type": "code",
   "execution_count": 15,
   "metadata": {},
   "outputs": [
    {
     "name": "stdout",
     "output_type": "stream",
     "text": [
      "2\n"
     ]
    }
   ],
   "source": [
    "# 문자열 S 입력\n",
    "S = input()\n",
    "\n",
    "answer = 0 # 정답 변수 선언 및 초기ㅗ하\n",
    "\n",
    "for i in range(len(S)-1): # S의 마지막 값을 제외한 인덱스를 돌면서\n",
    "    if S[i] == S[0] and S[i+1] != S[0]: # S에서 인덱스 i에 해당하는 값이 첫 번째 값과 같고 그 다음 값이 첫 번째 값과 다르다면\n",
    "        answer += 1 # 돌려야하는 부분이므로 정답 횟수에 추가\n",
    "\n",
    "# 정답 출력\n",
    "print(answer)"
   ]
  },
  {
   "attachments": {},
   "cell_type": "markdown",
   "metadata": {},
   "source": [
    "## Q4. 만들 수 없는 금액 // RE"
   ]
  },
  {
   "attachments": {},
   "cell_type": "markdown",
   "metadata": {},
   "source": [
    "#### 제한\n",
    "* 풀이 시간 30분\n",
    "* 시간 제한 1초\n",
    "* 메모리 제한 128MB\n",
    "\n",
    "#### 아이디어\n",
    "* 동전 하나 써서 만들 수 있는 수부터 n개 써서 만들 수 있는 수를 모두 구한 뒤 오름차순으로 정렬하여 빈 값 리턴하기 -> 이거보단 효율적인 방법이 있을 것 같다."
   ]
  },
  {
   "attachments": {},
   "cell_type": "markdown",
   "metadata": {},
   "source": [
    "#### 시간 복잡도\n",
    "* O(N*2^N)... 최악의 경우 상정하면 시간 내에 안 돌아감.\n",
    "\n",
    "#### 해설 본 후\n",
    "* 동전을 오름차순으로 정렬하고, 작은 순서부터 하나씩 확인하며 정답 변수를 업데이트하는 방식으로 해결 가능\n",
    "* => 동전을 오름차순으로 하나씩 보면서, 만들 수 있는 금액을 확인하고, 그 다음 동전이 추가되었다고 생각한 뒤, 기존의 만들 수 있는 금액에 그 동전을 더해서 만들 수 있는 금액의 수를 확장시켜나가는 방식.\n",
    "* 참고) https://kk-programming.tistory.com/11\n",
    "* => 답이 나오는 건 그렇다치고 이게 왜 되는지 이해가 안 된다. 반례가 없나? => 설명을 다시 가만히보니 납득이 되긴 함. 근데 이런 걸 어떻게 생각한담...\n"
   ]
  },
  {
   "cell_type": "code",
   "execution_count": 20,
   "metadata": {},
   "outputs": [
    {
     "name": "stdout",
     "output_type": "stream",
     "text": [
      "8\n"
     ]
    }
   ],
   "source": [
    "# 이건 조합 때문에 N이 커지면 시간 복잡도에서 걸릴 것 같다.\n",
    "\n",
    "from itertools import combinations\n",
    "\n",
    "# 동전의 개수 N 입력\n",
    "N = int(input())\n",
    "# 동전 단위 입력\n",
    "coins = list(map(int, input().split()))\n",
    "\n",
    "can = set()\n",
    "for i in range(1, N+1):\n",
    "    for comb in combinations(coins, i):\n",
    "        can.add(sum(comb))\n",
    "\n",
    "for i, d in enumerate(sorted(list(can)), start=1):\n",
    "    if i != d:\n",
    "        print(i)\n",
    "        break"
   ]
  },
  {
   "attachments": {},
   "cell_type": "markdown",
   "metadata": {},
   "source": [
    "#### 해설 코드 참고"
   ]
  },
  {
   "cell_type": "code",
   "execution_count": 21,
   "metadata": {},
   "outputs": [
    {
     "name": "stdout",
     "output_type": "stream",
     "text": [
      "20\n"
     ]
    }
   ],
   "source": [
    "# 동전의 개수 N 입력\n",
    "N = int(input())\n",
    "# 동전 단위 입력\n",
    "coins = list(map(int, input().split()))\n",
    "coins.sort()\n",
    "\n",
    "answer = 1\n",
    "for coin in coins:\n",
    "    # 만들 수 없는 금액을 찾았을 때 반복 종료\n",
    "    if answer < coin:\n",
    "        break\n",
    "    answer += coin\n",
    "\n",
    "# 만들 수 없는 금액 출력\n",
    "print(answer)"
   ]
  },
  {
   "attachments": {},
   "cell_type": "markdown",
   "metadata": {},
   "source": [
    "## Q5. 볼링공 고르기"
   ]
  },
  {
   "attachments": {},
   "cell_type": "markdown",
   "metadata": {},
   "source": [
    "#### 제한\n",
    "* 풀이 시간 30분\n",
    "* 시간 제한 1초\n",
    "* 메모리 제한 128MB\n",
    "\n",
    "#### 아이디어\n",
    "* 이중 for문 돌리면서 무게 다르면 더하면 될 것 같다.\n",
    "* 다른 풀이) 무게로 어떻게 해볼 수 있을 것 같은데.. => 무게 별 개수 구해서 해당 무게에서 하나, 나머지에서 하나 꺼내는 식으로 계산하면. => 된다."
   ]
  },
  {
   "attachments": {},
   "cell_type": "markdown",
   "metadata": {},
   "source": [
    "#### 시간 복잡도\n",
    "* O(N^2) => 최악의 경우 N=1,000이므로 N^2=1,000,000. 1초 내에 해결 가능할 것으로 보임\n",
    "* 다른 풀이) 입력 받을 때 제외하면 O(M^2) => 최악의 경우 M=10이므로 훨씬 이득\n",
    "\n",
    "#### 해설 본 후\n",
    "* 다른 풀이로 푼 게 답지와 잘 맞는다. 첫 번째 풀이는 가능은 한데 다소 비효율적이긴 한 듯\n",
    "* 입력 받을 때 바로 무게 카운팅을 해서 답지보다 이득을 봤다.\n",
    "* 경우의 수 계산할 때 나는 sum()을 썼지만, 답지는 전체 개수 N에서 현재 확인하는 무게의 볼링공 개수를 -=으로 빼면서 계산하여 나보다 이득을 봤다."
   ]
  },
  {
   "cell_type": "code",
   "execution_count": 4,
   "metadata": {},
   "outputs": [
    {
     "name": "stdout",
     "output_type": "stream",
     "text": [
      "25\n"
     ]
    }
   ],
   "source": [
    "# 볼링공 개수 N, 최대 무게 M 입력\n",
    "N, M = map(int, input().split())\n",
    "\n",
    "# 볼링공의 무게 입력\n",
    "weights = list(map(int, input().split()))\n",
    "\n",
    "answer = 0 # 정답 개수 선언 및 초기화\n",
    "for i in range(N): # 전체 볼링공의 개수를 돌면서 현재 확인하는 볼링공을 선택\n",
    "    for j in range(i+1, N): # 현재 확인하는 볼링공 이후의 것들과만 비교하기 위해 현재 볼링공 다음 볼링공부터 반복\n",
    "        if weights[i] != weights[j]: # 현재 확인하는 볼링공과 그 이후의 볼링공 중 무게가 다른 것이 있으면\n",
    "            answer += 1 # 하나의 조합이 되므로 정답에 추가\n",
    "\n",
    "print(answer)"
   ]
  },
  {
   "cell_type": "code",
   "execution_count": 11,
   "metadata": {},
   "outputs": [
    {
     "name": "stdout",
     "output_type": "stream",
     "text": [
      "25\n"
     ]
    }
   ],
   "source": [
    "# 다른 풀이 => 이게 답지와 더 근접하고 위 코드보다 훨씬 효율적임.\n",
    "\n",
    "# 볼링공 개수 N, 최대 무게 M 입력\n",
    "N, M = map(int, input().split())\n",
    "\n",
    "counts = [0] * (M+1) # 무게별 볼링공의 개수 담을 리스트 선언\n",
    "for w in map(int, input().split()): # 볼링공 무게 입력 받으면서\n",
    "    counts[w] += 1 # 무게별 개수에 바로 카운팅하기\n",
    "\n",
    "answer = 0 # 정답 변수 선언\n",
    "for i in range(1, M+1): # 무게별 개수를 돌면서\n",
    "    answer += counts[i] * sum(counts[i+1:]) # 해당 무게와 해당 무게보다 높은 무게를 가진 볼링공 전체 개수 곱해서 경우의 수 더하기\n",
    "'''답지코드 참고\n",
    "for i in range(1, M+1):\n",
    "    N -= counts[i] # 무게가 i인 볼링공의 개수(A가 선택할 수 있는 개수) 제외\n",
    "    answer += counts[i] * N # B가 선택하는 경우의 수와 곱하기\n",
    "'''\n",
    "\n",
    "# 정답 출력\n",
    "print(answer)"
   ]
  },
  {
   "attachments": {},
   "cell_type": "markdown",
   "metadata": {},
   "source": [
    "## Q6. 무지의 먹방 라이브 // RE"
   ]
  },
  {
   "attachments": {},
   "cell_type": "markdown",
   "metadata": {},
   "source": [
    "#### 제한\n",
    "* 풀이 시간 30분\n",
    "* 시간 제한 1초\n",
    "* 메모리 제한 128MB\n",
    "\n",
    "#### 아이디어\n",
    "* 한 바퀴 돌때마다 전체를 한 번씩 빼주고, 해당 바퀴 돌기 전에 K에 도달하면 나머지를 뱉어서 몇 번째 음식을 먹어야 할지를 계산해야 할 듯\n",
    "* heap 썼던 것 같은데?\n",
    "* time-cycle이 중요. 각각의 원소에 모두 빼주는 행동을 하면 시간이 오래 걸리니 몇 바퀴를 돌았는지 표시해서 이 음식을 몇 번째 다시 먹고 있는지 체크하기\n",
    "\n",
    "#### 힌트\n",
    "* heapq를 썼던 것을 기억 저편에서 확인\n",
    "* 질문 게시판의 테스트 케이스를 통해 오류 나는 부분 확인\n",
    "=> 가장 적게 남은 음식 전체를 먹을 만큼의 한 사이클을 돌릴 수 없는 만큼의 k가 남아서 if문을 충족시켜 조건절로 내려오게 되어도, k가 전체 음식의 개수보다는 클 수 있음. \n",
    "=> 이 경우는 그냥 k값으로 인덱싱하게 되면 리스트 범위를 벗어나 오류 발생.\n",
    "=> 한 음식 전체를 못 먹는 것이지 먹을 음식들은 남아 있기 때문. 그래서 계속 먹어나가야 함.\n",
    "=> k를 남은 음식 개수로 나눈 나머지로 인덱싱하면 원하는 답을 구할 수 있음\n",
    "=> 그러니까. if (h[0][0]-cycle)*food_length > k: 이 경우에 여기서 그냥 h[k][1] 해버리면, 인덱싱 에러 발생 가능성 존재. 이 경우는 전체 음식 개수로 k를 나눈 나머지를 인덱스에 넣어야 한다."
   ]
  },
  {
   "attachments": {},
   "cell_type": "markdown",
   "metadata": {},
   "source": [
    "#### 시간 복잡도\n",
    "* \n",
    "\n",
    "#### 해설 본 후\n",
    "* 아예 전체 음식 먹는 시간보다 k가 더 작은 경우를 미리 예외처리하면 쓸 데 없는 반복을 하지 않을 수 있다. (어차피 음식이 다 먹어지는 경우를 미리 처리하기)\n",
    "* cycle을 time-cycle을 더하며 갱신할 것이 아니라 그냥 해당 time을 썼으면 됐다...(이전 음식의 시간)"
   ]
  },
  {
   "cell_type": "code",
   "execution_count": null,
   "metadata": {},
   "outputs": [],
   "source": [
    "# food_times = [3,1,2]\n",
    "# k = 5\n",
    "\n",
    "# def solution(food_times, k):\n",
    "#     # times = 0\n",
    "#     # foods = len(food_times)\n",
    "#     # while times > k:\n",
    "#     #     times += min(food_times)\n",
    "#     #     foods -= food_times.count(min(food_times))\n",
    "    \n",
    "#     food_check = [True] * len(food_times)\n",
    "#     food_length = len(food_times)\n",
    "#     min_food = min(food_times)\n",
    "    \n",
    "#     while True:\n",
    "        \n",
    "#         k -= min_food * food_length\n",
    "    \n",
    "#         for i in range(len(food_times)):\n",
    "#             if food_times[i] == min_food:\n",
    "#                 food_check[i] = False\n",
    "#                 food_length -= 1\n",
    "#             food_times[i] -= min_food\n",
    "    \n",
    "#     answer = 0 \n",
    "#     return answer"
   ]
  },
  {
   "cell_type": "code",
   "execution_count": 64,
   "metadata": {},
   "outputs": [
    {
     "data": {
      "text/plain": [
       "6"
      ]
     },
     "execution_count": 64,
     "metadata": {},
     "output_type": "execute_result"
    }
   ],
   "source": [
    "# 최소힙 사용하기 위해 heapq 임포트\n",
    "import heapq\n",
    "\n",
    "# food_times = [3,1,2]\n",
    "# k = 5\n",
    "\n",
    "def solution(food_times, k):\n",
    "    h = [] # 힙으로 사용할 리스트 선언\n",
    "    for i, time in enumerate(food_times): # 음식 인덱스와 소요 시간을 돌면서\n",
    "        heapq.heappush(h, (time, i+1)) # 소요 시간으로 최소힙을 정렬하기 위해 (소요시간, 음식번호)의 형태로 저장\n",
    "    \n",
    "    cycle = 0 # 회전판이 몇 번 다시 처음으로 돌아왔는지 카운트\n",
    "    while h: # 음식이 있는 동안\n",
    "        food_length = len(h) # 음식 개수 갱신\n",
    "        \n",
    "        if (h[0][0]-cycle)*food_length > k: # 남은 시간 내에 가장 적게 남은 음식을 다 먹을 수 있는 사이클을 돌지 못한다면\n",
    "            h.sort(key=lambda x:x[1]) # 음식 번호 기준으로 오름차순 정렬\n",
    "            k %= food_length # 남은 시간이 경과한 이후 먹어야 할 음식 찾기 위해 k를 음식 개수로 나눈 나머지 확인(몫만큼 회전하여 처음으로 돌아온 뒤 나머지만큼의 다음 음식을 먹기 때문)\n",
    "            return h[k][1] # 먹어야 하는 음식의 번호 출력\n",
    "        \n",
    "        time, food = heapq.heappop(h) # 힙에서 가장 적게 남은 음식을 꺼냄\n",
    "        k -= (time-cycle)*food_length # 해당 음식을 다 먹을 수 있는 만큼의 사이클을 돌고 해당 시간만큼 경과 시킴\n",
    "        cycle += time-cycle # 몇 번의 사이클을 돌았는지 갱신\n",
    "    \n",
    "    return -1 # 반복문이 중단되지 않고 모두 돌아간다면 k초 이내에 음식을 다 먹은 것이므로 -1 리턴\n",
    "\n",
    "solution([1, 5, 5, 5, 5, 6, 7], 31)"
   ]
  },
  {
   "attachments": {},
   "cell_type": "markdown",
   "metadata": {},
   "source": [
    "#### 에렉투스 1차 때 풀었던 풀이(답 보고) // 속도는 이게 더 빠른 듯?\n",
    "* heapq만 안 쓴 거지 해설과 로직은 같다."
   ]
  },
  {
   "cell_type": "code",
   "execution_count": null,
   "metadata": {},
   "outputs": [],
   "source": [
    "def solution(food_times, k):\n",
    "  if k >= sum(food_times):\n",
    "    return -1\n",
    "  num_time = [(idx+1, time) for idx, time in enumerate(food_times)]\n",
    "  num_time.sort(key=lambda x: x[1], reverse=True)\n",
    "  times = 0\n",
    "  while k > len(num_time) * (num_time[-1][1]-times):\n",
    "    shortest = num_time.pop()\n",
    "    k -= (len(num_time)+1) * (shortest[1] - times)\n",
    "    times = shortest[1]\n",
    "    \n",
    "  num_time.sort(key=lambda x:x[0])\n",
    "  return num_time[k%len(num_time)][0]"
   ]
  },
  {
   "attachments": {},
   "cell_type": "markdown",
   "metadata": {},
   "source": [
    "#### 해설 코드 참고"
   ]
  },
  {
   "cell_type": "code",
   "execution_count": null,
   "metadata": {},
   "outputs": [],
   "source": [
    "import heapq\n",
    "\n",
    "def solution(food_times, k):\n",
    "    # 전체 음식을 먹는 시간보다 k가 크거나 같다면 -1\n",
    "    if sum(food_times) <= k:\n",
    "        return -1\n",
    "    \n",
    "    # 시간이 작은 음식부터 빼야 하므로 우선순위큐 이용\n",
    "    q = []\n",
    "    for i in range(len(food_times)):\n",
    "        # (음식 시간, 음식 번호) 형태로 우선순위 큐에 삽입\n",
    "        heapq.heappush(q, (food_times[i], i + 1))\n",
    "        \n",
    "    sum_value = 0 # 먹기 위해 사용한 시간\n",
    "    previous = 0 # 직전에 다 먹은 음식 시간\n",
    "    length = len(food_times) # 남은 음식의 개수\n",
    "    \n",
    "    # sum_value + (현재의 음식 시간 - 이전 음식 시간) * 현재 음식 개수와 k 비교\n",
    "    while sum_value + ((q[0][0] - previous) * length) <= k:\n",
    "        now = heapq.heappop(q)[0]\n",
    "        sum_value += (now - previous) * length\n",
    "        length -= 1 # 다 먹은 음식 제외\n",
    "        previous = now # 이전 음식 시간 재설정\n",
    "        \n",
    "    # 남은 음식 중에서 몇 번째 음식인지 확인하여 출력\n",
    "    answer = sorted(q, key=lambda x: x[1]) # 음식의 번호 기준으로 정렬\n",
    "    return answer[(k - sum_value) % length][1]"
   ]
  }
 ],
 "metadata": {
  "kernelspec": {
   "display_name": "base",
   "language": "python",
   "name": "python3"
  },
  "language_info": {
   "codemirror_mode": {
    "name": "ipython",
    "version": 3
   },
   "file_extension": ".py",
   "mimetype": "text/x-python",
   "name": "python",
   "nbconvert_exporter": "python",
   "pygments_lexer": "ipython3",
   "version": "3.10.9"
  },
  "orig_nbformat": 4
 },
 "nbformat": 4,
 "nbformat_minor": 2
}
