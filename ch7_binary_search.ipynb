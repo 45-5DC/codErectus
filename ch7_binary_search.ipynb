{
 "cells": [
  {
   "attachments": {},
   "cell_type": "markdown",
   "metadata": {},
   "source": [
    "# 07. 이진 탐색"
   ]
  },
  {
   "attachments": {},
   "cell_type": "markdown",
   "metadata": {},
   "source": [
    "## 실전 문제"
   ]
  },
  {
   "attachments": {},
   "cell_type": "markdown",
   "metadata": {},
   "source": [
    "### 부품 찾기"
   ]
  },
  {
   "attachments": {},
   "cell_type": "markdown",
   "metadata": {},
   "source": [
    "#### 제한\n",
    "* 풀이 시간 30분\n",
    "* 시간 제한 1초\n",
    "* 메모리 제한 128MB\n",
    "\n",
    "#### 아이디어\n",
    "* 그냥 반복문 돌리면 O(N*M)으로 1초 내에 해결 불가능"
   ]
  },
  {
   "attachments": {},
   "cell_type": "markdown",
   "metadata": {},
   "source": [
    "#### 시간 복잡도\n",
    "* O(NlogN + MlogN)\n",
    "* M은 최대 100,000이고, N은 최대 1,000,000이다.\n",
    "* 해설에선 이렇게 하면 된다고는 하는데 최악의 경우에도 시간 초과가 안 나려나..?\n",
    "\n",
    "#### 해설 본 후\n",
    "* 계수 정렬이나 set을 이용하는 방법도 있다."
   ]
  },
  {
   "cell_type": "code",
   "execution_count": 5,
   "metadata": {},
   "outputs": [
    {
     "name": "stdout",
     "output_type": "stream",
     "text": [
      "no yes yes "
     ]
    }
   ],
   "source": [
    "# 매장에 있는 부품 종류 N 입력\n",
    "N = int(input())\n",
    "\n",
    "# 매장 부품 정보 입력\n",
    "stores = list(map(int, input().split()))\n",
    "\n",
    "# 문의 부품 종류 M 입력\n",
    "M = int(input())\n",
    "\n",
    "# 문의 부품 정보 입력\n",
    "wants = list(map(int, input().split()))\n",
    "\n",
    "# 이진 탐색을 활용하기 위해 매장 부품 정보를 오름차순으로 정렬\n",
    "stores.sort()\n",
    "\n",
    "# 이진 탐색 함수 선언\n",
    "def binary_search(stores, target, start, end):\n",
    "    # 시작점이 끝점보다 크면(전부 찾았는데 해당 부품이 없으면) 'no' 리턴\n",
    "    if start > end:\n",
    "        return 'no'\n",
    "    \n",
    "    # 중간점 설정\n",
    "    mid = (start + end) // 2\n",
    "    \n",
    "    # 타겟이 중간점 원소와 같다면 'yes' 리턴\n",
    "    if target == stores[mid]:\n",
    "        return 'yes'\n",
    "    # 타겟이 중간점 원소보다 작다면 end를 mid 한 칸 앞으로 바꿔 재귀 수행\n",
    "    elif target < stores[mid]:\n",
    "        return binary_search(stores, target, start, mid-1) ## return을 해줘야 한다.\n",
    "    # 타겟이 중간점 원소보다 크다면 start를 mid 한 칸 뒤로 바꿔 재귀 수행\n",
    "    else:\n",
    "        return binary_search(stores, target, mid+1, end) ## return을 해줘야 한다.\n",
    "\n",
    "# 문의 부품을 돌면서 이진 탐색 수행\n",
    "for want in wants:\n",
    "    print(binary_search(stores, want, 0, N-1), end= ' ')"
   ]
  },
  {
   "attachments": {},
   "cell_type": "markdown",
   "metadata": {},
   "source": [
    "#### 해설 코드 참고"
   ]
  },
  {
   "cell_type": "code",
   "execution_count": null,
   "metadata": {},
   "outputs": [],
   "source": [
    "# 계수 정렬\n",
    "\n",
    "# N(가게의 부품 개수) 입력\n",
    "n = int(input())\n",
    "array = [0] * 1000001\n",
    "\n",
    "# 가게에 있는 전체 부품 번호를 입력받아서 기록\n",
    "for i in input().split():\n",
    "    array[int(i)] = 1\n",
    "    \n",
    "# M(손님이 확인 요청한 부품 개수) 입력\n",
    "m = int(input())\n",
    "# 손님이 확인 요청한 전체 부품 번호를 공백으로 구분하여 입력\n",
    "x = list(map(int, input().split()))\n",
    "\n",
    "# 손님이 확인 요청한 부품 번호를 하나씩 확인\n",
    "for i in x:\n",
    "    # 해당 부품이 존재하는지 확인\n",
    "    if array[i] == 1:\n",
    "        print('yes', end=' ')\n",
    "    else:\n",
    "        print('no', end=' ')"
   ]
  },
  {
   "cell_type": "code",
   "execution_count": null,
   "metadata": {},
   "outputs": [],
   "source": [
    "# set 이용\n",
    "\n",
    "# N(가게의 부품 개수) 입력\n",
    "n = int(input())\n",
    "# 가게에 있는 전체 부품 번호를 입력 받아 set에 기록\n",
    "array = set(map(int, input().split()))\n",
    "\n",
    "# M(손님이 확인 요청한 부품 개수) 입력\n",
    "m = int(input())\n",
    "# 손님이 확인 요청한 전체 부품 번호를 공백으로 구분하여 입력\n",
    "x = list(map(int, input().split()))\n",
    "\n",
    "# 손님이 확인 요청한 부품 번호를 하나씩 확인\n",
    "for i in x:\n",
    "    # 해당 부품이 존재하는지 확인\n",
    "    if i in array:\n",
    "        print('yes', end=' ')\n",
    "    else:\n",
    "        print('no', end=' ')"
   ]
  },
  {
   "attachments": {},
   "cell_type": "markdown",
   "metadata": {},
   "source": [
    "### 떡볶이 떡 만들기 // RE(반례?)"
   ]
  },
  {
   "attachments": {},
   "cell_type": "markdown",
   "metadata": {},
   "source": [
    "#### 제한\n",
    "* 풀이 시간 40분\n",
    "* 시간 제한 2초\n",
    "* 메모리 제한 128MB\n",
    "\n",
    "#### 아이디어\n",
    "* 잘린 떡의 합이 M만큼이 되어야 한다. H는 M의 max값보단 작아야 하겠다.\n",
    "* (기억의 저편) 자르는 높이 H를 이진 탐색해야 했던 것 같다.\n",
    "* H를 이진 탐색하되, 비교 값은 잘린 떡의 길이로 해야 한다."
   ]
  },
  {
   "attachments": {},
   "cell_type": "markdown",
   "metadata": {},
   "source": [
    "#### 시간 복잡도\n",
    "* O(N + Nlog10억)\n",
    "* log10억이 대략 30 정도, N은 최대 1,000,000이므로 약 3,000만번의 연산 필요. 2초 내에 어찌저찌 가능하겠다.\n",
    "\n",
    "#### 해설 본 후\n",
    "* 나는 별 생각없이 반복문으로 구현하긴 했는데, 해설에서 이 문제는 얻을 수 있는 떡볶이 양에 따라 자를 위치를 결정해야 하므로 재귀적으로 구현하는 게 귀찮은 작업이 될 수 있다고 한다. 일반적으로 이런 파라메트릭 서치 유형은 재귀보다는 반복문으로 이진 탐색을 구현하는 게 더 간결한 해결법이라고 한다.\n",
    "* 내 풀이에 반례가 있을 것 같다. '적어도 M만큼의 떡을 얻기 위해 절단기에 설정할 수 있는 높이의 최댓값'을 구하는 것이므로 M을 만족하면서 최대한 덜 잘랐을 때가 정답이므로. (가령, 어떻게 잘라도 M과 똑같을 수 없다면 내 코드는 답을 찾지 못할 것 같다) => 근데 저번 코드 보니까 저번에도 이렇게 풀었다;;"
   ]
  },
  {
   "cell_type": "code",
   "execution_count": 1,
   "metadata": {},
   "outputs": [
    {
     "name": "stdout",
     "output_type": "stream",
     "text": [
      "15\n"
     ]
    }
   ],
   "source": [
    "# 떡의 개수 N, 요청한 떡의 길이 M 입력\n",
    "N, M = map(int, input().split())\n",
    "\n",
    "# 떡의 개별 높이 리스트 입력\n",
    "rc_heights = list(map(int, input().split()))\n",
    "\n",
    "# 시작값을 0, 끝값을 떡의 최고 높이로 설정\n",
    "start = 0\n",
    "end = max(rc_heights)\n",
    "\n",
    "# 이진 탐색 반복문 구현\n",
    "while start <= end:\n",
    "    mid = (start + end) // 2 # 자르는 높이 기준 설정\n",
    "    \n",
    "    # mid의 높이로 잘랐을 때 나오는 떡의 총 길이\n",
    "    cut_rc = sum([i - mid if i >= mid else 0 for i in rc_heights])\n",
    "    \n",
    "    # 잘라 나온 길이가 조건 M과 같다면 멈추고\n",
    "    if cut_rc == M:\n",
    "        break\n",
    "    # 조건보다 크다면 잘라서 나온 총 길이를 줄이기 위해 자르는 높이를 크게 하고\n",
    "    elif cut_rc > M:\n",
    "        start = mid + 1\n",
    "    # 조건보다 작다면 잘라서 나온 총 길이를 늘리기 위해 자르는 높이를 작게 한다\n",
    "    else:\n",
    "        end = mid - 1\n",
    "\n",
    "print(mid)"
   ]
  },
  {
   "attachments": {},
   "cell_type": "markdown",
   "metadata": {},
   "source": [
    "#### 해설 코드 참고"
   ]
  },
  {
   "cell_type": "code",
   "execution_count": null,
   "metadata": {},
   "outputs": [],
   "source": [
    "# 떡의 개수(N)과 요청한 떡의 길이(M)를 입력\n",
    "n, m = list(map(int, input().split()))\n",
    "# 각 떡의 개별 높이 정보를 입력받기\n",
    "array = list(map(int, input().split()))\n",
    "\n",
    "# 이진 탐색을 위한 시작점과 끝점 설정\n",
    "start = 0\n",
    "end = max(array)\n",
    "\n",
    "# 이진 탐색 수행(반복적)\n",
    "result = 0\n",
    "while start <= end:\n",
    "    total = 0\n",
    "    mid = (start + end) // 2\n",
    "    for x in array:\n",
    "        # 잘랐을 때의 떡의 양 계산\n",
    "        if x > mid:\n",
    "            total += x - mid\n",
    "        # 떡의 양이 부족한 경우 더 많이 자르기(왼쪽 부분 탐색)\n",
    "        if total < m:\n",
    "            end = mid - 1\n",
    "        # 떡의 양이 충분한 경우 덜 자르기(오른쪽 부분 탐색)\n",
    "        else:\n",
    "            result = mid # 최대한 덜 잘랐을 때가 정답이므로, 여기에서 result에 기록\n",
    "            start = mid + 1\n",
    "\n",
    "# 정답 출력\n",
    "print(result)"
   ]
  },
  {
   "attachments": {},
   "cell_type": "markdown",
   "metadata": {},
   "source": [
    "## Q27. 정렬된 배열에서 특정 수의 개수 구하기"
   ]
  },
  {
   "attachments": {},
   "cell_type": "markdown",
   "metadata": {},
   "source": [
    "#### 제한\n",
    "* 풀이 시간 30분\n",
    "* 시간 제한 1초\n",
    "* 메모리 제한 128MB\n",
    "\n",
    "#### 아이디어\n",
    "* 문제에서 O(logN)으로 설계하라고 애초에 조건이 주어짐\n",
    "* 그냥 bisect 써서 풀기\n",
    "* 직접 구현하려면 조금 까다로울지도?\n",
    "    * 일단 반복문으로는 같을 때 min, max값 갱신하고 기준 앞 뒤로 다시 다 봐야하는데 그걸 어떻게 해야할지 모르겠어서 재귀함수로 선회\n",
    "    * 재귀함수 쓸 때는 어쨌든 해당 원소의 인덱스를 갱신하기 때문에 bisect 모듈 쓸 때와는 다르게 개수를 신경써서 써줘야함(min과 max의 차이값에 1을 더한 게 실제 개수이며, 해당 원소가 없어서 min, max값이 갱신이 안 된다면 음수가 나오므로 음수일 때 -1을 출력하게 하는 등)"
   ]
  },
  {
   "attachments": {},
   "cell_type": "markdown",
   "metadata": {},
   "source": [
    "#### 시간 복잡도\n",
    "* bisect 쓰면 O(logN)이니 통과.\n",
    "* 직접 짠 코드도 이진 탐색 코드(탐색 범위를 절반씩 줄여나가니까)이므로 O(logN)일 것이다. 통과될듯\n",
    "\n",
    "#### 해설 본 후\n",
    "* bisect를 쓰지 않는 해설 코드에서는 해당 값을 가지는 원소 중 처음 위치를 찾는 함수와 마지막 위치를 찾는 함수 두 개를 만들어서 해결함."
   ]
  },
  {
   "cell_type": "code",
   "execution_count": null,
   "metadata": {},
   "outputs": [],
   "source": [
    "import bisect\n",
    "\n",
    "# 수열의 원소 개수 N, 찾아야 할 숫자 x 입력\n",
    "N, x = map(int, input().split())\n",
    "\n",
    "# 수열 정보 입력\n",
    "array = list(map(int, input().split()))\n",
    "\n",
    "# bisect 모듈 사용하여 x가 들어갈 가장 오른쪽 인덱스와 가장 왼쪽 인덱스의 차이를 계산(x의 개수를 계산)\n",
    "answer = bisect.bisect_right(array, x) - bisect.bisect_left(array, x)\n",
    "\n",
    "# 결과가 0이라면(x가 없다면) -1을 출력, 아니라면 결과값(x의 개수)을 출력\n",
    "print(answer if answer != 0 else -1)"
   ]
  },
  {
   "cell_type": "code",
   "execution_count": 23,
   "metadata": {},
   "outputs": [
    {
     "name": "stdout",
     "output_type": "stream",
     "text": [
      "1\n"
     ]
    }
   ],
   "source": [
    "# 수열의 원소 개수 N, 찾아야 할 숫자 x 입력\n",
    "N, x = map(int, input().split())\n",
    "\n",
    "# 수열 정보 입력\n",
    "array = list(map(int, input().split()))\n",
    "\n",
    "# 찾고자 하는 값의 최소 인덱스, 최대 인덱스 값 초기화\n",
    "min_idx = N\n",
    "max_idx = -1\n",
    "\n",
    "# while start < end:\n",
    "#     print(start, mid, end)\n",
    "#     mid = (start + end) // 2\n",
    "    \n",
    "#     if x == array[mid]:\n",
    "#         min_idx = min(min_idx, mid)\n",
    "#         max_idx = max(max_idx, mid)\n",
    "#     elif x > array[mid]:\n",
    "#         start = mid + 1\n",
    "#     else:\n",
    "#         end = mid - 1\n",
    "        \n",
    "# 이진 탐색 함수 선언\n",
    "def binary_search(array, target, start, end):\n",
    "    # 최소 인덱스와 최대 인덱스 갱신을 위해 전역 변수임을 알려줌\n",
    "    global min_idx, max_idx\n",
    "    \n",
    "    # 시작값이 끝값을 초과하면 함수 중지\n",
    "    if start > end:\n",
    "        return\n",
    "    \n",
    "    # 기준이 되는 중간값 계산\n",
    "    mid = (start + end) // 2\n",
    "    \n",
    "    # 찾고자 하는 값이 mid 값과 같다면\n",
    "    if x == array[mid]:\n",
    "        # 최소 인덱스, 최대 인덱스 갱신\n",
    "        min_idx = min(min_idx, mid)\n",
    "        max_idx = max(max_idx, mid)\n",
    "        # 같은 값이 더 있을 수 있으므로 앞, 뒤 부분 각각 재귀로 탐색\n",
    "        binary_search(array, target, mid+1, end)\n",
    "        binary_search(array, target, start, mid-1)\n",
    "    # 찾고자 하는 값이 mid값보다 크다면 뒷부분 탐색\n",
    "    elif x > array[mid]:\n",
    "        binary_search(array, target, mid+1, end)\n",
    "    # 찾고자 하는 값이 mid값보다 작다면 앞부분 탐색\n",
    "    else:\n",
    "        binary_search(array, target, start, mid-1)\n",
    "\n",
    "# 이진 탐색 함수 실행\n",
    "binary_search(array, x, 0, N-1)\n",
    "\n",
    "# 정답 구하기(음수이면 해당 값이 array 안에 없다는 뜻이므로 -1 출력, 아니라면 최소, 최대 인덱스 간의 차이를 통해 개수 구하여 출력)\n",
    "answer = max_idx - min_idx \n",
    "print(answer + 1 if answer >= 0 else -1)"
   ]
  },
  {
   "attachments": {},
   "cell_type": "markdown",
   "metadata": {},
   "source": [
    "#### 해설 코드 참고"
   ]
  },
  {
   "cell_type": "code",
   "execution_count": null,
   "metadata": {},
   "outputs": [],
   "source": [
    "# 정렬된 수열에서 값이 x인 원소의 개수를 세는 메서드\n",
    "def count_by_value(array, x):\n",
    "    # 데이터의 개수\n",
    "    n = len(array)\n",
    "    \n",
    "    # x가 처음 등장한 인덱스 계산\n",
    "    a = first(array, x, 0, n-1)\n",
    "    \n",
    "    # 수열에 x가 존재하지 않는 경우\n",
    "    if a == None:\n",
    "        return 0 # 값이 x인 원소의 개수는 0개이므로 0 반환\n",
    "    \n",
    "    # x가 마지막으로 등장한 인덱스 계산\n",
    "    b = last(array, x, 0, n-1)\n",
    "    \n",
    "    # 개수를 반환\n",
    "    return b - a + 1\n",
    "\n",
    "# 처음 위치를 찾는 이진 탐색 메서드\n",
    "def first(array, target, start, end):\n",
    "    if start > end:\n",
    "        return None\n",
    "    mid = (start + end) // 2\n",
    "    # 해당 값을 가지는 원소 중에서 가장 왼쪽에 있는 경우에만 인덱스 반환\n",
    "    if (mid == 0 or target > array[mid-1]) and array[mid] == target: ## mid == 0 이 True면 어차피 or로 이어진 다음 조건은 안 보니까 이렇게 짤 수 있는 것.\n",
    "        return mid\n",
    "    # 중간점의 값보다 찾고자 하는 값이 작거나 같은 경우 왼쪽 확인\n",
    "    elif array[mid] >= target: ## 아 위에서 array[mid] == target이지만 다른 조건에서 안 걸렸을 수 있고, 가장 왼쪽의 값을 찾아야하니까 여기에 등호를 추가해주는 거구나.\n",
    "        return first(array, target, start, mid-1)\n",
    "    # 중간점의 값보다 찾고자 하는 값이 큰 경우 오른쪽 확인\n",
    "    else:\n",
    "        return first(array, target, mid+1, end)\n",
    "    \n",
    "# 마지막 위치를 찾는 이진 탐색 메서드\n",
    "def last(array, target, start, end):\n",
    "    if start > end:\n",
    "        return None\n",
    "    mid = (start + end) // 2\n",
    "    # 해당 값을 가지는 원소 중에서 가장 오른쪽에 있는 경우에만 인덱스 반환\n",
    "    if (mid == n-1 or target < array[mid+1]) and array[mid] == target: ## mid == n-1 이 True면 어차피 or로 이어진 다음 조건은 안 보니까 이렇게 짤 수 있는 것.\n",
    "        return mid\n",
    "    # 중간점의 값보다 찾고자 하는 값이 작은 경우 왼쪽 확인\n",
    "    elif array[mid] > target: ## 위에서 array[mid] == target이지만 다른 조건에서 안 걸렸을 수 있고, 가장 오른쪽의 값을 찾아야하니까 여기선 등호 안 걸리게 하고 else에서 등호 걸리도록 함.\n",
    "        return last(array, target, start, mid-1)\n",
    "    # 중간점의 값보다 찾고자 하는 값이 크거나 같은 경우 오른쪽 확인\n",
    "    else:\n",
    "        return last(array, target, mid+1, end)\n",
    "    \n",
    "n, x = map(int, input().split()) # 데이터의 개수 N, 찾고자 하는 값 x 입력\n",
    "array = list(map(int, input().split())) # 전체 데이터 입력\n",
    "\n",
    "# 값이 x인 데이터의 개수 계산\n",
    "count = count_by_value(array, x)\n",
    "\n",
    "# 값이 x인 원소가 존재하지 않는다면\n",
    "if count == 0:\n",
    "    print(-1)\n",
    "# 값이 x인 원소가 존재한다면\n",
    "else:\n",
    "    print(count)"
   ]
  }
 ],
 "metadata": {
  "kernelspec": {
   "display_name": "base",
   "language": "python",
   "name": "python3"
  },
  "language_info": {
   "codemirror_mode": {
    "name": "ipython",
    "version": 3
   },
   "file_extension": ".py",
   "mimetype": "text/x-python",
   "name": "python",
   "nbconvert_exporter": "python",
   "pygments_lexer": "ipython3",
   "version": "3.10.9"
  },
  "orig_nbformat": 4
 },
 "nbformat": 4,
 "nbformat_minor": 2
}
