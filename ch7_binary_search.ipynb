{
 "cells": [
  {
   "attachments": {},
   "cell_type": "markdown",
   "metadata": {},
   "source": [
    "# 07. 이진 탐색"
   ]
  },
  {
   "attachments": {},
   "cell_type": "markdown",
   "metadata": {},
   "source": [
    "## 실전 문제"
   ]
  },
  {
   "attachments": {},
   "cell_type": "markdown",
   "metadata": {},
   "source": [
    "### 부품 찾기"
   ]
  },
  {
   "attachments": {},
   "cell_type": "markdown",
   "metadata": {},
   "source": [
    "#### 제한\n",
    "* 풀이 시간 30분\n",
    "* 시간 제한 1초\n",
    "* 메모리 제한 128MB\n",
    "\n",
    "#### 아이디어\n",
    "* 그냥 반복문 돌리면 O(N*M)으로 1초 내에 해결 불가능"
   ]
  },
  {
   "attachments": {},
   "cell_type": "markdown",
   "metadata": {},
   "source": [
    "#### 시간 복잡도\n",
    "* O(NlogN + MlogN)\n",
    "* M은 최대 100,000이고, N은 최대 1,000,000이다.\n",
    "* 해설에선 이렇게 하면 된다고는 하는데 최악의 경우에도 시간 초과가 안 나려나..?\n",
    "\n",
    "#### 해설 본 후\n",
    "* 계수 정렬이나 set을 이용하는 방법도 있다."
   ]
  },
  {
   "cell_type": "code",
   "execution_count": 5,
   "metadata": {},
   "outputs": [
    {
     "name": "stdout",
     "output_type": "stream",
     "text": [
      "no yes yes "
     ]
    }
   ],
   "source": [
    "# 매장에 있는 부품 종류 N 입력\n",
    "N = int(input())\n",
    "\n",
    "# 매장 부품 정보 입력\n",
    "stores = list(map(int, input().split()))\n",
    "\n",
    "# 문의 부품 종류 M 입력\n",
    "M = int(input())\n",
    "\n",
    "# 문의 부품 정보 입력\n",
    "wants = list(map(int, input().split()))\n",
    "\n",
    "# 이진 탐색을 활용하기 위해 매장 부품 정보를 오름차순으로 정렬\n",
    "stores.sort()\n",
    "\n",
    "# 이진 탐색 함수 선언\n",
    "def binary_search(stores, target, start, end):\n",
    "    # 시작점이 끝점보다 크면(전부 찾았는데 해당 부품이 없으면) 'no' 리턴\n",
    "    if start > end:\n",
    "        return 'no'\n",
    "    \n",
    "    # 중간점 설정\n",
    "    mid = (start + end) // 2\n",
    "    \n",
    "    # 타겟이 중간점 원소와 같다면 'yes' 리턴\n",
    "    if target == stores[mid]:\n",
    "        return 'yes'\n",
    "    # 타겟이 중간점 원소보다 작다면 end를 mid 한 칸 앞으로 바꿔 재귀 수행\n",
    "    elif target < stores[mid]:\n",
    "        return binary_search(stores, target, start, mid-1) ## return을 해줘야 한다.\n",
    "    # 타겟이 중간점 원소보다 크다면 start를 mid 한 칸 뒤로 바꿔 재귀 수행\n",
    "    else:\n",
    "        return binary_search(stores, target, mid+1, end) ## return을 해줘야 한다.\n",
    "\n",
    "# 문의 부품을 돌면서 이진 탐색 수행\n",
    "for want in wants:\n",
    "    print(binary_search(stores, want, 0, N-1), end= ' ')"
   ]
  },
  {
   "attachments": {},
   "cell_type": "markdown",
   "metadata": {},
   "source": [
    "#### 해설 코드 참고"
   ]
  },
  {
   "cell_type": "code",
   "execution_count": null,
   "metadata": {},
   "outputs": [],
   "source": [
    "# 계수 정렬\n",
    "\n",
    "# N(가게의 부품 개수) 입력\n",
    "n = int(input())\n",
    "array = [0] * 1000001\n",
    "\n",
    "# 가게에 있는 전체 부품 번호를 입력받아서 기록\n",
    "for i in input().split():\n",
    "    array[int(i)] = 1\n",
    "    \n",
    "# M(손님이 확인 요청한 부품 개수) 입력\n",
    "m = int(input())\n",
    "# 손님이 확인 요청한 전체 부품 번호를 공백으로 구분하여 입력\n",
    "x = list(map(int, input().split()))\n",
    "\n",
    "# 손님이 확인 요청한 부품 번호를 하나씩 확인\n",
    "for i in x:\n",
    "    # 해당 부품이 존재하는지 확인\n",
    "    if array[i] == 1:\n",
    "        print('yes', end=' ')\n",
    "    else:\n",
    "        print('no', end=' ')"
   ]
  },
  {
   "cell_type": "code",
   "execution_count": null,
   "metadata": {},
   "outputs": [],
   "source": [
    "# set 이용\n",
    "\n",
    "# N(가게의 부품 개수) 입력\n",
    "n = int(input())\n",
    "# 가게에 있는 전체 부품 번호를 입력 받아 set에 기록\n",
    "array = set(map(int, input().split()))\n",
    "\n",
    "# M(손님이 확인 요청한 부품 개수) 입력\n",
    "m = int(input())\n",
    "# 손님이 확인 요청한 전체 부품 번호를 공백으로 구분하여 입력\n",
    "x = list(map(int, input().split()))\n",
    "\n",
    "# 손님이 확인 요청한 부품 번호를 하나씩 확인\n",
    "for i in x:\n",
    "    # 해당 부품이 존재하는지 확인\n",
    "    if i in array:\n",
    "        print('yes', end=' ')\n",
    "    else:\n",
    "        print('no', end=' ')"
   ]
  },
  {
   "attachments": {},
   "cell_type": "markdown",
   "metadata": {},
   "source": [
    "### 떡볶이 떡 만들기"
   ]
  },
  {
   "attachments": {},
   "cell_type": "markdown",
   "metadata": {},
   "source": [
    "#### 제한\n",
    "* 풀이 시간 40분\n",
    "* 시간 제한 2초\n",
    "* 메모리 제한 128MB\n",
    "\n",
    "#### 아이디어\n",
    "* "
   ]
  },
  {
   "attachments": {},
   "cell_type": "markdown",
   "metadata": {},
   "source": [
    "#### 시간 복잡도\n",
    "* \n",
    "\n",
    "#### 해설 본 후\n",
    "* "
   ]
  },
  {
   "cell_type": "code",
   "execution_count": null,
   "metadata": {},
   "outputs": [],
   "source": []
  }
 ],
 "metadata": {
  "kernelspec": {
   "display_name": "base",
   "language": "python",
   "name": "python3"
  },
  "language_info": {
   "codemirror_mode": {
    "name": "ipython",
    "version": 3
   },
   "file_extension": ".py",
   "mimetype": "text/x-python",
   "name": "python",
   "nbconvert_exporter": "python",
   "pygments_lexer": "ipython3",
   "version": "3.10.9"
  },
  "orig_nbformat": 4
 },
 "nbformat": 4,
 "nbformat_minor": 2
}
