{
 "cells": [
  {
   "attachments": {},
   "cell_type": "markdown",
   "metadata": {},
   "source": [
    "# 8. 다이나믹 프로그래밍"
   ]
  },
  {
   "attachments": {},
   "cell_type": "markdown",
   "metadata": {},
   "source": [
    "## 실전 문제"
   ]
  },
  {
   "attachments": {},
   "cell_type": "markdown",
   "metadata": {},
   "source": [
    "### 1로 만들기 // RE(풀이 시간 초과)"
   ]
  },
  {
   "attachments": {},
   "cell_type": "markdown",
   "metadata": {},
   "source": [
    "#### 제한\n",
    "* 풀이 시간 20분\n",
    "* 시간 제한 1초\n",
    "* 메모리 제한 128MB\n",
    "\n",
    "#### 아이디어\n",
    "* 5 나누기 한 것, 3 나누기 한 것, 2 나누기 한 것, 1 뺀 것 중 가능한 것을 모두 구해 그 중 가장 작은 값에 1을 더한 것이 해당 숫자의 최소 연산 수행 값이 된다."
   ]
  },
  {
   "attachments": {},
   "cell_type": "markdown",
   "metadata": {},
   "source": [
    "#### 시간 복잡도\n",
    "* min(cand)는 원소가 최대 4개 뿐이므로 상수 시간이 걸린다.\n",
    "* 즉 반복문만 생각하면 되므로 O(N)이 되고, 여기서 N은 X를 의미하며, X는 최대 30,000이므로 1초 안에 해결이 가능하다.\n",
    "\n",
    "#### 해설 본 후\n",
    "* 굳이 2, 3, 5일 때 값을 주지 않아도 로직에 의해 알아서 들어간다. 생각을 잘 해보자."
   ]
  },
  {
   "cell_type": "code",
   "execution_count": null,
   "metadata": {},
   "outputs": [],
   "source": [
    "'''\n",
    "숫자 - 연산\n",
    "1 - 0\n",
    "2 - 1\n",
    "3 - 1\n",
    "4 - 2 // 3-1 2-1\n",
    "5 - 1\n",
    "6 - 2 // 5-1 3-1- 2-1\n",
    "7 - 3 // 6-\n",
    "8 - 3 // 4-2-1\n",
    "9 - 2 //\n",
    "\n",
    "5로 나눠지면 1 + d[X//5]\n",
    "3으로 나눠지면 1 + d[X//3]\n",
    "2로 나눠지면 1 + d[X//2]\n",
    "안 나눠지면 1 + d[X-1]\n",
    "'''"
   ]
  },
  {
   "cell_type": "code",
   "execution_count": 12,
   "metadata": {},
   "outputs": [
    {
     "name": "stdout",
     "output_type": "stream",
     "text": [
      "3\n"
     ]
    }
   ],
   "source": [
    "# X 입력\n",
    "X = int(input())\n",
    "\n",
    "# 1부터 X까지의 정답 값을 구하기 위한 dp table 초기화\n",
    "dp_table = [0] * (X+1)\n",
    "# dp_table[2] = 1\n",
    "# dp_table[3] = 1\n",
    "# dp_table[5] = 1\n",
    "\n",
    "# 2부터 X까지 돌면서\n",
    "for i in range(2, X+1):\n",
    "    # 가장 적은 연산을 찾기 위해 후보군을 담을 리스트 선언\n",
    "    cand = []\n",
    "    # 5로 나누어 떨어진다면 해당 수에서 5로 나눈 몫에 해당하는 수의 답에 1을 더해서 리스트에 삽입\n",
    "    if i % 5 == 0:\n",
    "        cand.append(1 + dp_table[i//5])\n",
    "    # 3로 나누어 떨어진다면 해당 수에서 3로 나눈 몫에 해당하는 수의 답에 1을 더해서 리스트에 삽입\n",
    "    if i % 3 == 0:\n",
    "        cand.append(1 + dp_table[i//3])\n",
    "    # 2로 나누어 떨어진다면 해당 수에서 2로 나눈 몫에 해당하는 수의 답에 1을 더해서 리스트에 삽입\n",
    "    if i % 2 == 0:\n",
    "        cand.append(1 + dp_table[i//2])\n",
    "    # 2, 3, 5로 나누어 떨어지지 않는다면 해당 수에서 1을 뺀 값에 해당하는 수의 답에 1을 더해서 리스트에 삽입\n",
    "    cand.append(1 + dp_table[i-1])\n",
    "    \n",
    "    # 후보군 중에서 가장 작은 값을 해당 수의 정답 값으로 설정\n",
    "    dp_table[i] = min(cand)\n",
    "\n",
    "# X의 정답값 출력\n",
    "print(dp_table[X])"
   ]
  },
  {
   "cell_type": "code",
   "execution_count": null,
   "metadata": {},
   "outputs": [],
   "source": []
  }
 ],
 "metadata": {
  "kernelspec": {
   "display_name": "base",
   "language": "python",
   "name": "python3"
  },
  "language_info": {
   "codemirror_mode": {
    "name": "ipython",
    "version": 3
   },
   "file_extension": ".py",
   "mimetype": "text/x-python",
   "name": "python",
   "nbconvert_exporter": "python",
   "pygments_lexer": "ipython3",
   "version": "3.10.9"
  },
  "orig_nbformat": 4
 },
 "nbformat": 4,
 "nbformat_minor": 2
}
