{
 "cells": [
  {
   "cell_type": "markdown",
   "metadata": {},
   "source": [
    "# 09. 최단 경로"
   ]
  },
  {
   "cell_type": "markdown",
   "metadata": {},
   "source": [
    "## 실전 문제"
   ]
  },
  {
   "cell_type": "markdown",
   "metadata": {},
   "source": [
    "### 미래 도시"
   ]
  },
  {
   "cell_type": "markdown",
   "metadata": {},
   "source": [
    "#### 제한\n",
    "* 풀이 시간 40분\n",
    "* 시간 제한 1초\n",
    "* 메모리 제한 128MB\n",
    "\n",
    "#### 아이디어\n",
    "* 1 -> K -> X 순으로 최단 거리로 가야함\n",
    "* 1에서 K로 가는 최단 거리, K에서 X로 가는 최단 거리를 각각 다익스트라 알고리즘을 이용해 구해서 더하면 될 것 같다.\n",
    "* 양방향 그래프였다. 문제를 꼼꼼히 읽자."
   ]
  },
  {
   "cell_type": "markdown",
   "metadata": {},
   "source": [
    "#### 시간 복잡도\n",
    "* 다익스트라를 사용했으므로 O(ElogV).\n",
    "* E는 M, V는 N이고 N, M은 각각 최대 100이므로 시간 내에 해결이 가능\n",
    "\n",
    "#### 해설 본 후\n",
    "* 플로이드 워셜로 해도 되는구나. 1 -> K, K -> X의 최단 거리를 알면 되는 거고, N도 최대 100으로 조건도 널널하니까."
   ]
  },
  {
   "cell_type": "code",
   "execution_count": 13,
   "metadata": {},
   "outputs": [
    {
     "name": "stdout",
     "output_type": "stream",
     "text": [
      "-1\n"
     ]
    }
   ],
   "source": [
    "## 다익스트라로 해결\n",
    "\n",
    "# 다익스트라 알고리즘에 사용하기 위해 우선순위큐를 제공하는 heapq를 임포트\n",
    "import heapq\n",
    "\n",
    "# 전체 회사 수 N과 전체 경로 수 M 입력\n",
    "N, M = map(int, input().split())\n",
    "\n",
    "# 연결된 두 회사 입력 받아 양방향 그래프에 넣기\n",
    "graph = [[] for _ in range(N+1)]\n",
    "\n",
    "for _ in range(M):\n",
    "    a, b = map(int, input().split())\n",
    "    graph[a].append(b)\n",
    "    graph[b].append(a)\n",
    "\n",
    "# 경유할 회사 K와 목적지 X 입력\n",
    "X, K = map(int, input().split())\n",
    "\n",
    "# 무한대 대신 사용할 값 지정\n",
    "INF = int(1e9)\n",
    "\n",
    "# 다익스트라 알고리즘 선언\n",
    "def dijkstra(start, end):\n",
    "    # 최단 거리 테이블 선언 및 초기화(시작값은 0, 나머지는 INF로)\n",
    "    shortest = [INF] * (N+1)\n",
    "    shortest[start] = 0\n",
    "    \n",
    "    # 우선순위큐 선언하고 시작값 삽입\n",
    "    q = []\n",
    "    heapq.heappush(q, (0, start))\n",
    "    \n",
    "    # 큐에 원소가 없을 때까지 반복\n",
    "    while q:\n",
    "        # 최단 거리인 노드를 큐에서 꺼냄\n",
    "        dist, now = heapq.heappop(q)\n",
    "        \n",
    "        # 이미 처리된 노드라면 넘김\n",
    "        if dist > shortest[now]:\n",
    "            continue\n",
    "        \n",
    "        # 현재 확인하는 노드와 연결된 노드(다음 노드)를 모두 체크하기 위해 반복\n",
    "        for next in graph[now]:\n",
    "            # 시작 노드에서 현재 확인 노드를 경유하여 다음 노드로 넘어갈 때의 비용 선언\n",
    "            cost = shortest[now] + 1 ## 여기가 cost = dist + 1 이 되어야 하는 것 같은데 이렇게 해도 정답이 나온다. 어차피 해당 순간엔 같은 값이기 때문에. (직전 반복에서 cost를 shortest에 업데이트하고, 큐에는 그 cost를 집어넣으니까 같은 값일 수밖에 없음)\n",
    "            \n",
    "            # 해당 비용이 다음 노드의 기존 최단 거리보다 작다면\n",
    "            if cost < shortest[next]:\n",
    "                # 기존 최단 거리를 해당 비용으로 갱신하고 우선순위큐에 다음 노드를 삽입\n",
    "                shortest[next] = cost\n",
    "                heapq.heappush(q, (cost, next))\n",
    "    \n",
    "    # start 노드에서 end 노드로 가는 최단 거리를 리턴\n",
    "    return shortest[end]\n",
    "\n",
    "# 1에서 K, K에서 X로 가는 최단 거리를 다익스트라 알고리즘을 통해 구한 뒤 더하여 정답 선언\n",
    "answer = dijkstra(1, K) + dijkstra(K, X)\n",
    "# 정답 값이 INF 이상이라면 도달할 수 없는 것이므로 -1 출력\n",
    "if answer >= INF:\n",
    "    print(-1)\n",
    "# 아니라면 정답 값을 출력\n",
    "else:\n",
    "    print(answer)\n",
    "\n",
    "## 다른 방식으로 정답 체크\n",
    "# start_to_k = dijkstra(1, K)\n",
    "# k_to_x = dijkstra(K, X)\n",
    "\n",
    "# if start_to_k == INF:\n",
    "#     print(-1)\n",
    "# elif k_to_x == INF:\n",
    "#     print(-1)\n",
    "# else:\n",
    "#     print(start_to_k + k_to_x)"
   ]
  },
  {
   "cell_type": "code",
   "execution_count": 20,
   "metadata": {},
   "outputs": [
    {
     "name": "stdout",
     "output_type": "stream",
     "text": [
      "-1\n"
     ]
    }
   ],
   "source": [
    "## 플로이드 워셜로 해결\n",
    "\n",
    "# 전체 회사 수 N과 전체 경로 수 M 입력\n",
    "N, M = map(int, input().split())\n",
    "\n",
    "# 최단 거리 담을 이차원 리스트 선언\n",
    "shortest = [[INF] * (N+1) for _ in range(N+1)]\n",
    "\n",
    "# 자기 자신과의 거리는 0으로 초기화\n",
    "for i in range(N+1):\n",
    "    shortest[i][i] = 0\n",
    "\n",
    "# 서로 연결되어 있다면 양방향으로 거리를 1로 초기화\n",
    "for _ in range(M):\n",
    "    a, b = map(int, input().split())\n",
    "    shortest[a][b] = 1\n",
    "    shortest[b][a] = 1\n",
    "\n",
    "# 경유할 회사 K와 목적지 X 입력\n",
    "X, K = map(int, input().split())\n",
    "\n",
    "# 무한대 대신 사용할 값 지정\n",
    "INF = int(1e9)\n",
    "\n",
    "# 플로이드 워셜 알고리즘 진행\n",
    "for k in range(1, N+1):\n",
    "    for a in range(1, N+1):\n",
    "        for b in range(1, N+1):\n",
    "            shortest[a][b] = min(shortest[a][b], shortest[a][k] + shortest[k][b])\n",
    "\n",
    "# 정답 선언\n",
    "answer = shortest[1][K] + shortest[K][X]\n",
    "\n",
    "# 정답 값이 INF 이상이라면 도달할 수 없는 것이므로 -1 출력\n",
    "if answer >= INF:\n",
    "    print(-1)\n",
    "# 아니라면 정답 값을 출력\n",
    "else:\n",
    "    print(answer)"
   ]
  },
  {
   "cell_type": "markdown",
   "metadata": {},
   "source": [
    "### 전보"
   ]
  },
  {
   "cell_type": "markdown",
   "metadata": {},
   "source": [
    "#### 제한\n",
    "* 풀이 시간 60분\n",
    "* 시간 제한 1초\n",
    "* 메모리 제한 128MB\n",
    "\n",
    "#### 아이디어\n",
    "* 도시 개수가 최대 30,000이라 플로이드 워셜은 어려울 것 같다.\n",
    "* 다익스트라 알고리즘을 통해 한 도시를 기점으로 몇 개의 다른 도시를 갈 수 있는지 + 그 중 가장 오래 걸리는 도시까지는 얼마나 걸리는지를 구하면 될 듯?\n",
    "* 메시지를 받은 도시에서 자기 자신은 빼야 한다."
   ]
  },
  {
   "cell_type": "markdown",
   "metadata": {},
   "source": [
    "#### 시간 복잡도\n",
    "* 다익스트라를 사용했으므로 O(ElogV)\n",
    "* E는 N에 해당하며 N은 최대 30,000이고, V는 M에 해당하며 M은 최대 200,000이다. 1초 내에 해결이 가능할 것으로 보인다.\n",
    "\n",
    "#### 해설 본 후\n",
    "* 내 코드에서의 cost = shortest[now] + next[1] 를 답지에선 cost = dist + next[1] 로 하긴 하는데, 어차피 두 값은 같다.\n",
    "* result 리스트를 따로 만들어서 len, max까지 세 번 O(N)의 일을 할 게 아니라, count 변수와 max_dist 변수를 만들어 for문 하나에서 갱신하며 처리하는 게 O(N) 한 번이므로 더 효율적이다."
   ]
  },
  {
   "cell_type": "code",
   "execution_count": 7,
   "metadata": {},
   "outputs": [
    {
     "name": "stdout",
     "output_type": "stream",
     "text": [
      "2 4\n"
     ]
    }
   ],
   "source": [
    "import heapq\n",
    "\n",
    "# 도시 개수 N, 통로 개수 M, 메시지 시작 도시 C 입력\n",
    "N, M, C = map(int, input().split())\n",
    "\n",
    "# 통로 및 메시지 전달 시간 입력\n",
    "graph = [[] for _ in range(N+1)]\n",
    "\n",
    "for _ in range(M):\n",
    "    X, Y, Z = map(int, input().split())\n",
    "    # X 도시에서 Y도시로 메시지를 보내는 시간이 Z만큼 걸림\n",
    "    graph[X].append((Y, Z))\n",
    "\n",
    "# 최단 거리 테이블을 초기화하기 위한 큰 값을 INF라는 변수에 선언\n",
    "INF = int(1e9)\n",
    "\n",
    "# 시작 노드와의 최단 거리를 담은 리스트인 최단 거리 테이블 생성 및 초기화\n",
    "shortest = [INF] * (N+1)\n",
    "\n",
    "# 다익스트라 알고리즘 선언\n",
    "def dijkstra(start):\n",
    "    \n",
    "    # 시작 위치의 최단 거리를 0으로 초기화\n",
    "    shortest[start] = 0\n",
    "    \n",
    "    # 우선순위큐 선언 및 시작 위치 삽입\n",
    "    q = []\n",
    "    heapq.heappush(q, (0, start))\n",
    "    \n",
    "    # 큐에 원소가 없을 때까지 반복\n",
    "    while q:\n",
    "        # 큐에서 거리가 가장 가까운 원소를 꺼냄\n",
    "        dist, now = heapq.heappop(q)\n",
    "        \n",
    "        # 확인하는 노드의 거리가 시작 노드와의 최단 거리보다 크다면(확인해서 최단 거리를 이미 갱신했던 노드라면) 무시\n",
    "        if shortest[now] < dist:\n",
    "            continue\n",
    "        \n",
    "        # 확인하는 노드와 연결된 노드를 모두 확인하며\n",
    "        for next in graph[now]:\n",
    "            # 확인하는 노드를 거쳐 연결된 노드로 가는 최단 거리를 계산\n",
    "            cost = shortest[now] + next[1] ## cost = dist + next[1]\n",
    "                        \n",
    "            # 해당 거리가 시작 노드에서 연결된 노드로 가는 거리보다 짧다면\n",
    "            if cost < shortest[next[0]]:\n",
    "                # 시작 노드에서 연결 노드로 가는 최단 거리를 갱신하고 최단 거리와 연결 노드를 큐에 삽입\n",
    "                shortest[next[0]] = cost\n",
    "                heapq.heappush(q, (cost, next[0]))\n",
    "\n",
    "# 다익스트라 알고리즘 실행\n",
    "dijkstra(C)\n",
    "\n",
    "# 정답 계산을 위해 리스트 선언\n",
    "result = []\n",
    "# 최단 거리 테이블을 확인하며\n",
    "for i in shortest:\n",
    "    # 최단 거리가 INF보다 작다면(갱신이 되어 해당 도시에 도달할 수 있다고 확인되었으면) 리스트에 추가\n",
    "    if i < INF:\n",
    "        result.append(i)\n",
    "\n",
    "# 메시지가 도달한 도시의 수를 계산하기 위해 리스트의 전체 길이에서 자기 자신 하나를 뺀 길이를 계산하고,\n",
    "# 도시들이 모두 메시지를 받는 데 걸리는 시간을 확인하기 위해 도달하기까지 가장 오랜 시간이 걸린 도시의 최단 거리를 max()로 구함\n",
    "print(len(result)-1, max(result))\n",
    "\n",
    "## 정답 계산 답지 부분\n",
    "\n",
    "# # 도달할 수 있는 노드의 개수\n",
    "# count = 0\n",
    "# # 도달할 수 있는 노드 중에서, 가장 멀리 있는 노드와의 최단 거리\n",
    "# max_dist = 0\n",
    "# for d in shortest:\n",
    "#     # 도달할 수 있는 노드인 경우\n",
    "#     if d != INF:\n",
    "#         count += 1\n",
    "#         max_dist = max(max_dist, d)\n",
    "\n",
    "# # 시작 노드는 제외해야 하므로 count - 1 출력\n",
    "# print(count-1, max_dist)"
   ]
  },
  {
   "cell_type": "markdown",
   "metadata": {},
   "source": [
    "## Q37. 플로이드\n",
    "https://www.acmicpc.net/problem/11404"
   ]
  },
  {
   "cell_type": "markdown",
   "metadata": {},
   "source": [
    "#### 제한\n",
    "* 풀이 시간 40분\n",
    "* 시간 제한 1초\n",
    "* 메모리 제한 256MB\n",
    "\n",
    "#### 아이디어\n",
    "* 문제 이름대로 플로이드 워셜 알고리즘을 사용하자\n",
    "* (생각 + 기억의 저편) '시작 도시와 도착 도시를 연결하는 노선은 하나가 아닐 수 있습니다.' => 그래프 구성할 때 min을 이용하여 최소 비용인 경우를 넣어야 한다.\n",
    "* 인덱스 조심 좀 해라.\n",
    "* input()을 사용하면 많이 느리다. sys.stdin.readline()을 쓰면 훨씬 효율적이다."
   ]
  },
  {
   "cell_type": "markdown",
   "metadata": {},
   "source": [
    "#### 시간 복잡도\n",
    "* O(n^3)\n",
    "* n은 최대 100이므로 충분하다.\n",
    "\n",
    "#### 해설 본 후\n",
    "* 잘 풀었다."
   ]
  },
  {
   "cell_type": "code",
   "execution_count": 11,
   "metadata": {},
   "outputs": [
    {
     "name": "stdout",
     "output_type": "stream",
     "text": [
      "0 2 3 1 4 \n",
      "12 0 15 2 5 \n",
      "8 5 0 1 1 \n",
      "10 7 13 0 3 \n",
      "7 4 10 6 0 \n"
     ]
    }
   ],
   "source": [
    "# 시간이 애매하다면 sys.stdin.readline()을 활용하는 것도 방법.\n",
    "\n",
    "# 도시의 개수 n 입력\n",
    "n = int(input())\n",
    "\n",
    "# 버스의 개수 m 입력\n",
    "m = int(input())\n",
    "\n",
    "# 무한에 해당하는 큰 수를 INF로 정의\n",
    "INF = int(1e9)\n",
    "\n",
    "# 버스 노선 정보 입력\n",
    "graph = [[INF] * (n+1) for _ in range(n+1)]\n",
    "for _ in range(m):\n",
    "    a, b, c = map(int, input().split())\n",
    "    graph[a][b] = min(graph[a][b], c)\n",
    "\n",
    "# 자기 자신으로의 비용은 0으로 초기화\n",
    "## 실제값을 받기 전에 이걸 먼저 해주는 게 좋을듯. 혹시 자기 자신으로 가는 경로가 있을 수 있으니까?\n",
    "for i in range(n+1):\n",
    "    graph[i][i] = 0\n",
    "\n",
    "# 플로이드 워셜 알고리즘 수행\n",
    "for k in range(1, n+1):\n",
    "    for a in range(1, n+1):\n",
    "        for b in range(1, n+1):\n",
    "            graph[a][b] = min(graph[a][b], graph[a][k] + graph[k][b])\n",
    "\n",
    "# 플로이드 워셜을 결과를 전부 확인하며\n",
    "for i in range(1, n+1):\n",
    "    for j in range(1, n+1):\n",
    "        # INF인 경우(도달하지 못한 경우)는 0, 아닌 경우는 값을 출력\n",
    "        print(graph[i][j] if graph[i][j] != INF else 0, end=' ')\n",
    "    # 줄 바꿈\n",
    "    print()"
   ]
  },
  {
   "cell_type": "markdown",
   "metadata": {},
   "source": [
    "## Q38. 정확한 순위"
   ]
  },
  {
   "cell_type": "markdown",
   "metadata": {},
   "source": [
    "#### 제한\n",
    "* 풀이 시간 40분\n",
    "* 시간 제한 5초\n",
    "* 메모리 제한 128MB\n",
    "\n",
    "#### 아이디어\n",
    "* 자기 자신에서 다른 모든 학생과 성적 비교될 수 있으면(노드가 연결되어 있으면) 순위를 정확히 알 수 있음\n",
    "* 제한 시간이 5초로 널널하므로 플로이드 시도\n",
    "* => 플로이드 결과 리스트에서 해당 학생 번호의 행, 열을 모두 확인하여 모든 학생과 크든 작든 비교가 됐다면 순위를 특정 가능"
   ]
  },
  {
   "cell_type": "markdown",
   "metadata": {},
   "source": [
    "#### 시간 복잡도\n",
    "* 플로이드 워셜 알고리즘을 사용하여 O(N^3)\n",
    "* N은 최대 500이므로 5초 내에 해결 가능하다.\n",
    "\n",
    "#### 해설 본 후\n",
    "* 잘 풀었다."
   ]
  },
  {
   "cell_type": "code",
   "execution_count": 4,
   "metadata": {},
   "outputs": [
    {
     "name": "stdout",
     "output_type": "stream",
     "text": [
      "1\n"
     ]
    }
   ],
   "source": [
    "# 학생 수 N, 성적 비교 횟수 M 입력\n",
    "N, M = map(int, input().split())\n",
    "\n",
    "# 10만을 무한에 해당하는 값으로 선언\n",
    "INF = int(1e9)\n",
    "\n",
    "# 성적 비교 결과 정보 입력(몇 번 비교해야 다른 학생에 도달할 수 있는지)\n",
    "graph = [[INF] * (N+1) for _ in range(N+1)]\n",
    "for _ in range(M):\n",
    "    A, B = map(int, input().split())\n",
    "    graph[A][B] = 1\n",
    "\n",
    "# 자기 자신과의 비교(0으로 초기화)\n",
    "for i in range(1, N+1):\n",
    "    graph[i][i] = 0\n",
    "\n",
    "# 플로이드 워셜 알고리즘 수행\n",
    "for k in range(1, N+1):\n",
    "    for a in range(1, N+1):\n",
    "        for b in range(1, N+1):\n",
    "            graph[a][b] = min(graph[a][b], graph[a][k] + graph[k][b])\n",
    "            \n",
    "## 위와 같이 하면 graph의 결과는 총 몇 번의 비교를 통해 A번 학생과 B번 학생의 성적을 비교할 수 있는지가 담기게 됨.\n",
    "## INF의 경우 해당 학생 간의 비교가 불가능한 경우고, 0인 경우는 자기 자신과의 비교인데 이는 비교가 가능하다고 처리한 셈.\n",
    "\n",
    "## 전체 학생 수에서 다른 모든 학생과의 비교는 불가능한 학생(순위를 특정할 수 없는 학생)을 빼서 정답을 구함 \n",
    "# 전체 학생 수를 정답값으로 초기화\n",
    "answer = N\n",
    "# 특정 학생(t)이 다른 모든 학생(i)과 성적 비교가 가능한지 체크하기 위해 모든 학생에 대해 반복\n",
    "for t in range(1, N+1):\n",
    "    for i in range(1, N+1):\n",
    "        # 서로 성적 비교한 기록이 없다면 순위를 특정할 수 없는 학생이므로 정답값에서 1을 빼주고 다음 학생을 체크하기 위해 break를 통해 다음 반복으로 넘어감\n",
    "        if graph[t][i] == INF and graph[i][t] == INF:\n",
    "          answer -= 1\n",
    "          break\n",
    "\n",
    "# 정답 출력\n",
    "print(answer)"
   ]
  }
 ],
 "metadata": {
  "kernelspec": {
   "display_name": "base",
   "language": "python",
   "name": "python3"
  },
  "language_info": {
   "codemirror_mode": {
    "name": "ipython",
    "version": 3
   },
   "file_extension": ".py",
   "mimetype": "text/x-python",
   "name": "python",
   "nbconvert_exporter": "python",
   "pygments_lexer": "ipython3",
   "version": "3.10.9"
  },
  "orig_nbformat": 4
 },
 "nbformat": 4,
 "nbformat_minor": 2
}
