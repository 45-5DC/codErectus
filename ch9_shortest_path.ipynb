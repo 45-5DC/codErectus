{
 "cells": [
  {
   "cell_type": "markdown",
   "metadata": {},
   "source": [
    "# 09. 최단 경로"
   ]
  },
  {
   "cell_type": "markdown",
   "metadata": {},
   "source": [
    "## 실전 문제"
   ]
  },
  {
   "cell_type": "markdown",
   "metadata": {},
   "source": [
    "### 미래 도시"
   ]
  },
  {
   "cell_type": "markdown",
   "metadata": {},
   "source": [
    "#### 제한\n",
    "* 풀이 시간 40분\n",
    "* 시간 제한 1초\n",
    "* 메모리 제한 128MB\n",
    "\n",
    "#### 아이디어\n",
    "* 1 -> K -> X 순으로 최단 거리로 가야함\n",
    "* 1에서 K로 가는 최단 거리, K에서 X로 가는 최단 거리를 각각 다익스트라 알고리즘을 이용해 구해서 더하면 될 것 같다.\n",
    "* 양방향 그래프였다. 문제를 꼼꼼히 읽자."
   ]
  },
  {
   "cell_type": "markdown",
   "metadata": {},
   "source": [
    "#### 시간 복잡도\n",
    "* 다익스트라를 사용했으므로 O(ElogV).\n",
    "* E는 M, V는 N이고 N, M은 각각 최대 100이므로 시간 내에 해결이 가능\n",
    "\n",
    "#### 해설 본 후\n",
    "* 플로이드 워셜로 해도 되는구나. 1 -> K, K -> X의 최단 거리를 알면 되는 거고, N도 최대 100으로 조건도 널널하니까."
   ]
  },
  {
   "cell_type": "code",
   "execution_count": 13,
   "metadata": {},
   "outputs": [
    {
     "name": "stdout",
     "output_type": "stream",
     "text": [
      "-1\n"
     ]
    }
   ],
   "source": [
    "## 다익스트라로 해결\n",
    "\n",
    "# 다익스트라 알고리즘에 사용하기 위해 우선순위큐를 제공하는 heapq를 임포트\n",
    "import heapq\n",
    "\n",
    "# 전체 회사 수 N과 전체 경로 수 M 입력\n",
    "N, M = map(int, input().split())\n",
    "\n",
    "# 연결된 두 회사 입력 받아 양방향 그래프에 넣기\n",
    "graph = [[] for _ in range(N+1)]\n",
    "\n",
    "for _ in range(M):\n",
    "    a, b = map(int, input().split())\n",
    "    graph[a].append(b)\n",
    "    graph[b].append(a)\n",
    "\n",
    "# 경유할 회사 K와 목적지 X 입력\n",
    "X, K = map(int, input().split())\n",
    "\n",
    "# 무한대 대신 사용할 값 지정\n",
    "INF = int(1e9)\n",
    "\n",
    "# 다익스트라 알고리즘 선언\n",
    "def dijkstra(start, end):\n",
    "    # 최단 거리 테이블 선언 및 초기화(시작값은 0, 나머지는 INF로)\n",
    "    shortest = [INF] * (N+1)\n",
    "    shortest[start] = 0\n",
    "    \n",
    "    # 우선순위큐 선언하고 시작값 삽입\n",
    "    q = []\n",
    "    heapq.heappush(q, (0, start))\n",
    "    \n",
    "    # 큐에 원소가 없을 때까지 반복\n",
    "    while q:\n",
    "        # 최단 거리인 노드를 큐에서 꺼냄\n",
    "        dist, now = heapq.heappop(q)\n",
    "        \n",
    "        # 이미 처리된 노드라면 넘김\n",
    "        if dist > shortest[now]:\n",
    "            continue\n",
    "        \n",
    "        # 현재 확인하는 노드와 연결된 노드(다음 노드)를 모두 체크하기 위해 반복\n",
    "        for next in graph[now]:\n",
    "            # 시작 노드에서 현재 확인 노드를 경유하여 다음 노드로 넘어갈 때의 비용 선언\n",
    "            cost = shortest[now] + 1\n",
    "            \n",
    "            # 해당 비용이 다음 노드의 기존 최단 거리보다 작다면\n",
    "            if cost < shortest[next]:\n",
    "                # 기존 최단 거리를 해당 비용으로 갱신하고 우선순위큐에 다음 노드를 삽입\n",
    "                shortest[next] = cost\n",
    "                heapq.heappush(q, (cost, next))\n",
    "    \n",
    "    # start 노드에서 end 노드로 가는 최단 거리를 리턴\n",
    "    return shortest[end]\n",
    "\n",
    "# 1에서 K, K에서 X로 가는 최단 거리를 다익스트라 알고리즘을 통해 구한 뒤 더하여 정답 선언\n",
    "answer = dijkstra(1, K) + dijkstra(K, X)\n",
    "# 정답 값이 INF 이상이라면 도달할 수 없는 것이므로 -1 출력\n",
    "if answer >= INF:\n",
    "    print(-1)\n",
    "# 아니라면 정답 값을 출력\n",
    "else:\n",
    "    print(answer)\n",
    "\n",
    "## 다른 방식으로 정답 체크\n",
    "# start_to_k = dijkstra(1, K)\n",
    "# k_to_x = dijkstra(K, X)\n",
    "\n",
    "# if start_to_k == INF:\n",
    "#     print(-1)\n",
    "# elif k_to_x == INF:\n",
    "#     print(-1)\n",
    "# else:\n",
    "#     print(start_to_k + k_to_x)"
   ]
  },
  {
   "cell_type": "code",
   "execution_count": 20,
   "metadata": {},
   "outputs": [
    {
     "name": "stdout",
     "output_type": "stream",
     "text": [
      "-1\n"
     ]
    }
   ],
   "source": [
    "## 플로이드 워셜로 해결\n",
    "\n",
    "# 전체 회사 수 N과 전체 경로 수 M 입력\n",
    "N, M = map(int, input().split())\n",
    "\n",
    "# 최단 거리 담을 이차원 리스트 선언\n",
    "shortest = [[INF] * (N+1) for _ in range(N+1)]\n",
    "\n",
    "# 자기 자신과의 거리는 0으로 초기화\n",
    "for i in range(N+1):\n",
    "    shortest[i][i] = 0\n",
    "\n",
    "# 서로 연결되어 있다면 양방향으로 거리를 1로 초기화\n",
    "for _ in range(M):\n",
    "    a, b = map(int, input().split())\n",
    "    shortest[a][b] = 1\n",
    "    shortest[b][a] = 1\n",
    "\n",
    "# 경유할 회사 K와 목적지 X 입력\n",
    "X, K = map(int, input().split())\n",
    "\n",
    "# 무한대 대신 사용할 값 지정\n",
    "INF = int(1e9)\n",
    "\n",
    "# 플로이드 워셜 알고리즘 진행\n",
    "for k in range(1, N+1):\n",
    "    for a in range(1, N+1):\n",
    "        for b in range(1, N+1):\n",
    "            shortest[a][b] = min(shortest[a][b], shortest[a][k] + shortest[k][b])\n",
    "\n",
    "# 정답 선언\n",
    "answer = shortest[1][K] + shortest[K][X]\n",
    "\n",
    "# 정답 값이 INF 이상이라면 도달할 수 없는 것이므로 -1 출력\n",
    "if answer >= INF:\n",
    "    print(-1)\n",
    "# 아니라면 정답 값을 출력\n",
    "else:\n",
    "    print(answer)"
   ]
  },
  {
   "cell_type": "markdown",
   "metadata": {},
   "source": [
    "### 전보"
   ]
  },
  {
   "cell_type": "markdown",
   "metadata": {},
   "source": [
    "#### 제한\n",
    "* 풀이 시간 60분\n",
    "* 시간 제한 1초\n",
    "* 메모리 제한 128MB\n",
    "\n",
    "#### 아이디어\n",
    "* "
   ]
  },
  {
   "cell_type": "markdown",
   "metadata": {},
   "source": [
    "#### 시간 복잡도\n",
    "* \n",
    "\n",
    "#### 해설 본 후\n",
    "* "
   ]
  }
 ],
 "metadata": {
  "kernelspec": {
   "display_name": "base",
   "language": "python",
   "name": "python3"
  },
  "language_info": {
   "codemirror_mode": {
    "name": "ipython",
    "version": 3
   },
   "file_extension": ".py",
   "mimetype": "text/x-python",
   "name": "python",
   "nbconvert_exporter": "python",
   "pygments_lexer": "ipython3",
   "version": "3.10.9"
  },
  "orig_nbformat": 4
 },
 "nbformat": 4,
 "nbformat_minor": 2
}
