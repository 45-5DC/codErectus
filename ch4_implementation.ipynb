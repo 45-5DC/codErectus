{
 "cells": [
  {
   "attachments": {},
   "cell_type": "markdown",
   "metadata": {},
   "source": [
    "# 04. 구현"
   ]
  },
  {
   "attachments": {},
   "cell_type": "markdown",
   "metadata": {},
   "source": [
    "## 실전 문제"
   ]
  },
  {
   "attachments": {},
   "cell_type": "markdown",
   "metadata": {},
   "source": [
    "### 왕실의 나이트"
   ]
  },
  {
   "attachments": {},
   "cell_type": "markdown",
   "metadata": {},
   "source": [
    "#### 제한\n",
    "* 풀이 시간 20분\n",
    "* 시간 제한 1초\n",
    "* 메모리 제한 128MB\n",
    "\n",
    "#### 아이디어\n",
    "* 이동 가능 경로를 선언하고 그것을 모두 가 본 뒤에 가능한 것만 체크하기"
   ]
  },
  {
   "attachments": {},
   "cell_type": "markdown",
   "metadata": {},
   "source": [
    "#### 시간 복잡도\n",
    "* O(1) 맞나? 아무튼 1초 내엔 해결 가능\n",
    "\n",
    "#### 해설 본 후\n",
    "* 해설에선 행, 열 정보를 1~8 사이의 숫자값으로 바꿔서 처리해줬는데, 그냥 ord()만 쓰고 비교만 잘 해주면 굳이 그렇게 할 필욘 없을 것 같다."
   ]
  },
  {
   "cell_type": "code",
   "execution_count": 8,
   "metadata": {},
   "outputs": [
    {
     "name": "stdout",
     "output_type": "stream",
     "text": [
      "8\n"
     ]
    }
   ],
   "source": [
    "# 현재 나이트 위치 입력\n",
    "now = input()\n",
    "\n",
    "# 현재 위치의 행, 열 정보 받기\n",
    "row = ord(now[1])\n",
    "col = ord(now[0])\n",
    "\n",
    "# 나이트가 이동 가능한 움직임 설정\n",
    "drow = [-1, -2, -2, -1, 1, 2, 2, 1]\n",
    "dcol = [-2, -1, 1, 2, 2, 1, -1, -2]\n",
    "\n",
    "answer = 0 # 정답(이동 가능한 경우의 수) 초기화\n",
    "for i in range(8): # 8개의 이동 가능한 경우가 있으므로 모든 경우에 대해\n",
    "    nrow = row + drow[i] # 행 이동\n",
    "    ncol = col + dcol[i] # 열 이동\n",
    "    \n",
    "    # 이동한 좌표가 정원 내에 있다면 이동 가능한 경우이므로 정답에 1 추가\n",
    "    if ord('1') <= nrow <= ord('8') and ord('a') <= ncol <= ord('h'): # 행, 열 좌표에 ord 이용하여 바로 비교 가능하도록 조치\n",
    "        answer += 1\n",
    "\n",
    "# 정답 출력\n",
    "print(answer)"
   ]
  },
  {
   "attachments": {},
   "cell_type": "markdown",
   "metadata": {},
   "source": [
    "### 게임 개발 // RE(풀이 시간 초과)"
   ]
  },
  {
   "attachments": {},
   "cell_type": "markdown",
   "metadata": {},
   "source": [
    "#### 제한\n",
    "* 풀이 시간 40분\n",
    "* 시간 제한 1초\n",
    "* 메모리 제한 128MB\n",
    "\n",
    "#### 아이디어\n",
    "* 그냥 구현. 왼쪽 방향으로 돌면서 앞으로 갈 수 있으면 가고, 아니면 돌고 -> 제자리로 오면 후퇴하고\n",
    "* 문제 이해를 잘못했다. visited를 만들어야 하네. 사방을 다 가봤으면 해당 방향의 뒤편으로 후퇴해야하고, 이때 visited list를 쓰는 게 아니라 그냥 해당 좌표의 값을 1로 바꿔버리면 코드가 원하는 대로 동작하지 않게 된다.\n",
    "* 구현 문제는 구상을 확실히 해두고 풀 것. 그냥 풀다보면 생각지 못한 에러를 만나게 된다. "
   ]
  },
  {
   "attachments": {},
   "cell_type": "markdown",
   "metadata": {},
   "source": [
    "#### 시간 복잡도\n",
    "* 이건 맵의 상황에 따라 다를 것 같긴 한데... N, M이 각각 최대 50이니까 모든 곳을 방문하면 O(2500).. 후퇴하는 것까지 생각하면 더 크긴 할텐데 그래도 O((M*N)^2)까지는 1초 내에 커버 가능할 것 같으니 괜찮을 것 같다.\n",
    "\n",
    "#### 해설 본 후\n",
    "* 왼쪽으로 도는 함수를 분리해서 하면 더 낫나?\n",
    "* 나는 origin_d라는 원래의 방향을 변수로 하나 만들어서 4 방향을 모두 확인한 뒤 원래의 방향으로 돌아오면 이를 현재 방향과 비교하여 같은 경우 후퇴하게했지만, 답지에서는 turn_time이라는 변수를 만들어서 네 번 회전했을 때 후퇴하게끔 함. 이게 더 직관적인 것 같기도.\n",
    "* 답지의 로직 흐름이 더 직관적이다. 참고할 것."
   ]
  },
  {
   "cell_type": "code",
   "execution_count": 14,
   "metadata": {},
   "outputs": [
    {
     "name": "stdout",
     "output_type": "stream",
     "text": [
      "3\n"
     ]
    }
   ],
   "source": [
    "# 세로 크기 N, 가로 크기 M 입력\n",
    "N, M = map(int, input().split())\n",
    "\n",
    "# 캐릭터의 좌표 (A, B)와 바라보는 방향 d 입력\n",
    "A, B, d = map(int, input().split())\n",
    "\n",
    "# 맵 정보 입력\n",
    "game_map = []\n",
    "for _ in range(N):\n",
    "    game_map.append(list(map(int, input().split())))\n",
    "\n",
    "# 각 좌표별 방문 여부를 체크하는 리스트 선언\n",
    "visited = [[False]*M for _ in range(N)]\n",
    "\n",
    "# 이동 가능 방향 선언 - 북0 동1 남2 서3\n",
    "dd = {0: (-1, 0), 1: (0, 1), 2: (1, 0), 3: (0, -1)}\n",
    "\n",
    "\n",
    "answer = 1 # 시작은 무조건 육지에서 시작하므로 방문한 칸 개수를 1로 시작\n",
    "visited[A][B] = True # 시작 좌표 방문 처리\n",
    "origin_d = d # 한 바퀴 돌았을 때 후퇴하는 것을 체크하기 위해 처음 보고 있던 방향을 저장해두기\n",
    "\n",
    "while True:\n",
    "    nd = 3 if d == 0 else d-1 # 왼쪽으로 돌아서\n",
    "    \n",
    "    # 돌았을 때의 방향이 해당 반복문이 돌 때 처음 보고 있던 방향과 같다면\n",
    "    if nd == origin_d: \n",
    "        nrow = A - dd[nd][0] # 해당 방향을 본 채로 후퇴\n",
    "        ncol = B - dd[nd][1] # 해당 방향을 본 채로 후퇴\n",
    "        \n",
    "        # 후퇴한 좌표가 바다라면\n",
    "        if game_map[nrow][ncol] == 1:\n",
    "            break # 이동 정지\n",
    "        \n",
    "        # 후퇴한 좌표가 바다가 아니라면 해당 좌표로 현재 위치 갱신\n",
    "        A = nrow\n",
    "        B = ncol\n",
    "\n",
    "    # 돌았을 때 방향이 처음 보고 있던 방향이 아니라면 새로운 방향으로 전진\n",
    "    nrow = A + dd[nd][0]\n",
    "    ncol = B + dd[nd][1]\n",
    "    \n",
    "    # 전진한 좌표가 바다거나 방문한 적 있는 곳이라면\n",
    "    if game_map[nrow][ncol] == 1 or visited[nrow][ncol]:\n",
    "        d = nd # 방향은 유지하기 위해 갱신하고\n",
    "        continue # 전진은 무시하기 위해 다음 반복으로 진행\n",
    "    \n",
    "    # 전진한 좌표가 바다가 아니고 방문한 적 없는 곳이면\n",
    "    answer += 1 # 방문한 칸 개수에 1 추가\n",
    "    visited[nrow][ncol] = True # 해당 좌표 방문 처리\n",
    "    A = nrow # 해당 좌표로 현재 위치 갱신\n",
    "    B = ncol # 해당 좌표로 현재 위치 갱신\n",
    "    d = nd # 방향 갱신\n",
    "    origin_d = d # 처음 보고 있는 방향 갱신\n",
    "\n",
    "# 정답 출력\n",
    "print(answer)"
   ]
  },
  {
   "attachments": {},
   "cell_type": "markdown",
   "metadata": {},
   "source": [
    "#### 해설 코드"
   ]
  },
  {
   "cell_type": "code",
   "execution_count": null,
   "metadata": {},
   "outputs": [],
   "source": [
    "# N, M을 공백으로 구분하여 입력받기\n",
    "n, m = map(int, input().split())\n",
    "\n",
    "# 방문한 위치를 저장하기 위한 맵을 생성하여 0으로 초기화\n",
    "d = [[0]*m for _ in range(n)]\n",
    "# 현재 캐릭터의 X 좌표, Y 좌표, 방향 입력받기\n",
    "x, y, direction = map(int, input().split())\n",
    "d[x][y] = 1 # 현재 좌표 방문 처리\n",
    "\n",
    "# 전체 맵 정보 입력받기\n",
    "array = []\n",
    "for i in range(n):\n",
    "    array.append(list(map(int, input().split())))\n",
    "    \n",
    "# 북, 동, 남, 서 방향 정의\n",
    "dx = [-1, 0, 1, 0]\n",
    "dy = [0, 1, 0, -1]\n",
    "\n",
    "# 왼쪽으로 회전\n",
    "def turn_left():\n",
    "    global direction\n",
    "    direction -= 1\n",
    "    if direction == -1:\n",
    "        direction = 3\n",
    "\n",
    "# 시뮬레이션 시작\n",
    "count = 1\n",
    "turn_time = 0\n",
    "while True:\n",
    "    # 왼쪽으로 회전\n",
    "    turn_left()\n",
    "    nx = x + dx[direction]\n",
    "    ny = y + dy[direction]\n",
    "    # 회전한 이후 정면에 가보지 않은 칸이 존재하는 경우 이동\n",
    "    if d[nx][ny] == 0 and array[nx][ny] == 0:\n",
    "        d[nx][ny] = 1\n",
    "        x = nx\n",
    "        y = ny\n",
    "        count += 1\n",
    "        turn_time = 0\n",
    "        continue\n",
    "    # 회전한 이후 정면에 가보지 않은 칸이 없거나 바다인 경우\n",
    "    else:\n",
    "        turn_time += 1\n",
    "    # 네 방향 모두 갈 수 없는 경우\n",
    "    if turn_time == 4:\n",
    "        nx = x - dx[direction]\n",
    "        ny = y - dy[direction]\n",
    "        # 뒤로 갈 수 있다면 이동하기\n",
    "        if array[nx][ny] == 0:\n",
    "            x = nx\n",
    "            y = ny\n",
    "        # 뒤가 바다로 막혀있는 경우\n",
    "        else:\n",
    "            break\n",
    "        turn_time = 0 \n",
    "        \n",
    "# 정답 출력\n",
    "print(count)"
   ]
  },
  {
   "attachments": {},
   "cell_type": "markdown",
   "metadata": {},
   "source": [
    "## Q7. 럭키 스트레이트\n",
    "https://www.acmicpc.net/problem/18406"
   ]
  },
  {
   "attachments": {},
   "cell_type": "markdown",
   "metadata": {},
   "source": [
    "#### 제한\n",
    "* 풀이 시간 20분\n",
    "* 시간 제한 1초\n",
    "* 메모리 제한 256MB\n",
    "\n",
    "#### 아이디어\n",
    "* 점수의 자릿수는 짝수로 들어오고, 정수가 입력되니까 그냥 문자열로 받아서 중간 인덱스 넘버 //로 구해서 슬라이싱으로 반 나누고, 각각 숫자 합 계산해서 비교하면 되겠다."
   ]
  },
  {
   "attachments": {},
   "cell_type": "markdown",
   "metadata": {},
   "source": [
    "#### 시간 복잡도\n",
    "* N이 최대 8개의 자리수를 가지므로 O(8)일 듯. 상수시간 내에 해결이 가능하다. 1초 안에 가능.\n",
    "\n",
    "#### 해설 본 후\n",
    "* 다양한 풀이 방법이 있다. 반복문을 이용해도 되고, 이전에 풀었을 땐 list comprehension을 이용했는데 그래도 되고."
   ]
  },
  {
   "cell_type": "code",
   "execution_count": 4,
   "metadata": {},
   "outputs": [
    {
     "name": "stdout",
     "output_type": "stream",
     "text": [
      "READY\n"
     ]
    }
   ],
   "source": [
    "# 점수 N 입력\n",
    "N = input()\n",
    "\n",
    "# 왼쪽과 오른쪽 반으로 나누기\n",
    "left = N[:len(N)//2]\n",
    "right = N[len(N)//2:]\n",
    "\n",
    "# 왼쪽과 오른쪽 각각의 자릿수들의 합이 서로 같다면\n",
    "if sum(map(int, list(left))) == sum(map(int, list(right))):\n",
    "    print('LUCKY') # 럭키를 출력\n",
    "else: # 같지 않다면\n",
    "    print('READY') # 레디를 출력\n"
   ]
  },
  {
   "attachments": {},
   "cell_type": "markdown",
   "metadata": {},
   "source": [
    "## Q8. 문자열 재정렬"
   ]
  },
  {
   "attachments": {},
   "cell_type": "markdown",
   "metadata": {},
   "source": [
    "#### 제한\n",
    "* 풀이 시간 20분\n",
    "* 시간 제한 1초\n",
    "* 메모리 제한 128MB\n",
    "\n",
    "#### 아이디어\n",
    "* 문자열에 반복문을 돌면서 알파벳 대문자와 숫자를 각각 분리해서 저장하고, 알파벳은 오름차순 정렬, 숫자는 합을 구한 뒤에 두 object를 붙여서 하나의 문자열로 만들어 출력하기"
   ]
  },
  {
   "attachments": {},
   "cell_type": "markdown",
   "metadata": {},
   "source": [
    "#### 시간 복잡도\n",
    "* 반복문과 sorted() 이용하므로 O(N) + O(NlogN)일 듯. N은 문자열의 길이가 되는데 최악의 경우 10,000이므로 1초 내에 충분히 해결 가능\n",
    "\n",
    "#### 해설 본 후\n",
    "* 이전에 풀었을 땐 정규표현식을 썼네."
   ]
  },
  {
   "cell_type": "code",
   "execution_count": 8,
   "metadata": {},
   "outputs": [
    {
     "name": "stdout",
     "output_type": "stream",
     "text": [
      "ADDIJJJKKLSS20\n"
     ]
    }
   ],
   "source": [
    "alpha = '' # 알파벳이 들어갈 변수는 빈 문자열로 초기화\n",
    "num = 0 # 숫자가 들어갈 변수는 0으로 초기화\n",
    "for letter in input(): # 입력받은 문자열을 한 글자씩 확인하기 위해 반복\n",
    "    if letter.isdigit(): # 확인하는 글자가 숫자라면\n",
    "        num += int(letter) # int로 자료형 변경후 숫자 변수에 더해줌\n",
    "    else: # 확인하는 글자가 알파벳이라면\n",
    "        alpha += letter # 알파벳 변수에 추가해줌\n",
    "\n",
    "# 정답 출력(알파벳 변수에 sorted 적용하여 오름차순으로 정렬된 list 만들고 join으로 결합하여 문자열로 변경한 뒤 그 뒤에 숫자의 합을 문자열로 변경하여 붙여줌)\n",
    "print(''.join(sorted(alpha))+str(num))"
   ]
  },
  {
   "attachments": {},
   "cell_type": "markdown",
   "metadata": {},
   "source": [
    "## Q9. 문자열 압축 // RE(풀이 시간 초과)\n",
    "https://school.programmers.co.kr/learn/courses/30/lessons/60057"
   ]
  },
  {
   "attachments": {},
   "cell_type": "markdown",
   "metadata": {},
   "source": [
    "#### 제한\n",
    "* 풀이 시간 30분\n",
    "* 시간 제한 1초\n",
    "* 메모리 제한 128MB\n",
    "\n",
    "#### 아이디어\n",
    "* 제일 앞부터 정해진 길이만큼 잘라야하므로, 문자열 길이의 반개부터 1개까지 모든 경우의 수를 확인하고 그 중 가장 짧은 것을 리턴하면 될 듯\n",
    "\n",
    "* 어떻게 자르지?\n",
    "    * 위에서 구한 정해진 길이의 모든 경우의 수를 돌면서 해당 길이만큼만 자르기 위한 슬라이싱을 하기 위해 1씩 증가하는 새로운 변수를 도입. \n",
    "    * 첫값과 끝값에 해당 숫자를 곱하면서 해당 길이만큼만 슬라이싱하고, 이를 리스트에 추가하면서 최근에 추가한 것과 현재 확인하고 있는 것을 비교하여 몇 개까지 같은지를 카운팅. \n",
    "    * 카운팅한 수가 1이라면 다음 부분을 확인했을 때 다르면 그냥 리스트에 추가. \n",
    "    * 1 이상이라면 최근에 추가한 부분 앞에 카운팅 횟수를 문자열로 붙여주고, 다음 부분을 리스트에 추가.\n",
    "    * 마지막은 리스트를 join한 문자열의 길이를 전체 반복문 밖에 있는 가능한 압축 경우의 수를 모두 담을 리스트에 추가. 그리고 최솟값을 리턴.\n",
    "* 시행착오\n",
    "    * 입력 길이 확인해서 예외처리 할 경우 생각하기.\n",
    "    * len(s) == 1일 경우 런타임에러 발생하므로 if문으로 예외처리 추가함"
   ]
  },
  {
   "attachments": {},
   "cell_type": "markdown",
   "metadata": {},
   "source": [
    "#### 시간 복잡도\n",
    "* 문자열 길이 반 개만큼 반복문을 돌고, 그 안에서 해당 길이가 몇 개 있어야 전체 문자열 길이를 채울지 만큼 또 반복이 돌아감 => 최악의 경우 대략 O(N^2)이 나올 것 같은데 이 때 N은 문자열의 길이고 최악의 경우 1,000이므로 1초 내에 가능할듯.\n",
    "\n",
    "#### 해설 본 후\n",
    "* 로직은 비슷한데 코드 흐름이나 가독성이 답지가 더 명쾌하다. 내가 변수를 효율적으로 사용하지 못한 듯. 참고하자."
   ]
  },
  {
   "cell_type": "code",
   "execution_count": 41,
   "metadata": {},
   "outputs": [
    {
     "data": {
      "text/plain": [
       "9"
      ]
     },
     "execution_count": 41,
     "metadata": {},
     "output_type": "execute_result"
    }
   ],
   "source": [
    "s1 = \"aabbaccc\"\n",
    "s2 = \"ababcdcdababcdcd\"\n",
    "s3 = \"abcabcdede\"\n",
    "s4 = \"abcabcabcabcdededededede\"\n",
    "s5 = \"xababcdcdababcdcd\"\n",
    "\n",
    "def solution(s):\n",
    "    # 문자열의 길이를 변수로 선언\n",
    "    length = len(s)\n",
    "    \n",
    "    # 문자열 길이가 1이면\n",
    "    if length == 1:\n",
    "        return 1 # 1 리턴\n",
    "    \n",
    "    cand = [] # 모든 가능한 방식으로 문자열을 압축한 경우를 담는 리스트 선언\n",
    "    temp = [] # 각각의 방법으로 문자열을 압축할 때 압축된 문자열을 만들기 위해 사용할 리스트 선언\n",
    "    # 문자열 압축은 제일 앞부터 생각하므로 한 묶음이 전체 길이의 반인 경우까지만 확인하면 되므로\n",
    "    for i in range(1, (length//2)+1): # 한 묶음의 길이가 1개인 경우부터 전체 길이의 중간값(반)개의 경우까지 돌면서(이 때 슬라이싱 끝값에 i가 들어가므로 +1을 해줘야 함)\n",
    "        d = 1 # 다음 묶음으로 진행하기 위한 숫자 변수 선언\n",
    "        counts = 1 # 이전에 확인한 묶음과 몇 개까지 같은 묶음이 나오는 지 확인하기 위한 변수 선언\n",
    "        # print(s[0:i], i)\n",
    "        temp.append(s[0:i]) # 첫 번째 묶음을 temp list에 추가\n",
    "        while d <= (length//i): # 묶음만큼 진행했을 때 해당 묶음의 범위 내에 전체 문자열의 길이가 포함되게 되지 않는 때까지 반복(확인하는 묶음이 전체 길이를 넘어가지 않는 때까지 반복)\n",
    "            now = s[d*i:(d+1)*i] # 현재 확인하는 묶음을 변수로 선언\n",
    "            if now == temp[-1]: # 현재 확인하는 묶음이 최근에 확인한 묶음(temp list의 마지막 원소)과 같다면\n",
    "                counts += 1 # counts에 1 추가\n",
    "            else: # 현재 확인하는 묶음이 최근에 확인한 묶음과 다르다면\n",
    "                if counts > 1: # counts가 1 초과인 경우\n",
    "                    temp[-1] = str(counts) + temp[-1] # 최근에 확인한 묶음 앞에 counts를 문자로 바꿔 앞에 붙여 문자열을 압축\n",
    "                counts = 1 # counts를 1로 초기화\n",
    "                temp.append(now) # 현재 확인한 묶음을 temp list에 추가하여 최근에 확인한 묶음을 갱신\n",
    "            d += 1 # 다음 묶음으로 넘어가기 위해 d 변수에 1 추가\n",
    "        cand.append(len(''.join(temp))) # 해당 묶음의 길이에 대해 문자열을 다 돌았으면 temp list에 담긴 묶음 문자열을 join하고 그 길이를 cand list에 추가\n",
    "        # cand.append(''.join(temp))\n",
    "        temp = [] # 다음 묶음 길이를 체크하기 위해 temp list를 초기화\n",
    "    return min(cand) # 모든 묶음 길이를 체크한 뒤 cand list에 담긴 모든 경우의 수 중 길이가 가장 작은 것을 리턴\n",
    "    # return cand\n",
    "\n",
    "solution(s2)"
   ]
  },
  {
   "attachments": {},
   "cell_type": "markdown",
   "metadata": {},
   "source": [
    "#### 해설 코드 참고"
   ]
  },
  {
   "cell_type": "code",
   "execution_count": null,
   "metadata": {},
   "outputs": [],
   "source": [
    "def solution(s):\n",
    "    answer = len(s)\n",
    "    # 1개 단위(step)부터 압축 단위를 늘려가며 확인\n",
    "    for step in range(1, len(s) // 2 + 1):\n",
    "        compressed = ''\n",
    "        prev = s[0:step] # 앞에서부터 step 만큼의 문자열 추출\n",
    "        count = 1\n",
    "        # 단위(step) 크기만큼 증가시키며 이전 문자열과 비교\n",
    "        for j in range(step, len(s), step):\n",
    "            # 이전 상태와 동일하다면 압축 횟수(count) 증가\n",
    "            if prev == s[j:j + step]:\n",
    "                count += 1\n",
    "            # 다른 문자열이 나왔다면(더 이상 압축하지 못하는 경우라면)\n",
    "            else:\n",
    "                compressed += str(count) + prev if count >= 2 else prev\n",
    "                prev = s[j:j + step] # 다시 상태 초기화\n",
    "                count = 1\n",
    "            # 남아 있는 문자열에 대해서 처리\n",
    "            compressed += str(count) + prev if count >= 2 else prev\n",
    "            # 만들어지는 압축 문자열이 가장 짧은 것이 정답\n",
    "            answer = min(answer, len(compressed))\n",
    "        return answer"
   ]
  },
  {
   "attachments": {},
   "cell_type": "markdown",
   "metadata": {},
   "source": [
    "## Q10. 자물쇠와 열쇠 // RE(풀이 시간 초과)\n",
    "https://school.programmers.co.kr/learn/courses/30/lessons/60059"
   ]
  },
  {
   "attachments": {},
   "cell_type": "markdown",
   "metadata": {},
   "source": [
    "#### 제한\n",
    "* 풀이 시간 40분\n",
    "* 시간 제한 1초\n",
    "* 메모리 제한 128MB\n",
    "\n",
    "#### 아이디어\n",
    "* lock의 상하좌우를 각각 key의 크기 M-1만큼 늘려서 키가 들어가게 되는 모든 경우를 체크할 수 있게 하고, key를 기본, 90도, 180도, 270도 회전하여 모든 경우의 수에 대해 lock에 끼워 확인하면 될 듯\n",
    "* 슬라이드를 삭 하면서 모든 경우의 수를 체크해야 할 것 같은데 이걸 어떻게 하지. => 4중 for문... 어라 되네?\n",
    "* 키가 자물쇠에 닿는 모든 경우의 수에서 키값을 자물쇠에 더해 실제 자물쇠 범위의 값들이 모두 1이라면 True 리턴. 모든 경우의 수를 다 돌아도 실제 자물쇠 범위 값들을 모두 1로 만들 수 없다면 False 리턴\n"
   ]
  },
  {
   "attachments": {},
   "cell_type": "markdown",
   "metadata": {},
   "source": [
    "#### 시간 복잡도\n",
    "* O(M^2)+ O((M+N)^2 * N^2) => 거의 O(N^4) 이상인데 N의 최대값이 20이라 16만번 정도(넘겠지만) 연산이어서 통과한듯...?\n",
    "\n",
    "#### 해설 본 후\n",
    "* 답지에선 자물쇠와 열쇠의 크기가 작아 완전탐색해도 시간 널널하므로 자물쇠의 크기를 통 크게 3배(...) 늘렸다 => 확장된 자물쇠를 만드는 코드가 간단해지고 인덱싱, 슬라이싱도 편해짐\n",
    "* 답지에선 자물쇠의 실제 부분이 1인지 확인하는 코드를 따로 함수로 만듦 => 가독성 up + 메인코드의 간결성 up\n",
    "* 내가 사용한 deepcopy는 자물쇠에 키를 더했다 빼는 답지의 코드보다 공간복잡도 면에서 손해\n",
    "    * deepcopy가 꽤나 느리다고 한다. 반복문 한 번 더 돌리는 것보단 빠를 거라고 생각했는데 아닐 수도 있을 듯\n"
   ]
  },
  {
   "cell_type": "code",
   "execution_count": 101,
   "metadata": {},
   "outputs": [
    {
     "name": "stdout",
     "output_type": "stream",
     "text": [
      "[[9, 9, 9, 9, 9, 9, 9], [9, 9, 9, 9, 9, 9, 9], [9, 9, 1, 1, 1, 9, 9], [9, 9, 1, 1, 1, 9, 9], [9, 9, 1, 1, 1, 9, 9], [9, 9, 9, 10, 9, 9, 9], [9, 9, 9, 10, 9, 9, 9]]\n"
     ]
    },
    {
     "data": {
      "text/plain": [
       "True"
      ]
     },
     "execution_count": 101,
     "metadata": {},
     "output_type": "execute_result"
    }
   ],
   "source": [
    "# 테케 1번만 실패... 왜일까? \n",
    "# => 그냥 for문만 끝나면 True를 리턴하게 했으니까.. if cond: 넣어서 해결!\n",
    "\n",
    "from copy import deepcopy \n",
    "\n",
    "key = [[0, 0, 0], [1, 0, 0], [0, 1, 1]]\n",
    "lock = [[1, 1, 1], [1, 1, 0], [1, 0, 1]]\n",
    "\n",
    "\n",
    "# 열쇠를 반시계 방향으로 90도 회전시키는 함수 구현\n",
    "def rotate_cc_90(key):\n",
    "    '''\n",
    "    정방행렬일 때, 반시계 방향으로 90도 회전시켰을 때 1행을 뒤집은 것이 1열이 되고, 2행을 뒤집은 것이 2열이 되고, ... n행을 뒤집은 것이 n열이 된다.\n",
    "    \n",
    "    ex)     기존 키     반시계 방향으로 90도 회전한 키\n",
    "            0 0 0 0     0 1 0 1\n",
    "            1 0 1 1     0 1 1 1\n",
    "            0 1 1 0     0 0 1 1\n",
    "            1 1 1 1     0 1 0 1\n",
    "    '''\n",
    "    M = len(key) # 키의 길이를 변수로 선언 (정사각형이므로 한 변만)\n",
    "    n_key = [[] for _ in range(M)] # 새로운 키(반시계 90도 회전한 키)를 담을 변수 선언\n",
    "    for i in range(M): # 행을 표기하기 위해 길이만큼 반복\n",
    "        for j in range(M): # 열을 표기하기 위해 길이만큼 반복\n",
    "            n_key[j].append(key[i][::-1][j]) # 기존 키의 행을 뒤집어서 각각의 원소를 각 열에 순서대로 하나씩 넣는다\n",
    "    return n_key\n",
    "    \n",
    "\n",
    "def solution(key, lock):\n",
    "    # 열쇠와 자물쇠의 길이를 변수로 선언\n",
    "    M = len(key)\n",
    "    N = len(lock)\n",
    "    \n",
    "    # 자물쇠의 크기 확장(상하좌우를 각각 M-1 만큼 확장). 확장부분의 숫자는 임의로 9를 넣음\n",
    "    use_lock = [[9]*(2*(M-1)+N)]*(M-1) + [[9]*(M-1) + row + [9]*(M-1) for row in lock] + [[9]*(2*(M-1)+N)]*(M-1)\n",
    "    \n",
    "    # 모든 회전시킨 키에 대해 체크\n",
    "    for use_key in [key, rotate_cc_90(key), rotate_cc_90(rotate_cc_90(key)), rotate_cc_90(rotate_cc_90(rotate_cc_90(key)))]: # 기존 키, 반시계 방향으로 90도 회전한 키, 180도 회전한 키, 270도 회전한 키에 대해 반복\n",
    "        # 확장한 자물쇠에서 키가 한칸이라도 닿는 경우를 모두 체크\n",
    "        for i in range(M+N-1): # 키가 닿는 부분을 모두 체크하기 위함\n",
    "            for j in range(M+N-1): # 키가 닿는 부분을 모두 체크하기 위함\n",
    "                temp_lock = deepcopy(use_lock) # 자물쇠 부분 확인할 때 자물쇠에 키의 값을 더한 값이 1인지를 체크할 것이므로 비파괴적 연산을 수행할 것이기에 원래 자물쇠 보존을 위해 deepcopy를 이용하여 임시 자물쇠를 선언\n",
    "                for k in range(M): # 키의 크기만큼만 반복 => 키의 원소를 가져오기 위해 & 키의 크기만큼 자물쇠에 닿는 영역을 선택하기 위해\n",
    "                    for l in range(M): # 키의 크기만큼만 반복 => 키의 원소를 가져오기 위해 & 키의 크기만큼 자물쇠에 닿는 영역을 선택하기 위해\n",
    "                        temp_lock[i+k][j+l] += use_key[k][l] # 자물쇠와 키 결합(값을 합침)\n",
    "                cond = True # 자물쇠와 키를 더한 값이 모두 1이어야 맞는 경우이며 이를 체크하기 위해 cond 변수를 도입\n",
    "                for x in range(M-1, M+N-1): # 실제 자물쇠의 행 범위 체크\n",
    "                    if not cond: # cond가 False라면\n",
    "                        break # 반복 중지\n",
    "                    for y in range(M-1, M+N-1): # 실제 자물쇠의 열 범위 체크\n",
    "                        if temp_lock[x][y] != 1: # 실제 자물쇠의 원소들을 체크하면서 만약 1이 아닌게 있다면\n",
    "                            cond = False # 열리지 않으므로 cond를 False로 변경\n",
    "                            if not cond: # cond가 False라면\n",
    "                                break # 반복 중지\n",
    "                else: # 키가 합쳐진 자물쇠의 원소들을 다 확인한 뒤\n",
    "                    if cond: ## 요놈이 들어가야 했구나 # cond가 True라면(키와 합쳐진 자물쇠 값이 모두 1이었다면)\n",
    "                        return True # True를 리턴\n",
    "    return False # 코드를 다 돌고 True를 리턴하지 않았다면 False를 리턴\n",
    "solution(key, lock)"
   ]
  },
  {
   "attachments": {},
   "cell_type": "markdown",
   "metadata": {},
   "source": [
    "#### 해설 코드 참고"
   ]
  },
  {
   "cell_type": "code",
   "execution_count": null,
   "metadata": {},
   "outputs": [],
   "source": [
    "# 2차원 리스트 90도 회전\n",
    "def rotate_a_matrix_by_90_degree(a):\n",
    "    n = len(a) # 행 길이 계산\n",
    "    m = len(a[0]) # 열 길이 계산\n",
    "    result = [[0] * n for _ in range(m)] # 결과 리스트\n",
    "    for i in range(n):\n",
    "        for j in range(m):\n",
    "            result[j][n - 1 - i] = a[i][j] ## 표현이 달라서 그렇지 내 함수와 로직은 같다. 기존 리스트의 각 행에서 맨 뒷값부터 가져와 새 리스트의 각 열에 하나씩 넣는 것\n",
    "    return result\n",
    "\n",
    "# 자물쇠의 중간 부분이 모두 1인지 확인\n",
    "def check(new_lock):\n",
    "    lock_length = len(new_lock) // 3 ## 자물쇠의 크기를 3배 확장할 것이므로 실제 길이는 3을 나눠준 몫이 됨\n",
    "    for i in range(lock_length, lock_length * 2): # 실제 자물쇠 부분은 3배 확장했으므로 2배(중간) 지점 확인하면 됨\n",
    "        for j in range(lock_length, lock_length * 2): # 실제 자물쇠 부분은 3배 확장했으므로 2배(중간) 지점 확인하면 됨\n",
    "            if new_lock[i][j] != 1:\n",
    "                return False\n",
    "    return True\n",
    "\n",
    "def solution(key, lock):\n",
    "    n = len(lock)\n",
    "    m = len(key)\n",
    "    # 자물쇠의 크기를 기존의 3배로 변환\n",
    "    new_lock = [[0] * (n * 3) for _ in range(n * 3)]\n",
    "    # 새로운 자물쇠의 중앙 부분에 기존의 자물쇠 넣기\n",
    "    for i in range(n):\n",
    "        for j in range(n):\n",
    "            new_lock[i + n][j + n] = lock[i][j]\n",
    "    \n",
    "    # 4가지 방향에 대해서 확인\n",
    "    for rotation in range(4):\n",
    "        key = rotate_a_matrix_by_90_degree(key) # 열쇠 회전\n",
    "        for x in range(n * 2):\n",
    "            for y in range(n * 2):\n",
    "                # 자물쇠에 열쇠를 끼워 넣기\n",
    "                for i in range(m):\n",
    "                    for j in range(m):\n",
    "                        new_lock[x + i][y + j] += key[i][j]\n",
    "                # 새로운 자물쇠에 열쇠가 정확히 들어맞는지 검사\n",
    "                if check(new_lock) == True:\n",
    "                    return True\n",
    "                # 자물쇠에서 열쇠를 다시 빼기\n",
    "                for i in range(m):\n",
    "                    for j in range(m):\n",
    "                        new_lock[x + i][y + j] -= key[i][j]\n",
    "    return False\n"
   ]
  },
  {
   "attachments": {},
   "cell_type": "markdown",
   "metadata": {},
   "source": [
    "## Q11. 뱀\n",
    "https://www.acmicpc.net/problem/3190"
   ]
  },
  {
   "attachments": {},
   "cell_type": "markdown",
   "metadata": {},
   "source": [
    "#### 제한\n",
    "* 풀이 시간 40분\n",
    "* 시간 제한 1초\n",
    "* 메모리 제한 128MB\n",
    "\n",
    "#### 아이디어\n",
    "* "
   ]
  },
  {
   "attachments": {},
   "cell_type": "markdown",
   "metadata": {},
   "source": [
    "#### 시간 복잡도\n",
    "* \n",
    "\n",
    "#### 해설 본 후\n",
    "* "
   ]
  },
  {
   "cell_type": "code",
   "execution_count": null,
   "metadata": {},
   "outputs": [],
   "source": []
  }
 ],
 "metadata": {
  "kernelspec": {
   "display_name": "base",
   "language": "python",
   "name": "python3"
  },
  "language_info": {
   "codemirror_mode": {
    "name": "ipython",
    "version": 3
   },
   "file_extension": ".py",
   "mimetype": "text/x-python",
   "name": "python",
   "nbconvert_exporter": "python",
   "pygments_lexer": "ipython3",
   "version": "3.10.9"
  },
  "orig_nbformat": 4
 },
 "nbformat": 4,
 "nbformat_minor": 2
}
