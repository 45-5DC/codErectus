{
 "cells": [
  {
   "attachments": {},
   "cell_type": "markdown",
   "metadata": {},
   "source": [
    "# 04. 구현"
   ]
  },
  {
   "attachments": {},
   "cell_type": "markdown",
   "metadata": {},
   "source": [
    "## 실전 문제"
   ]
  },
  {
   "attachments": {},
   "cell_type": "markdown",
   "metadata": {},
   "source": [
    "### 왕실의 나이트"
   ]
  },
  {
   "attachments": {},
   "cell_type": "markdown",
   "metadata": {},
   "source": [
    "#### 제한\n",
    "* 풀이 시간 20분\n",
    "* 시간 제한 1초\n",
    "* 메모리 제한 128MB\n",
    "\n",
    "#### 아이디어\n",
    "* 이동 가능 경로를 선언하고 그것을 모두 가 본 뒤에 가능한 것만 체크하기"
   ]
  },
  {
   "attachments": {},
   "cell_type": "markdown",
   "metadata": {},
   "source": [
    "#### 시간 복잡도\n",
    "* O(1) 맞나? 아무튼 1초 내엔 해결 가능\n",
    "\n",
    "#### 해설 본 후\n",
    "* 해설에선 행, 열 정보를 1~8 사이의 숫자값으로 바꿔서 처리해줬는데, 그냥 ord()만 쓰고 비교만 잘 해주면 굳이 그렇게 할 필욘 없을 것 같다."
   ]
  },
  {
   "cell_type": "code",
   "execution_count": 8,
   "metadata": {},
   "outputs": [
    {
     "name": "stdout",
     "output_type": "stream",
     "text": [
      "8\n"
     ]
    }
   ],
   "source": [
    "# 현재 나이트 위치 입력\n",
    "now = input()\n",
    "\n",
    "# 현재 위치의 행, 열 정보 받기\n",
    "row = ord(now[1])\n",
    "col = ord(now[0])\n",
    "\n",
    "# 나이트가 이동 가능한 움직임 설정\n",
    "drow = [-1, -2, -2, -1, 1, 2, 2, 1]\n",
    "dcol = [-2, -1, 1, 2, 2, 1, -1, -2]\n",
    "\n",
    "answer = 0 # 정답(이동 가능한 경우의 수) 초기화\n",
    "for i in range(8): # 8개의 이동 가능한 경우가 있으므로 모든 경우에 대해\n",
    "    nrow = row + drow[i] # 행 이동\n",
    "    ncol = col + dcol[i] # 열 이동\n",
    "    \n",
    "    # 이동한 좌표가 정원 내에 있다면 이동 가능한 경우이므로 정답에 1 추가\n",
    "    if ord('1') <= nrow <= ord('8') and ord('a') <= ncol <= ord('h'): # 행, 열 좌표에 ord 이용하여 바로 비교 가능하도록 조치\n",
    "        answer += 1\n",
    "\n",
    "# 정답 출력\n",
    "print(answer)"
   ]
  },
  {
   "attachments": {},
   "cell_type": "markdown",
   "metadata": {},
   "source": [
    "### 게임 개발 // RE(풀이 시간 초과)"
   ]
  },
  {
   "attachments": {},
   "cell_type": "markdown",
   "metadata": {},
   "source": [
    "#### 제한\n",
    "* 풀이 시간 40분\n",
    "* 시간 제한 1초\n",
    "* 메모리 제한 128MB\n",
    "\n",
    "#### 아이디어\n",
    "* 그냥 구현. 왼쪽 방향으로 돌면서 앞으로 갈 수 있으면 가고, 아니면 돌고 -> 제자리로 오면 후퇴하고\n",
    "* 문제 이해를 잘못했다. visited를 만들어야 하네. 사방을 다 가봤으면 해당 방향의 뒤편으로 후퇴해야하고, 이때 visited list를 쓰는 게 아니라 그냥 해당 좌표의 값을 1로 바꿔버리면 코드가 원하는 대로 동작하지 않게 된다.\n",
    "* 구현 문제는 구상을 확실히 해두고 풀 것. 그냥 풀다보면 생각지 못한 에러를 만나게 된다. "
   ]
  },
  {
   "attachments": {},
   "cell_type": "markdown",
   "metadata": {},
   "source": [
    "#### 시간 복잡도\n",
    "* 이건 맵의 상황에 따라 다를 것 같긴 한데... N, M이 각각 최대 50이니까 모든 곳을 방문하면 O(2500).. 후퇴하는 것까지 생각하면 더 크긴 할텐데 그래도 O((M*N)^2)까지는 1초 내에 커버 가능할 것 같으니 괜찮을 것 같다.\n",
    "\n",
    "#### 해설 본 후\n",
    "* 왼쪽으로 도는 함수를 분리해서 하면 더 낫나?\n",
    "* 나는 origin_d라는 원래의 방향을 변수로 하나 만들어서 4 방향을 모두 확인한 뒤 원래의 방향으로 돌아오면 이를 현재 방향과 비교하여 같은 경우 후퇴하게했지만, 답지에서는 turn_time이라는 변수를 만들어서 네 번 회전했을 때 후퇴하게끔 함. 이게 더 직관적인 것 같기도.\n",
    "* 답지의 로직 흐름이 더 직관적이다. 참고할 것."
   ]
  },
  {
   "cell_type": "code",
   "execution_count": 14,
   "metadata": {},
   "outputs": [
    {
     "name": "stdout",
     "output_type": "stream",
     "text": [
      "3\n"
     ]
    }
   ],
   "source": [
    "# 세로 크기 N, 가로 크기 M 입력\n",
    "N, M = map(int, input().split())\n",
    "\n",
    "# 캐릭터의 좌표 (A, B)와 바라보는 방향 d 입력\n",
    "A, B, d = map(int, input().split())\n",
    "\n",
    "# 맵 정보 입력\n",
    "game_map = []\n",
    "for _ in range(N):\n",
    "    game_map.append(list(map(int, input().split())))\n",
    "\n",
    "# 각 좌표별 방문 여부를 체크하는 리스트 선언\n",
    "visited = [[False]*M for _ in range(N)]\n",
    "\n",
    "# 이동 가능 방향 선언 - 북0 동1 남2 서3\n",
    "dd = {0: (-1, 0), 1: (0, 1), 2: (1, 0), 3: (0, -1)}\n",
    "\n",
    "\n",
    "answer = 1 # 시작은 무조건 육지에서 시작하므로 방문한 칸 개수를 1로 시작\n",
    "visited[A][B] = True # 시작 좌표 방문 처리\n",
    "origin_d = d # 한 바퀴 돌았을 때 후퇴하는 것을 체크하기 위해 처음 보고 있던 방향을 저장해두기\n",
    "\n",
    "while True:\n",
    "    nd = 3 if d == 0 else d-1 # 왼쪽으로 돌아서\n",
    "    \n",
    "    # 돌았을 때의 방향이 해당 반복문이 돌 때 처음 보고 있던 방향과 같다면\n",
    "    if nd == origin_d: \n",
    "        nrow = A - dd[nd][0] # 해당 방향을 본 채로 후퇴\n",
    "        ncol = B - dd[nd][1] # 해당 방향을 본 채로 후퇴\n",
    "        \n",
    "        # 후퇴한 좌표가 바다라면\n",
    "        if game_map[nrow][ncol] == 1:\n",
    "            break # 이동 정지\n",
    "        \n",
    "        # 후퇴한 좌표가 바다가 아니라면 해당 좌표로 현재 위치 갱신\n",
    "        A = nrow\n",
    "        B = ncol\n",
    "\n",
    "    # 돌았을 때 방향이 처음 보고 있던 방향이 아니라면 새로운 방향으로 전진\n",
    "    nrow = A + dd[nd][0]\n",
    "    ncol = B + dd[nd][1]\n",
    "    \n",
    "    # 전진한 좌표가 바다거나 방문한 적 있는 곳이라면\n",
    "    if game_map[nrow][ncol] == 1 or visited[nrow][ncol]:\n",
    "        d = nd # 방향은 유지하기 위해 갱신하고\n",
    "        continue # 전진은 무시하기 위해 다음 반복으로 진행\n",
    "    \n",
    "    # 전진한 좌표가 바다가 아니고 방문한 적 없는 곳이면\n",
    "    answer += 1 # 방문한 칸 개수에 1 추가\n",
    "    visited[nrow][ncol] = True # 해당 좌표 방문 처리\n",
    "    A = nrow # 해당 좌표로 현재 위치 갱신\n",
    "    B = ncol # 해당 좌표로 현재 위치 갱신\n",
    "    d = nd # 방향 갱신\n",
    "    origin_d = d # 처음 보고 있는 방향 갱신\n",
    "\n",
    "# 정답 출력\n",
    "print(answer)"
   ]
  },
  {
   "attachments": {},
   "cell_type": "markdown",
   "metadata": {},
   "source": [
    "#### 해설 코드"
   ]
  },
  {
   "cell_type": "code",
   "execution_count": null,
   "metadata": {},
   "outputs": [],
   "source": [
    "# N, M을 공백으로 구분하여 입력받기\n",
    "n, m = map(int, input().split())\n",
    "\n",
    "# 방문한 위치를 저장하기 위한 맵을 생성하여 0으로 초기화\n",
    "d = [[0]*m for _ in range(n)]\n",
    "# 현재 캐릭터의 X 좌표, Y 좌표, 방향 입력받기\n",
    "x, y, direction = map(int, input().split())\n",
    "d[x][y] = 1 # 현재 좌표 방문 처리\n",
    "\n",
    "# 전체 맵 정보 입력받기\n",
    "array = []\n",
    "for i in range(n):\n",
    "    array.append(list(map(int, input().split())))\n",
    "    \n",
    "# 북, 동, 남, 서 방향 정의\n",
    "dx = [-1, 0, 1, 0]\n",
    "dy = [0, 1, 0, -1]\n",
    "\n",
    "# 왼쪽으로 회전\n",
    "def turn_left():\n",
    "    global direction\n",
    "    direction -= 1\n",
    "    if direction == -1:\n",
    "        direction = 3\n",
    "\n",
    "# 시뮬레이션 시작\n",
    "count = 1\n",
    "turn_time = 0\n",
    "while True:\n",
    "    # 왼쪽으로 회전\n",
    "    turn_left()\n",
    "    nx = x + dx[direction]\n",
    "    ny = y + dy[direction]\n",
    "    # 회전한 이후 정면에 가보지 않은 칸이 존재하는 경우 이동\n",
    "    if d[nx][ny] == 0 and array[nx][ny] == 0:\n",
    "        d[nx][ny] = 1\n",
    "        x = nx\n",
    "        y = ny\n",
    "        count += 1\n",
    "        turn_time = 0\n",
    "        continue\n",
    "    # 회전한 이후 정면에 가보지 않은 칸이 없거나 바다인 경우\n",
    "    else:\n",
    "        turn_time += 1\n",
    "    # 네 방향 모두 갈 수 없는 경우\n",
    "    if turn_time == 4:\n",
    "        nx = x - dx[direction]\n",
    "        ny = y - dy[direction]\n",
    "        # 뒤로 갈 수 있다면 이동하기\n",
    "        if array[nx][ny] == 0:\n",
    "            x = nx\n",
    "            y = ny\n",
    "        # 뒤가 바다로 막혀있는 경우\n",
    "        else:\n",
    "            break\n",
    "        turn_time = 0 \n",
    "        \n",
    "# 정답 출력\n",
    "print(count)"
   ]
  }
 ],
 "metadata": {
  "kernelspec": {
   "display_name": "base",
   "language": "python",
   "name": "python3"
  },
  "language_info": {
   "codemirror_mode": {
    "name": "ipython",
    "version": 3
   },
   "file_extension": ".py",
   "mimetype": "text/x-python",
   "name": "python",
   "nbconvert_exporter": "python",
   "pygments_lexer": "ipython3",
   "version": "3.10.9"
  },
  "orig_nbformat": 4
 },
 "nbformat": 4,
 "nbformat_minor": 2
}
