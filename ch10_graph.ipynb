{
 "cells": [
  {
   "cell_type": "markdown",
   "metadata": {},
   "source": [
    "# 10. 그래프 이론"
   ]
  },
  {
   "cell_type": "markdown",
   "metadata": {},
   "source": [
    "## 실전 문제"
   ]
  },
  {
   "cell_type": "markdown",
   "metadata": {},
   "source": [
    "### 팀 결성 // RE(틀림)"
   ]
  },
  {
   "cell_type": "markdown",
   "metadata": {},
   "source": [
    "#### 제한\n",
    "* 풀이 시간 20분\n",
    "* 시간 제한 2초\n",
    "* 메모리 제한 128MB\n",
    "\n",
    "##### 아이디어\n",
    "* 서로소 집합 알고리즘의 find, union 기능을 함수로 만들어서 사용하자."
   ]
  },
  {
   "cell_type": "markdown",
   "metadata": {},
   "source": [
    "#### 시간 복잡도\n",
    "* $O(N + {find 연산 개수}(1+\\log_{2-{find 연산 개수}/N}N))$ 라고 한다. 정확한 계산은 조금 복잡할 듯 하다.\n",
    "    * [참고할 만한 링크](https://hazel-developer.tistory.com/272)\n",
    "\n",
    "#### 해설 본 후\n",
    "* N, M의 범위가 모두 최대 100,000이므로 경로 압축을 이용한 서로소 집합 자료구조를 활용해야 함.\n",
    "    * 경로 압축을 이용하지 않으면 시간 복잡도가 O(NM)이고, 이용하면 $O(N + {find 연산 개수}(1+\\log_{2-{find 연산 개수}/N}N))$ 이므로 이 경우엔 경로 압축을 해야 시간 내에 해결 가능\n",
    "* 기왕이면 가독성을 위해 함수를 앞에다 설정하고, 함수를 앞에다 설정하기 위해 팀을 기록할 리스트를 파라미터에 추가하자.\n",
    "* 함수들을 잘못 짰다. find를 만들었으면 union에 이를 사용해야 하는데 그렇게 하지 않아 경로 압축이 안 됐을 것이다. 테스트 케이스에는 운좋게 통과가 되었다.\n",
    "* 같은 팀 여부 확인 연산을 굳이 함수로 만들 필요 없이, find를 두 번 이용하여 바로 비교할 수 있다."
   ]
  },
  {
   "cell_type": "code",
   "execution_count": 11,
   "metadata": {},
   "outputs": [
    {
     "ename": "ValueError",
     "evalue": "not enough values to unpack (expected 2, got 0)",
     "output_type": "error",
     "traceback": [
      "\u001b[1;31m---------------------------------------------------------------------------\u001b[0m",
      "\u001b[1;31mValueError\u001b[0m                                Traceback (most recent call last)",
      "Cell \u001b[1;32mIn[11], line 2\u001b[0m\n\u001b[0;32m      1\u001b[0m \u001b[39m# 학생 번호 N, 연산 개수 M 입력\u001b[39;00m\n\u001b[1;32m----> 2\u001b[0m N, M \u001b[39m=\u001b[39m \u001b[39mmap\u001b[39m(\u001b[39mint\u001b[39m, \u001b[39minput\u001b[39m()\u001b[39m.\u001b[39msplit())\n\u001b[0;32m      4\u001b[0m \u001b[39m# 학생들의 팀을 기록할 리스트 선언(자기 자신을 팀으로 초기화)\u001b[39;00m\n\u001b[0;32m      5\u001b[0m teams \u001b[39m=\u001b[39m [i \u001b[39mfor\u001b[39;00m i \u001b[39min\u001b[39;00m \u001b[39mrange\u001b[39m(N\u001b[39m+\u001b[39m\u001b[39m1\u001b[39m)]\n",
      "\u001b[1;31mValueError\u001b[0m: not enough values to unpack (expected 2, got 0)"
     ]
    }
   ],
   "source": [
    "# 학생 번호 N, 연산 개수 M 입력\n",
    "N, M = map(int, input().split())\n",
    "\n",
    "# 학생들의 팀을 기록할 리스트 선언(자기 자신을 팀으로 초기화)\n",
    "teams = [i for i in range(N+1)]\n",
    "\n",
    "# 해당 학생의 팀을 찾는 함수 정의\n",
    "def find_team(a):\n",
    "    if teams[a] != a:\n",
    "        teams[a] = find_team(teams[a])\n",
    "    return teams[a]\n",
    "\n",
    "# 팀 합치기 연산 정의\n",
    "def union_team(a, b):\n",
    "    team_a = teams[a]\n",
    "    team_b = teams[b]\n",
    "    \n",
    "    if team_a < team_b:\n",
    "        teams[team_b] = team_a\n",
    "    else:\n",
    "        teams[team_a] = team_b\n",
    "    \n",
    "# 같은 팀 여부 확인 연산 정의\n",
    "def check_same_team(a, b):\n",
    "    if teams[a] == teams[b]:\n",
    "        return 'YES'\n",
    "    else:\n",
    "        return 'NO'\n",
    "\n",
    "# 연산 조건 입력 받아서 진행\n",
    "for _ in range(M):\n",
    "    oper, a, b = map(int, input().split())\n",
    "    \n",
    "    # 합치기 연산\n",
    "    if oper == 0:\n",
    "        union_team(a, b)\n",
    "    # 같은 팀 여부 확인 연산\n",
    "    else:\n",
    "        print(check_same_team(a, b))"
   ]
  },
  {
   "cell_type": "markdown",
   "metadata": {},
   "source": [
    "#### 해설 코드 참조"
   ]
  },
  {
   "cell_type": "code",
   "execution_count": null,
   "metadata": {},
   "outputs": [
    {
     "name": "stdout",
     "output_type": "stream",
     "text": [
      "NO\n",
      "NO\n",
      "YES\n"
     ]
    }
   ],
   "source": [
    "# 특정 원소가 속한 집합을 찾기\n",
    "def find_team(teams, a):\n",
    "    # 루트 노드가 아니라면, 루트 노드를 찾을 때까지 재귀적으로 호출\n",
    "    if teams[a] != a:\n",
    "        teams[a] = find_team(teams, teams[a])\n",
    "    return teams[a]\n",
    "\n",
    "# 두 원소가 속한 집합을 합치기\n",
    "def union_team(teams, a, b):\n",
    "    team_a = find_team(teams, a)\n",
    "    team_b = find_team(teams, b)\n",
    "    \n",
    "    if team_a < team_b:\n",
    "        teams[team_b] = team_a\n",
    "    else:\n",
    "        teams[team_a] = team_b\n",
    "\n",
    "N, M = map(int, input().split())\n",
    "teams = [i for i in range(N+1)] # 부모 테이블 초기화(부모를 자기 자신으로)\n",
    "    \n",
    "# 각 연산을 하나씩 확인\n",
    "for _ in range(M):\n",
    "    oper, a, b = map(int, input().split())\n",
    "    # 합집합(union) 연산인 경우\n",
    "    if oper == 0:\n",
    "        union_team(teams, a, b)\n",
    "    # 찾기(find) 연산인 경우\n",
    "    elif oper == 1:\n",
    "        if find_team(teams, a) == find_team(teams, b):\n",
    "            print('YES')\n",
    "        else:\n",
    "            print('NO')"
   ]
  },
  {
   "cell_type": "markdown",
   "metadata": {},
   "source": [
    "### 도시 분할 계획\n",
    "https://www.acmicpc.net/problem/1647"
   ]
  },
  {
   "cell_type": "markdown",
   "metadata": {},
   "source": [
    "#### 제한\n",
    "* 풀이 시간 40분\n",
    "* 시간 제한 2초\n",
    "* 메모리 제한 256MB\n",
    "\n",
    "#### 아이디어\n",
    "* 크루스칼 이용하여 최소 신장 트리 만든 다음, 가장 높은 비용의 간선 하나를 제거하면 될 것 같다.\n",
    "* 시간 초과가 난다. 입력값이 최대 1,000,000개가 될 수 있으므로 sys.stdin.readline()을 이용해보자 => 됐다."
   ]
  },
  {
   "cell_type": "markdown",
   "metadata": {},
   "source": [
    "#### 시간 복잡도\n",
    "* 크루스칼 알고리즘을 사용했고, 간선의 개수가 M개이므로 O(MlogM).\n",
    "* M은 최대 1,000,000이므로 시간 내에 해결이 가능하다.\n",
    "\n",
    "#### 해설 본 후\n",
    "* 어차피 간선이 유지비 기준 오름차순으로 정렬되어 있으므로, 최대 유지비의 길을 저장할 때 max()를 쓸 필요 없이 해당 값으로 갱신만 해주면 된다.\n",
    "* 답지에선 sys.stdin.readline()을 안 쓰고 그냥 input()으로 했는데, 백준에서 채점 돌려보면 input()으로 하면 시간초과가 난다."
   ]
  },
  {
   "cell_type": "code",
   "execution_count": null,
   "metadata": {},
   "outputs": [
    {
     "name": "stdout",
     "output_type": "stream",
     "text": [
      "8\n"
     ]
    }
   ],
   "source": [
    "import sys\n",
    "\n",
    "# 어떤 집이 속한 마을을 확인하는 함수 선언\n",
    "def find_group(groups, a):\n",
    "    if groups[a] != a:\n",
    "        groups[a] = find_group(groups, groups[a])\n",
    "    return groups[a]\n",
    "\n",
    "# 두 집이 속한 마을을 같은 마을로 합치는 함수 선언\n",
    "def union_group(groups, a, b):\n",
    "    group_a = find_group(groups, a)\n",
    "    group_b = find_group(groups, b)\n",
    "    \n",
    "    if group_a < group_b:\n",
    "        groups[group_b] = group_a\n",
    "    else:\n",
    "        groups[group_a] = group_b\n",
    "\n",
    "# 집 개수 N, 길 개수 M 입력\n",
    "N, M = map(int, input().split())\n",
    "\n",
    "# 집들이 속한 마을 정보를 담는 리스트 선언(자신이 속한 마을을 자신의 마을로 초기화)\n",
    "groups = [i for i in range(N+1)]\n",
    "\n",
    "# 길의 정보 입력\n",
    "roads = []\n",
    "for _ in range(M):\n",
    "    A, B, C = map(int, sys.stdin.readline().split())\n",
    "    # A번 집에서 B번 집으로 가는 경로의 유지비가 C임.\n",
    "    roads.append((C, (A, B)))\n",
    "\n",
    "# 길을 유지비 기준 오름차순으로 정렬\n",
    "roads.sort()\n",
    "\n",
    "# 최소 신장 트리를 통해 구한 길의 전체 유지비와 길 중 가장 유지비가 높은 길의 유지비를 초기화\n",
    "result = 0\n",
    "max_cost = 0\n",
    "\n",
    "# 모든 길을 확인하며\n",
    "for cost, road in roads:\n",
    "    # 길로 이어진 두 집의 속한 마을이 다르다면\n",
    "    if find_group(groups, road[0]) != find_group(groups, road[1]):\n",
    "        # 속한 마을을 합쳐주고\n",
    "        union_group(groups, road[0], road[1])\n",
    "        # 전체 유지비에 해당 길의 유지비를 추가하고\n",
    "        result += cost\n",
    "        # 지금까지 확인한 길보다 유지비가 비싸다면 최대 유지비를 가진 길을 갱신\n",
    "        max_cost = max(max_cost, cost) ## 어차피 오름차순 정렬되어 있으므로 max()를 쓰지 않고 갱신해도 된다.\n",
    "\n",
    "# 전체 유지비에서 가장 유지비가 큰 길을 빼서 마을 두 개를 생성할 수 있다.\n",
    "print(result - max_cost)"
   ]
  },
  {
   "cell_type": "markdown",
   "metadata": {},
   "source": [
    "### 커리큘럼 // RE(해결 못 함)"
   ]
  },
  {
   "cell_type": "markdown",
   "metadata": {},
   "source": [
    "#### 제한\n",
    "* 풀이 시간 50분\n",
    "* 시간 제한 2초\n",
    "* 메모리 제한 128MB\n",
    "\n",
    "#### 아이디어\n",
    "* 선수 강의의 개수가 적은 것부터 확인한다.\n",
    "* 어떤 강의의 선수 강의 중 indegree가 같은 레벨에 있는 강의가 여러 개라면 그 중에 가장 시간이 오래 걸리는 것만 시간에 추가한다.\n",
    "* 어떤 강의의 시간을 체크할 때 선수 강의 목록에 선수 강의와 선수 강의의 선수 강의가 함께 들어있다면, 후자의 시간을 중복 체크하지 않도록 한다.\n",
    "\n",
    "* 근데 여기선 상위 강의의 정보에 선수 강의가 들어가 있어서 거꾸로 봐야할 것 같은데... => 방향을 뒤집어서 기본 코드와 비슷하게 가보자"
   ]
  },
  {
   "cell_type": "markdown",
   "metadata": {},
   "source": [
    "#### 시간 복잡도\n",
    "* 해설 코드 기준 최악의 경우엔 O(N!)이 되지 않나? N번 강의가 1번부터 N-1번까지를 모두 선수 과목으로 한다면 간선이 그렇게 될 것 같은데\n",
    "    * 아니구나. 노드 N개일 때, 간선은 N(N-1)/2이 최대가 되겠네. 그러면 O(N^3)이고 N은 최대 500이니까 해결 가능이겠다.\n",
    "\n",
    "#### 해설 본 후\n",
    "* 너무 어렵게 생각했나... 그리고 스스로가 답이라고 생각한 방식에 확신이 없고 구체화를 못해서 금방 포기해버린 건 아닌가 싶다.\n",
    "* 상위 강의 -> 하위 강의의 형태로 입력이 주어지므로, 위상 정렬 알고리즘 사용을 위해 이를 뒤집어줘야 한다. 생각은 했는데, 다른 좋은 방법이 있지 않을까 하며 시도를 안 해봤다...\n",
    "* 특히 같은 차수에서 둘 다 선수 과목으로 하는 과목이 있을 경우 더 많은 시간이 걸리는 것을 채택해야 하는데 그 부분을 어떻게 구현할지 막막했다. 해설에서는 똑같이 위상정렬을 돌되, max()를 이용하여 그 부분을 체크해줬다.\n",
    "* 모르겠으면 그냥 많이 풀어보는 게 장땡인 건 맞을 것 같다. 정진합시다."
   ]
  },
  {
   "cell_type": "code",
   "execution_count": null,
   "metadata": {},
   "outputs": [
    {
     "name": "stdout",
     "output_type": "stream",
     "text": [
      "[0, 10, 10, 4, 4, 3]\n",
      "[[], [], [1], [1], [3, 1], [3]]\n"
     ]
    }
   ],
   "source": [
    "# X\n",
    "\n",
    "from collections import deque\n",
    "\n",
    "# 듣고자 하는 강의 수 N 입력\n",
    "N = int(input())\n",
    "\n",
    "\n",
    "course_times = [0] * (N+1) # 각 강의의 소요 시간\n",
    "graph = [[] for _ in range(N+1)]\n",
    "indegrees = [0] * (N+1)\n",
    "\n",
    "# 강의 시간 및 선수 강의 정보 입력\n",
    "for i in range(1, N+1):\n",
    "    time, *precourse = map(int, input().split())\n",
    "    course_times[i] = time\n",
    "    for p in precourse[:-1]:\n",
    "        graph[p].append(i)\n",
    "        indegrees[i] += 1\n",
    "\n",
    "shortest_time = [0] * (N+1)\n",
    "\n",
    "q = deque()\n",
    "\n",
    "for i in range(1, N+1):\n",
    "    if indegrees[i] == 0:\n",
    "        q.append(i)\n",
    "        \n",
    "while q:\n",
    "    course = q.popleft()\n",
    "    "
   ]
  },
  {
   "cell_type": "markdown",
   "metadata": {},
   "source": [
    "#### 해설 코드 참고"
   ]
  },
  {
   "cell_type": "code",
   "execution_count": null,
   "metadata": {},
   "outputs": [],
   "source": [
    "from collections import deque\n",
    "import copy\n",
    "\n",
    "# 노드 개수 입력\n",
    "v = int(input())\n",
    "# 모든 노드에 대한 진입차수를 0으로 초기화\n",
    "indegree = [0] * (v+1)\n",
    "# 각 노드에 연결된 간선 정보를 담기 위한 연결 리스트(그래프) 초기화\n",
    "graph = [[] for i in range(v+1)]\n",
    "# 각 강의 시간을 0으로 초기화\n",
    "time = [0] * (v+1)\n",
    "\n",
    "# 방향 그래프의 모든 간선 정보를 입력받기\n",
    "for i in range(1, v+1):\n",
    "    data = list(map(int, input().split()))\n",
    "    time[i] = data[0] # 첫 번째 수는 시간 정보를 담고 있음\n",
    "    for x in data[1:-1]:\n",
    "        indegree[i] += 1\n",
    "        graph[x].append(i) ## 여기도 키포인트\n",
    "        \n",
    "# 위상 정렬 함수\n",
    "def topology_sort():\n",
    "    result = copy.deepcopy(time) # 알고리즘 수행 결과를 담을 리스트\n",
    "    q = deque() # 큐 기능을 위한 deque 라이브러리 사용\n",
    "    \n",
    "    # 처음 시작할 때는 진입차수가 0인 노드를 큐에 삽입\n",
    "    for i in range(1, v + 1):\n",
    "        if indegree[i] == 0:\n",
    "            q.append(i)\n",
    "            \n",
    "    # 큐가 빌 때까지 반복\n",
    "    while q:\n",
    "        # 큐에서 원소 꺼내기\n",
    "        now = q.popleft()\n",
    "        # 해당 원소와 연결된 노드들의 진입차수에서 1 빼기\n",
    "        for i in graph[now]:\n",
    "            result[i] = max(result[i], result[now] + time[i]) ## 여기가 키포인트라고 생각한다.\n",
    "            indegree[i] -= 1\n",
    "            # 새롭게 진입차수가 0이 되는 노드를 큐에 삽입\n",
    "            if indegree[i] == 0:\n",
    "                q.append(i)\n",
    "                \n",
    "    # 위상 정렬 수행 결과 출력\n",
    "    for i in range(1, v+1):\n",
    "        print(result[i])\n",
    "\n",
    "topology_sort()"
   ]
  },
  {
   "cell_type": "markdown",
   "metadata": {},
   "source": [
    "## Q41. 여행 계획"
   ]
  },
  {
   "cell_type": "markdown",
   "metadata": {},
   "source": [
    "#### 제한\n",
    "* 풀이 시간 40분\n",
    "* 시간 제한 1초\n",
    "* 메모리 제한 128MB\n",
    "\n",
    "#### 아이디어\n",
    "* 여행 계획이 가능하려면 여행 계획 내의 모든 여행지가 한 그룹에 있어야 한다 => 루트 노드가 같아야 한다.\n",
    "* 여행지 연결 여부가 인접 행렬로 들어오니 이를 인접 리스트의 형태로 바꿔주고, 인접 행렬을 받아올 때 중복이 생기므로 전체 리스트 내 원소는 set으로 구성하여 중복을 없앤다.\n",
    "* 여행 계획 내 도시들이 모두 연결되어 있어야(루트 노드가 모두 같아야) 여행 계획이 가능하므로 첫 번째 노드의 루트 노드를 기록하여 다른 노드들의 루트 노드와 비교하여 루트 노드가 서로 다른 경우 NO, 모두 같은 경우는 YES를 출력한다"
   ]
  },
  {
   "cell_type": "markdown",
   "metadata": {},
   "source": [
    "#### 시간 복잡도\n",
    "* 경로 압축 이용한 서로소 집합 알고리즘의 시간 복잡도는 $O(N + {find 연산 개수}(1+\\log_{2-{find 연산 개수}/N}N))$라고 한다.\n",
    "* N은 최대 500이고, find 연산 개수도 최대 4N 정도일 것이므로 시간 내에 해결이 가능하다.\n",
    "\n",
    "#### 해설 본 후\n",
    "* 잘 풀었다.\n",
    "* 답지에서는 여행 계획 내 여행지의 모든 루트 노드가 동일한지 체크할 때 확인하는 노드와 그 다음 노드의 루트 노드가 같은지 비교를 반복하며 체크했다.\n",
    "    * 또한 답지에서는 비교할 때도 루트 노드를 찾을 때 find 함수를 썼는데, 어차피 union과정에서 다 갱신되어 그냥 루트 노드 리스트에서 뽑아오는 것과 같겠지만, 이게 더 안전할 것 같긴 하다.\n",
    "\n",
    "* 굳이 플래그 쓸 필요 없이 바로 멈추면 된다."
   ]
  },
  {
   "cell_type": "code",
   "execution_count": null,
   "metadata": {},
   "outputs": [
    {
     "name": "stdout",
     "output_type": "stream",
     "text": [
      "YES\n"
     ]
    }
   ],
   "source": [
    "# 루트 노드 찾는 함수 선언\n",
    "def find_root(roots, node):\n",
    "    if roots[node] != node:\n",
    "        roots[node] = find_root(roots, roots[node])\n",
    "    return roots[node]\n",
    "\n",
    "# 두 노드의 루트 노드를 같게하여 같은 묶음으로 묶는 함수 선언\n",
    "def union_root(roots, a, b):\n",
    "    root_a = find_root(roots, a)\n",
    "    root_b = find_root(roots, b)\n",
    "    \n",
    "    if root_a < root_b:\n",
    "        roots[root_b] = root_a\n",
    "    else:\n",
    "        roots[root_a] = root_b\n",
    "\n",
    "# 여행지 수 N, 여행 계획에 속한 도시 수 M 입력\n",
    "N, M = map(int, input().split())\n",
    "\n",
    "# 각 여행지의 루트 노드는 자기 자신으로 초기화\n",
    "roots = [i for i in range(N+1)]\n",
    "\n",
    "# 여행지 연결 정보 입력\n",
    "for i in range(1, N+1):\n",
    "    row = list(map(int, input().split()))\n",
    "    for j in range(N):\n",
    "        # 연결돼있는 도시들은 그때그때 union을 통해 루트노드를 같게 하여 한 그룹으로 만들어주기\n",
    "        if row[j] == 1:\n",
    "            union_root(roots, i, j+1)\n",
    "\n",
    "# 여행 계획 정보 입력\n",
    "travel_plan = list(map(int, input().split()))\n",
    "\n",
    "# 여행 계획의 첫 번째 도시의 루트 노드를 할당\n",
    "travle_root = roots[travel_plan[0]]\n",
    "# 플래그 변수 선언\n",
    "flag = True\n",
    "\n",
    "# 두 번째 도시부터 확인하며\n",
    "for node in travel_plan[1:]:\n",
    "    # 첫 번째 도시의 루트 노드와 확인하는 도시의 루트 노드가 다른 경우\n",
    "    if roots[node] != travle_root:\n",
    "        # 플래그 변수를 False로 바꾸고 반복 중지\n",
    "        flag = False\n",
    "        break\n",
    "# 반복이 종료됐을 때 플래그 변수가 True라면 모든 도시의 루트 노드가 같아 연결되어 있다는 뜻이므로 YES 출력, 아니라면 NO 출력\n",
    "else:\n",
    "    if flag == True: ## 그냥 if flag: 만 해도 됨\n",
    "        print('YES')\n",
    "    else:\n",
    "        print('NO')"
   ]
  },
  {
   "cell_type": "markdown",
   "metadata": {},
   "source": [
    "#### 해설 코드 참고(루트 노드 비교 부분)"
   ]
  },
  {
   "cell_type": "code",
   "execution_count": null,
   "metadata": {},
   "outputs": [],
   "source": [
    "for i in range(M-1):\n",
    "    if find_root(roots, travel_plan[i]) != find_root(roots, travel_plan(i+1)):\n",
    "        flag = False"
   ]
  },
  {
   "cell_type": "markdown",
   "metadata": {},
   "source": [
    "# Q42. 탑승구 // RE(해결 못 함)"
   ]
  },
  {
   "cell_type": "markdown",
   "metadata": {},
   "source": [
    "#### 제한\n",
    "* 풀이 시간 50분\n",
    "* 시간 제한 1초\n",
    "* 메모리 제한 128MB\n",
    "\n",
    "#### 아이디어\n",
    "* 비행기가 들어갈 수 있는 가장 높은 번호의 탑승구에부터 배치 -> 그 탑승구가 이미 차 있는 경우 탑승구 번호를 하나씩 감소시키면서 빈 곳에 배치\n",
    "* (기억의 저편) 탑승구 확인 때마다 번호 하나 작은 탑승구랑 union해서 푸는 거였는데.. => 맞다."
   ]
  },
  {
   "cell_type": "markdown",
   "metadata": {},
   "source": [
    "#### 시간 복잡도\n",
    "* $O(N + {find 연산 개수}(1+\\log_{2-{find 연산 개수}/N}N))$ ? \n",
    "* 해설 코드 기준 대충 union연산과 find연산을 각각 최대 100,000번씩 하고, 그러면 시간 내에 해결 가능할 듯?\n",
    "\n",
    "#### 해설 본 후\n",
    "* 거의 다 왔는데 답을 봐버렸다. 생각한 것들을 다 해봤으면 맞았을 텐데. 포기가 빨랐다.\n",
    "* 마지막에 union해줄 때 해당 노드가 아닌 부모 노드로 해줘야 답이 된다."
   ]
  },
  {
   "cell_type": "code",
   "execution_count": null,
   "metadata": {},
   "outputs": [
    {
     "name": "stdout",
     "output_type": "stream",
     "text": [
      "2\n"
     ]
    }
   ],
   "source": [
    "# O(G*P)이고, G, P가 각각 최대 100,000이므로 제한 시간 초과 가능성 농후\n",
    "\n",
    "# 탑승구 수 G 입력\n",
    "G = int(input())\n",
    "\n",
    "# 비행기 수 P 입력\n",
    "P = int(input())\n",
    "\n",
    "# 탑승구가 찼는지 확인하는 리스트 선언\n",
    "full = [False] * (G+1)\n",
    "\n",
    "# 정답 변수와 플래그 변수 선언\n",
    "answer = 0\n",
    "flag = True\n",
    "\n",
    "# 비행기별 도킹 가능 탑승구 정보 받아오며\n",
    "for _ in range(P):\n",
    "    biggest_gate = int(input())\n",
    "    # 플래그 변수가 True라면 탑승구 갱신 진행\n",
    "    if flag:\n",
    "        # 탑승구 번호 역순으로 확인하며\n",
    "        for i in range(biggest_gate, -1, -1):\n",
    "            # 모든 탑승구를 확인했는데 비행기를 도킹할 수 없다면 플래그 변수를 False로 변환\n",
    "            if i == 0:\n",
    "                flag = False\n",
    "                continue\n",
    "            # 해당 탑승구에 비행기를 도킹할 수 있다면 탑승구 참 여부를 갱신하고 정답 변수에 1 추가 후 다음 비행기 체크\n",
    "            if not full[i]:\n",
    "                full[i] = True\n",
    "                answer += 1\n",
    "                break\n",
    "\n",
    "print(answer)"
   ]
  },
  {
   "cell_type": "code",
   "execution_count": null,
   "metadata": {},
   "outputs": [
    {
     "name": "stdout",
     "output_type": "stream",
     "text": [
      "2\n"
     ]
    }
   ],
   "source": [
    "# 해당 노드의 루트 노드 찾기(특정 원소가 속한 집합 찾기)\n",
    "def find_parent(parents, node):\n",
    "    if parents[node] != node:\n",
    "        parents[node] = find_parent(parents, parents[node])\n",
    "    return parents[node]\n",
    "\n",
    "# 두 원소의 루트 노드 통일(두 원소가 속한 집합 합치기)\n",
    "def union_parent(parents, a, b):\n",
    "    parent_a = find_parent(parents, a)\n",
    "    parent_b = find_parent(parents, b)\n",
    "    \n",
    "    if parent_a < parent_b:\n",
    "        parents[parent_b] = parent_a\n",
    "    else:\n",
    "        parents[parent_a] = parent_b\n",
    "\n",
    "# 탑승구 수 G 입력\n",
    "G = int(input())\n",
    "\n",
    "# 비행기 수 P 입력\n",
    "P = int(input())\n",
    "\n",
    "parents = [i for i in range(G+1)]\n",
    "\n",
    "### my version\n",
    "# 비행기별 도킹 가능 탑승구 정보 입력\n",
    "boarding = [0]\n",
    "for _ in range(P):\n",
    "    boarding.append(int(input()))\n",
    "\n",
    "# 정답 변수 선언\n",
    "answer = 0\n",
    "\n",
    "# 비행기의 탑승구를 확인하면서\n",
    "for i in range(1, P+1):\n",
    "    # 루트 노드가 0이면 반복 종료\n",
    "    if find_parent(parents, boarding[i]) == 0:\n",
    "        break\n",
    "    # 아니라면 정답 변수에 1 추가하고 해당 탑승구의 루트 노드와 그 왼쪽 노드의 그룹을 합침\n",
    "    answer += 1\n",
    "    union_parent(parents, parents[boarding[i]]-1, parents[boarding[i]]) ## 이 부분을 부모 노드가 아닌 기본 노드로 했었음\n",
    "###\n",
    "\n",
    "### 해설 버전\n",
    "answer = 0\n",
    "for _ in range(P):\n",
    "    data = find_parent(parents, int(input())) # 현재 비행기의 탑승구의 루트 확인\n",
    "    if data == 0: # 현재 루트가 0이라면, 종료\n",
    "        break\n",
    "    union_parent(parents, data, data - 1) # 그렇지 않다면 바로 왼쪽의 집합과 합치기\n",
    "    answer += 1\n",
    "###\n",
    "\n",
    "print(answer)"
   ]
  },
  {
   "cell_type": "markdown",
   "metadata": {},
   "source": [
    "## Q43. 어두운 길"
   ]
  },
  {
   "cell_type": "markdown",
   "metadata": {},
   "source": [
    " #### 제한\n",
    " * 풀이 시간 40분\n",
    " * 시간 제한 1초\n",
    " * 메모리 제한 128MB\n",
    "\n",
    "#### 아이디어\n",
    "* 크루스칼 써서 최소신장트리 구한 후 전체 비용에서 최소신장트리 구성 비용 빼기"
   ]
  },
  {
   "cell_type": "markdown",
   "metadata": {},
   "source": [
    "#### 시간 복잡도\n",
    "* 크루스칼 알고리즘의 시간 복잡도는 O(ElogE).\n",
    "* 이 문제에서 E는 M과 같고, M의 최댓값은 200,000이므로 시간 내에 해결이 가능하다.\n",
    "\n",
    "#### 해설 본 후\n",
    "* 잘 풀었다"
   ]
  },
  {
   "cell_type": "code",
   "execution_count": null,
   "metadata": {},
   "outputs": [
    {
     "name": "stdout",
     "output_type": "stream",
     "text": [
      "51\n"
     ]
    }
   ],
   "source": [
    "# 노드가 속한 집합 찾기\n",
    "def find_root(roots, node):\n",
    "    if roots[node] != node:\n",
    "        roots[node] = find_root(roots, roots[node])\n",
    "    return roots[node]\n",
    "\n",
    "# 두 노드의 집합 합치기\n",
    "def union_root(roots, a, b):\n",
    "    root_a = find_root(roots, a)\n",
    "    root_b = find_root(roots, b)\n",
    "    \n",
    "    if root_a < root_b:\n",
    "        roots[root_b] = root_a\n",
    "    else:\n",
    "        roots[root_a] = root_b\n",
    "\n",
    "# 집의 수 N과 도로의 수 M 입력\n",
    "N, M = map(int, input().split())\n",
    "\n",
    "# 도로 정보 및 전체 가로등 비용 입력\n",
    "graph = []\n",
    "whole_cost = 0\n",
    "\n",
    "for _ in range(M):\n",
    "    X, Y, Z = map(int, input().split())\n",
    "    graph.append((Z, X, Y))\n",
    "    whole_cost += Z\n",
    "\n",
    "# 도로를 비용에 따라 오름차순으로 정렬\n",
    "graph.sort()\n",
    "\n",
    "# 루트 노드 테이블 선언\n",
    "roots = [i for i in range(N)]\n",
    "\n",
    "# 최소 신장 트리의 비용값 선언\n",
    "total = 0\n",
    "# 비용이 적은 순으로 모든 간선을 확인하며\n",
    "for cost, x, y in graph:\n",
    "    # 간선으로 연결된 두 노드가 같은 그룹이 아닌 경우(사이클이 발생하지 않는 경우) 두 집합을 합치고 비용값에 비용 추가\n",
    "    if find_root(roots, x) != find_root(roots, y):\n",
    "        union_root(roots, x, y)\n",
    "        total += cost\n",
    "\n",
    "# 정답 출력\n",
    "print(whole_cost-total)"
   ]
  },
  {
   "cell_type": "markdown",
   "metadata": {},
   "source": [
    "## Q44. 행성 터널 // RE(해결 못 함)\n",
    "https://www.acmicpc.net/problem/2887"
   ]
  },
  {
   "cell_type": "markdown",
   "metadata": {},
   "source": [
    "#### 제한\n",
    "* 풀이 시간 40분\n",
    "* 시간 제한 1초\n",
    "* 메모리 제한 128MB\n",
    "\n",
    "#### 아이디어\n",
    "* (기억의 저편) 축 별로 정렬해서 전체 반복횟수를 줄여야 했던 것 같은데\n",
    "* 일단 모든 간선을 전부 고려하여 코드를 짜보자\n",
    "* x, y, z가 최소가 되는 그룹을 각각 나누면? => 결국 마지막에 합쳐서 계산해야 해서 똑같은데..."
   ]
  },
  {
   "cell_type": "markdown",
   "metadata": {},
   "source": [
    "#### 시간 복잡도\n",
    "* 공간 복잡도 => 질문에서 발췌\n",
    "    * n 이 100000 일 때 v 안에 들어가는 원소의 개수는 100000 * 99999 / 2 = 4999950000 개 입니다. 각 원소는 int 3개 = 12 byte 이므로, 필요한 메모리의 양은 4999950000 * 12 = 약 56 TB 으로, 문제에서 주어진 제한 128 MB 를 훨씬 초과합니다.\n",
    "* 시간복잡도도, 전체 간선으로 모두 고려하게 되면 O(N^2*logN^2)이 되어버려 시간 내에 해결할 수 없다.\n",
    "* 축 별로 N-1개의 간선만 고려하게 되면 O(NlogN)의 시간복잡도를 가질 것이므로 시간 내에 해결이 가능하다.\n",
    "\n",
    "#### 해설 본 후\n",
    "* 한 축을 기준으로 정렬했을 때 인접한 노드끼리만을 간선으로 잇는다면 N-1개의 간선만 고려하여 최소 신장 트리를 만들 수 있다. 이를 x, y, z 축에 모두 적용하면 N(N-1)/2개가 아닌 3(N-1)개의 간선만 이용하여 최소 신장 트리를 만들 수 있다.\n",
    "    * 이렇게 정렬할 거라면 x, y, z 리스트에 모든 좌표가 다 들어갈 필요 없이 해당하는 축의 좌표만 들어가면 된다.\n",
    "* 답지 코드도 시간 초과가 난다(...)\n",
    "    * sys.stdin.readline() 사용하거나 pypy3로 돌리면 통과"
   ]
  },
  {
   "cell_type": "code",
   "execution_count": null,
   "metadata": {},
   "outputs": [
    {
     "name": "stdout",
     "output_type": "stream",
     "text": [
      "4\n"
     ]
    }
   ],
   "source": [
    "## 1트\n",
    "## 전체 간선을 고려한 코드 => 메모리 초과\n",
    "\n",
    "# 두 노드 간 비용 계산하는 코드\n",
    "def cal_cost(a, b):\n",
    "    return min(abs(a[0] - b[0]), abs(a[1] - b[1]), abs(a[2] - b[2]))\n",
    "\n",
    "# 루트 노드 찾고 갱신하는 노드\n",
    "def find_root(roots, node):\n",
    "    if roots[node] != node:\n",
    "        roots[node] = find_root(roots, roots[node])\n",
    "    return roots[node]\n",
    "\n",
    "# 두 노드의 그룹을 합치는 코드\n",
    "def union_root(roots, a, b):\n",
    "    root_a = find_root(roots, a)\n",
    "    root_b = find_root(roots, b)\n",
    "    \n",
    "    if root_a < root_b:\n",
    "        roots[root_b] = root_a\n",
    "    else:\n",
    "        roots[root_a] = root_b\n",
    "\n",
    "# 행성 개수 N 입력\n",
    "N = int(input())\n",
    "\n",
    "# 각 행성의 좌표 입력\n",
    "planets = []\n",
    "for _ in range(N):\n",
    "    planets.append(tuple(map(int, input().split())))\n",
    "\n",
    "# 루트 노드 리스트 초기화\n",
    "roots = [i for i in range(N)]\n",
    "\n",
    "# 가능한 모든 간선을 담는 리스트 선언\n",
    "tunnels = []\n",
    "for i in range(N):\n",
    "    for j in range(i+1, N):\n",
    "        tunnels.append((cal_cost(planets[i], planets[j]), i, j))\n",
    "\n",
    "# 간선을 비용 기준 오름차순 정렬\n",
    "tunnels.sort()\n",
    "\n",
    "# 크루스칼 알고리즘 시행\n",
    "total = 0\n",
    "for cost, a, b in tunnels:\n",
    "    if find_root(roots, a) != find_root(roots, b):\n",
    "        union_root(roots, a, b)\n",
    "        total += cost\n",
    "\n",
    "print(total)"
   ]
  },
  {
   "cell_type": "code",
   "execution_count": null,
   "metadata": {},
   "outputs": [
    {
     "name": "stdout",
     "output_type": "stream",
     "text": [
      "4\n"
     ]
    }
   ],
   "source": [
    "## 2트\n",
    "## 기억을 되살려보자 => 사실상 위랑 똑같은 코드... 오히려 비효율적일지도\n",
    "\n",
    "# 두 노드 간 비용 계산하는 코드\n",
    "def cal_cost(a, b):\n",
    "    return min(abs(a[0] - b[0]), abs(a[1] - b[1]), abs(a[2] - b[2]))\n",
    "\n",
    "# 루트 노드 찾고 갱신하는 노드\n",
    "def find_root(roots, node):\n",
    "    if roots[node] != node:\n",
    "        roots[node] = find_root(roots, roots[node])\n",
    "    return roots[node]\n",
    "\n",
    "# 두 노드의 그룹을 합치는 코드\n",
    "def union_root(roots, a, b):\n",
    "    root_a = find_root(roots, a)\n",
    "    root_b = find_root(roots, b)\n",
    "    \n",
    "    if root_a < root_b:\n",
    "        roots[root_b] = root_a\n",
    "    else:\n",
    "        roots[root_a] = root_b\n",
    "\n",
    "# 행성 개수 N 입력\n",
    "N = int(input())\n",
    "\n",
    "# 각 행성의 좌표 입력\n",
    "planets = []\n",
    "for _ in range(N):\n",
    "    planets.append(tuple(map(int, input().split())))\n",
    "\n",
    "# 루트 노드 리스트 초기화\n",
    "roots = [i for i in range(N)]\n",
    "\n",
    "# 비용 체크할 때 선택된 축을 기준으로 나눠서 각각의 리스트에 저장 \n",
    "xs = []\n",
    "ys = [] \n",
    "zs = []\n",
    "for i in range(N-1):\n",
    "    for j in range(i+1, N):\n",
    "        x_cost = abs(planets[i][0] - planets[j][0])\n",
    "        y_cost = abs(planets[i][1] - planets[j][1])\n",
    "        z_cost = abs(planets[i][2] - planets[j][2])\n",
    "        if cal_cost(planets[i], planets[j]) == x_cost:\n",
    "            xs.append((x_cost, i, j))\n",
    "        elif cal_cost(planets[i], planets[j]) == y_cost:\n",
    "            ys.append((y_cost, i, j))\n",
    "        else:\n",
    "            zs.append((z_cost, i, j))\n",
    "\n",
    "# 해당 간선을 모두 합쳐 정렬\n",
    "tunnels = xs + ys + zs\n",
    "tunnels.sort()\n",
    "\n",
    "# 크루스칼 시행\n",
    "total = 0\n",
    "for cost, a, b in tunnels:\n",
    "    if find_root(roots, a) != find_root(roots, b):\n",
    "        union_root(roots, a, b)\n",
    "        total += cost\n",
    "\n",
    "print(total)"
   ]
  },
  {
   "cell_type": "code",
   "execution_count": null,
   "metadata": {},
   "outputs": [
    {
     "name": "stdout",
     "output_type": "stream",
     "text": [
      "4\n"
     ]
    }
   ],
   "source": [
    "## 3트: 시간 초과 // sys 쓰면 통과\n",
    "\n",
    "# 두 노드 간 비용 계산하는 코드\n",
    "def cal_cost(a, b):\n",
    "    return min(abs(a[0] - b[0]), abs(a[1] - b[1]), abs(a[2] - b[2]))\n",
    "\n",
    "# 루트 노드 찾고 갱신하는 노드\n",
    "def find_root(roots, node):\n",
    "    if roots[node] != node:\n",
    "        roots[node] = find_root(roots, roots[node])\n",
    "    return roots[node]\n",
    "\n",
    "# 두 노드의 그룹을 합치는 코드\n",
    "def union_root(roots, a, b):\n",
    "    root_a = find_root(roots, a)\n",
    "    root_b = find_root(roots, b)\n",
    "    \n",
    "    if root_a < root_b:\n",
    "        roots[root_b] = root_a\n",
    "    else:\n",
    "        roots[root_a] = root_b\n",
    "\n",
    "# 행성 개수 N 입력\n",
    "N = int(input())\n",
    "\n",
    "# 각 행성의 좌표 입력 및 루트 노드 리스트 초기화\n",
    "planets = []\n",
    "roots = []\n",
    "for num in range(N):\n",
    "    planets.append(list(map(int, input().split())) + [num])\n",
    "    roots.append(num)\n",
    "\n",
    "# 각 축 기준으로 오름차순 정렬한 리스트를 각각 선언\n",
    "xs = sorted(planets, key=lambda x:x[0])\n",
    "ys = sorted(planets, key=lambda x:x[1])\n",
    "zs = sorted(planets, key=lambda x:x[2])\n",
    "\n",
    "# 위 리스트에 대해 최소신장트리를 만드는 간선들만을 간선 후보에 추가\n",
    "tunnels = []\n",
    "for i in range(N-1):\n",
    "    tunnels.append((cal_cost(xs[i], xs[i+1]), xs[i][3], xs[i+1][3]))\n",
    "    tunnels.append((cal_cost(ys[i], ys[i+1]), ys[i][3], ys[i+1][3]))\n",
    "    tunnels.append((cal_cost(zs[i], zs[i+1]), zs[i][3], zs[i+1][3]))\n",
    "\n",
    "# 간선 후보가 담긴 리스트를 비용 기준 오름차순으로 정렬\n",
    "tunnels.sort()\n",
    "\n",
    "# 크루스칼 시행\n",
    "total = 0\n",
    "for cost, a, b in tunnels:\n",
    "    if find_root(roots, a) != find_root(roots, b):\n",
    "        union_root(roots, a, b)\n",
    "        total += cost\n",
    "\n",
    "print(total)"
   ]
  },
  {
   "cell_type": "markdown",
   "metadata": {},
   "source": [
    "#### 해설 코드 참조"
   ]
  },
  {
   "cell_type": "code",
   "execution_count": null,
   "metadata": {},
   "outputs": [],
   "source": [
    "# 특정 원소가 속한 집합을 찾기\n",
    "def find_parent(parent, x):\n",
    "    # 루트 노드가 아니라면, 루트 노드를 찾을 때까지 재귀적으로 호출\n",
    "    if parent[x] != x:\n",
    "        parent[x] = find_parent(parent, parent[x])\n",
    "    return parent[x]\n",
    "\n",
    "# 두 원소가 속한 집합을 합치기\n",
    "def union_parent(parent, a, b):\n",
    "    a = find_parent(parent, a)\n",
    "    b = find_parent(parent, b)\n",
    "    if a < b:\n",
    "        parent[b] = a\n",
    "    else:\n",
    "        parent[a] = b\n",
    "        \n",
    "# 노드의 개수 입력받기\n",
    "n = int(input())\n",
    "parent = [0] * (n+1) # 부모 테이블 초기화\n",
    "\n",
    "# 모든 간선을 담을 리스트와 최종 비용을 담을 ㅂ녀수\n",
    "edges = []\n",
    "result = 0\n",
    "\n",
    "# 부모 테이블상에서, 부모를 자기 자신으로 초기화\n",
    "for i in range(1, n+1):\n",
    "    parent[i] = i\n",
    "    \n",
    "x = []\n",
    "y = []\n",
    "z = []\n",
    "\n",
    "# 모든 노드에 대한 좌표 값 입력받기\n",
    "for i in range(1, n+1):\n",
    "    data = list(map(int, input().split()))\n",
    "    x.append((data[0], i))\n",
    "    y.append((data[1], i))\n",
    "    z.append((data[2], i))\n",
    "    \n",
    "x.sort()\n",
    "y.sort()\n",
    "z.sort()\n",
    "\n",
    "# 인접한 노드들로부터 간선 정보를 추출하여 처리\n",
    "for i in range(n-1):\n",
    "    # 비용순으로 정렬하기 위해서 튜플의 첫 번재 원소를 비용으로 설정\n",
    "    edges.append((x[i+1][0] - x[i][0], x[i][1], x[i+1][1]))\n",
    "    edges.append((y[i+1][0] - y[i][0], y[i][1], y[i+1][1]))\n",
    "    edges.append((z[i+1][0] - z[i][0], z[i][1], z[i+1][1]))\n",
    "\n",
    "# 간선을 비용순으로 정렬\n",
    "edges.sort()\n",
    "\n",
    "\n",
    "# 간선을 하나씩 확인하며\n",
    "for edge in edges:\n",
    "    cost, a, b = edge\n",
    "    # 사이클이 발생하지 않는 경우에만 집합에 포함\n",
    "    if find_parent(parent, a) != find_parent(parent, b):\n",
    "        union_parent(parent, a, b)\n",
    "        result += cost\n",
    "\n",
    "print(result)"
   ]
  },
  {
   "cell_type": "markdown",
   "metadata": {},
   "source": [
    "## Q45. 최종 순위 // RE(해결 못 함)\n",
    "https://www.acmicpc.net/problem/3665"
   ]
  },
  {
   "cell_type": "markdown",
   "metadata": {},
   "source": [
    "#### 제한\n",
    "* 풀이 시간 60분\n",
    "* 시간 제한 1초\n",
    "* 메모리 제한 256MB\n",
    "\n",
    "#### 아이디어\n",
    "* 진입차수를 통한 위상정렬로 풀어야 할 것 같다. 진입 차수를 이용해 상대적 등수가 바뀐 경우 대상 팀의 진입차수에 각각 +1 -1을 해주고, 이 과정을 모두 진행한 후 진입차수가 모두 유니크하다면 등수 매기기 가능, 애매한 것들은 ?로 처리하고, 아예 잘못됐다면 impossible로 하면 될듯?\n",
    "    * 이것도 아니다. 진입차수만 바꿔서 적용하면 다른 팀과의 등수 변화가 생기는 경우가 있다. => 다른 팀과의 상대적 등수를 보존하지 못하는 경우가 생긴다.\n",
    "* 등수를 진입차수의 개념으로 바로 사용하면 효율적일 것 같다. 상대적인 등수가 바뀌었을 때, 등수가 더 높아진(작은 숫자가 된)다면 등수에 -1, 반대라면 +1을 하는 식으로.\n",
    "    * 아니다. 어차피 이전 등수 기준으로 상대적인 등수가 결정되므로 이를 계속 사용해야 한다. 즉, 이전 등수를 직접 수정하는 것은 안 되기 때문에 어차피 새로운 변수를 하나 만들어야 한다."
   ]
  },
  {
   "cell_type": "markdown",
   "metadata": {},
   "source": [
    "#### 시간 복잡도\n",
    "* 정답 기준, 위상 정렬을 이용하므로 O(V+E)겠고, 이 경우에선 O(N^2)가 될 것이다. N은 최대 500이므로 시간 내에 해결이 가능하다.\n",
    "\n",
    "#### 해설 본 후\n",
    "* 애초에 문제 이해도 잘못했다.\n",
    "* 진입 차수만 생각할 것이 아니라, 그래프를 만들어 위상정렬 역시 적용해야 한다. 내 풀이 코드엔 위상정렬이 적용되지 않았다.\n",
    "* 일관성이 없는 경우 => 사이클 발생한 경우 라는데... 솔직히 등수에 일관성이 없다는 게 무슨 말인지 이해를 못했다."
   ]
  },
  {
   "cell_type": "code",
   "execution_count": 34,
   "metadata": {},
   "outputs": [
    {
     "name": "stdout",
     "output_type": "stream",
     "text": [
      "2 3 1 \n"
     ]
    }
   ],
   "source": [
    "# 테스트 케이스 개수만큼 반복\n",
    "for tc in range(int(input())):\n",
    "    # 팀 개수 n 입력\n",
    "    n = int(input())\n",
    "    \n",
    "    # 작년 등수 정보 입력\n",
    "    grade = list(map(int, input().split()))\n",
    "    \n",
    "    # 새로운 등수 정보 선언\n",
    "    new_grade = grade[:]\n",
    "    \n",
    "    # 상대적 등수가 바뀐 쌍의 수 m 입력\n",
    "    m = int(input())\n",
    "    \n",
    "    # 등수 변화 쌍 입력 받아 등수 변화 적용\n",
    "    for _ in range(m):\n",
    "        a, b = map(int, input().split())\n",
    "        if grade[a-1] > grade[b-1]:\n",
    "            new_grade[a-1] -= 1\n",
    "            new_grade[b-1] += 1\n",
    "        else:\n",
    "            new_grade[a-1] += 1\n",
    "            new_grade[b-1] -= 1\n",
    "    \n",
    "    # 등수 처리를 원활히 해주기 위해 문자열로 변경\n",
    "    str_grade = ''.join([str(i) for i in new_grade])\n",
    "    \n",
    "    # 등수가 겹치는 경우 해당 숫자를 ?로 변경\n",
    "    for i in range(n):\n",
    "        if str_grade.count(str_grade[i]) > 1:\n",
    "            str_grade = str_grade.replace(str_grade[i], '?')\n",
    "    \n",
    "    # 전부 ?라면 일관성이 없으므로 IMPOSSIBLE 출력   \n",
    "    if str_grade.count('?') == n:\n",
    "        print('IMPOSSIBLE')\n",
    "    # 아니라면 등수 출력(모르는 경우의 등수는 ?로 출력)\n",
    "    else:\n",
    "        for i in str_grade:\n",
    "            print(i, end=' ')\n",
    "    print()"
   ]
  },
  {
   "cell_type": "markdown",
   "metadata": {},
   "source": [
    "#### 해설 코드 참고"
   ]
  },
  {
   "cell_type": "code",
   "execution_count": null,
   "metadata": {},
   "outputs": [],
   "source": [
    "from collections import deque\n",
    "\n",
    "# 테스트 케이스만큼 반복:\n",
    "for tc in range(int(input())):\n",
    "    # 노드의 개수 입력 받기\n",
    "    n = int(input())\n",
    "    # 모든 노드에 대한 진입차수는 0으로 초기화\n",
    "    indegree = [0] * (n+1)\n",
    "    # 각 노드에 연결된 간선 정보를 담기 위한 인접 행렬 초기화\n",
    "    graph = [[False] * (n+1) for i in range(n+1)]\n",
    "    # 작년 순위 정보 입력\n",
    "    data = list(map(int, input().split()))\n",
    "    # 방향 그래프의 간선 정보 초기화\n",
    "    for i in range(n):\n",
    "        for j in range(i+1, n):\n",
    "            graph[data[i]][data[j]] = True\n",
    "            indegree[data[j]] += 1\n",
    "            \n",
    "    # 올해 변경된 순위 정보 입력\n",
    "    m = int(input())\n",
    "    for i in range(m):\n",
    "        a, b = map(int, input().split())\n",
    "        # 간선의 방향 뒤집기\n",
    "        if graph[a][b]:\n",
    "            graph[a][b] = False\n",
    "            graph[b][a] = True\n",
    "            indegree[a] += 1\n",
    "            indegree[b] -= 1\n",
    "        else:\n",
    "            graph[a][b] = True\n",
    "            graph[b][a] = False\n",
    "            indegree[a] -= 1\n",
    "            indegree[b] += 1\n",
    "            \n",
    "    # 위상 정렬 시작\n",
    "    result = [] # 알고리즘 수행 결과를 담을 리스트\n",
    "    q = deque() # 큐 기능을 위한 deque 라이브러리 사용\n",
    "    \n",
    "    # 처음 시작할 대는 진입차수가 0인 노드를 큐에 삽입\n",
    "    for i in range(1, n+1):\n",
    "        if indegree[i] == 0:\n",
    "            q.append(i)\n",
    "            \n",
    "    certain = True # 위상 정렬 결과가 오직 하나인지의 여부\n",
    "    cycle = True # 그래프 내 사이클이 존재하는지 여부\n",
    "    \n",
    "    # 정확히 노드의 개수만큼 반복\n",
    "    for i in range(n):\n",
    "        # 큐가 비어 있다면 사이클이 발생했다는 의미\n",
    "        if len(q) == 0:\n",
    "            cycle = True\n",
    "            break\n",
    "        # 큐의 원소가 2개 이상이라면 가능한 정렬 결과가 여러 개라는 ㄴ의미\n",
    "        if len(q) >= 2:\n",
    "            certain = False\n",
    "            break\n",
    "        # 큐에서 원소 꺼내기\n",
    "        now = q.popleft()\n",
    "        result.append(now)\n",
    "        # 해당 원소와 연결된 노드들의 진입차수에서 1 빼기\n",
    "        for j in range(1, n+1):\n",
    "            if graph[now][j]:\n",
    "                indegree[j] -= 1\n",
    "                # 새롭게 진입차수가 0이 되는 노드를 큐에 삽입\n",
    "                if indegree[j] == 0:\n",
    "                    q.append(j)\n",
    "    \n",
    "    # 사이클이 발생하는 경우(일관성이 없는 경우)\n",
    "    if cycle:\n",
    "        print(\"IMPOSSIBLE\")\n",
    "    # 위상 정렬 결과가 여러 개인 경우\n",
    "    elif not certain:\n",
    "        print(\"?\")\n",
    "    else:\n",
    "        for i in result:\n",
    "            print(i, end=' ')\n",
    "        print()\n",
    "        "
   ]
  }
 ],
 "metadata": {
  "kernelspec": {
   "display_name": "base",
   "language": "python",
   "name": "python3"
  },
  "language_info": {
   "codemirror_mode": {
    "name": "ipython",
    "version": 3
   },
   "file_extension": ".py",
   "mimetype": "text/x-python",
   "name": "python",
   "nbconvert_exporter": "python",
   "pygments_lexer": "ipython3",
   "version": "3.10.9"
  },
  "orig_nbformat": 4
 },
 "nbformat": 4,
 "nbformat_minor": 2
}
