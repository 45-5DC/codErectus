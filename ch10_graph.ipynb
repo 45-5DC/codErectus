{
 "cells": [
  {
   "cell_type": "markdown",
   "metadata": {},
   "source": [
    "# 10. 그래프 이론"
   ]
  },
  {
   "cell_type": "markdown",
   "metadata": {},
   "source": [
    "## 실전 문제"
   ]
  },
  {
   "cell_type": "markdown",
   "metadata": {},
   "source": [
    "### 팀 결성 // RE(틀림)"
   ]
  },
  {
   "cell_type": "markdown",
   "metadata": {},
   "source": [
    "#### 제한\n",
    "* 풀이 시간 20분\n",
    "* 시간 제한 2초\n",
    "* 메모리 제한 128MB\n",
    "\n",
    "##### 아이디어\n",
    "* 서로소 집합 알고리즘의 find, union 기능을 함수로 만들어서 사용하자."
   ]
  },
  {
   "cell_type": "markdown",
   "metadata": {},
   "source": [
    "#### 시간 복잡도\n",
    "* $O(N + {find 연산 개수}(1+\\log_{2-{find 연산 개수}/N}N))$ 라고 한다. 정확한 계산은 조금 복잡할 듯 하다.\n",
    "    * [참고할 만한 링크](https://hazel-developer.tistory.com/272)\n",
    "\n",
    "#### 해설 본 후\n",
    "* N, M의 범위가 모두 최대 100,000이므로 경로 압축을 이용한 서로소 집합 자료구조를 활용해야 함.\n",
    "    * 경로 압축을 이용하지 않으면 시간 복잡도가 O(NM)이고, 이용하면 $O(N + {find 연산 개수}(1+\\log_{2-{find 연산 개수}/N}N))$ 이므로 이 경우엔 경로 압축을 해야 시간 내에 해결 가능\n",
    "* 기왕이면 가독성을 위해 함수를 앞에다 설정하고, 함수를 앞에다 설정하기 위해 팀을 기록할 리스트를 파라미터에 추가하자.\n",
    "* 함수들을 잘못 짰다. find를 만들었으면 union에 이를 사용해야 하는데 그렇게 하지 않아 경로 압축이 안 됐을 것이다. 테스트 케이스에는 운좋게 통과가 되었다.\n",
    "* 같은 팀 여부 확인 연산을 굳이 함수로 만들 필요 없이, find를 두 번 이용하여 바로 비교할 수 있다."
   ]
  },
  {
   "cell_type": "code",
   "execution_count": 2,
   "metadata": {},
   "outputs": [
    {
     "name": "stdout",
     "output_type": "stream",
     "text": [
      "NO\n",
      "NO\n",
      "YES\n"
     ]
    }
   ],
   "source": [
    "# 학생 번호 N, 연산 개수 M 입력\n",
    "N, M = map(int, input().split())\n",
    "\n",
    "# 학생들의 팀을 기록할 리스트 선언(자기 자신을 팀으로 초기화)\n",
    "teams = [i for i in range(N+1)]\n",
    "\n",
    "# 해당 학생의 팀을 찾는 함수 정의\n",
    "def find_team(a):\n",
    "    if teams[a] != a:\n",
    "        teams[a] = find_team(teams[a])\n",
    "    return teams[a]\n",
    "\n",
    "# 팀 합치기 연산 정의\n",
    "def union_team(a, b):\n",
    "    team_a = teams[a]\n",
    "    team_b = teams[b]\n",
    "    \n",
    "    if team_a < team_b:\n",
    "        teams[team_b] = team_a\n",
    "    else:\n",
    "        teams[team_a] = team_b\n",
    "    \n",
    "# 같은 팀 여부 확인 연산 정의\n",
    "def check_same_team(a, b):\n",
    "    if teams[a] == teams[b]:\n",
    "        return 'YES'\n",
    "    else:\n",
    "        return 'NO'\n",
    "\n",
    "# 연산 조건 입력 받아서 진행\n",
    "for _ in range(M):\n",
    "    oper, a, b = map(int, input().split())\n",
    "    \n",
    "    # 합치기 연산\n",
    "    if oper == 0:\n",
    "        union_team(a, b)\n",
    "    # 같은 팀 여부 확인 연산\n",
    "    else:\n",
    "        print(check_same_team(a, b))"
   ]
  },
  {
   "cell_type": "markdown",
   "metadata": {},
   "source": [
    "#### 해설 코드 참조"
   ]
  },
  {
   "cell_type": "code",
   "execution_count": 4,
   "metadata": {},
   "outputs": [
    {
     "name": "stdout",
     "output_type": "stream",
     "text": [
      "NO\n",
      "NO\n",
      "YES\n"
     ]
    }
   ],
   "source": [
    "# 특정 원소가 속한 집합을 찾기\n",
    "def find_team(teams, a):\n",
    "    # 루트 노드가 아니라면, 루트 노드를 찾을 때까지 재귀적으로 호출\n",
    "    if teams[a] != a:\n",
    "        teams[a] = find_team(teams, teams[a])\n",
    "    return teams[a]\n",
    "\n",
    "# 두 원소가 속한 집합을 합치기\n",
    "def union_team(teams, a, b):\n",
    "    team_a = find_team(teams, a)\n",
    "    team_b = find_team(teams, b)\n",
    "    \n",
    "    if team_a < team_b:\n",
    "        teams[team_b] = team_a\n",
    "    else:\n",
    "        teams[team_a] = team_b\n",
    "\n",
    "N, M = map(int, input().split())\n",
    "teams = [i for i in range(N+1)] # 부모 테이블 초기화(부모를 자기 자신으로)\n",
    "    \n",
    "# 각 연산을 하나씩 확인\n",
    "for _ in range(M):\n",
    "    oper, a, b = map(int, input().split())\n",
    "    # 합집합(union) 연산인 경우\n",
    "    if oper == 0:\n",
    "        union_team(teams, a, b)\n",
    "    # 찾기(find) 연산인 경우\n",
    "    elif oper == 1:\n",
    "        if find_team(teams, a) == find_team(teams, b):\n",
    "            print('YES')\n",
    "        else:\n",
    "            print('NO')"
   ]
  },
  {
   "cell_type": "markdown",
   "metadata": {},
   "source": [
    "### 도시 분할 계획\n",
    "https://www.acmicpc.net/problem/1647"
   ]
  },
  {
   "cell_type": "markdown",
   "metadata": {},
   "source": [
    "#### 제한\n",
    "* 풀이 시간 40분\n",
    "* 시간 제한 2초\n",
    "* 메모리 제한 256MB\n",
    "\n",
    "#### 아이디어\n",
    "* 크루스칼 이용하여 최소 신장 트리 만든 다음, 가장 높은 비용의 간선 하나를 제거하면 될 것 같다.\n",
    "* 시간 초과가 난다. 입력값이 최대 1,000,000개가 될 수 있으므로 sys.stdin.readline()을 이용해보자 => 됐다."
   ]
  },
  {
   "cell_type": "markdown",
   "metadata": {},
   "source": [
    "#### 시간 복잡도\n",
    "* 크루스칼 알고리즘을 사용했고, 간선의 개수가 M개이므로 O(MlogM).\n",
    "* M은 최대 1,000,000이므로 시간 내에 해결이 가능하다.\n",
    "\n",
    "#### 해설 본 후\n",
    "* 어차피 간선이 유지비 기준 오름차순으로 정렬되어 있으므로, 최대 유지비의 길을 저장할 때 max()를 쓸 필요 없이 해당 값으로 갱신만 해주면 된다.\n",
    "* 답지에선 sys.stdin.readline()을 안 쓰고 그냥 input()으로 했는데, 백준에서 채점 돌려보면 input()으로 하면 시간초과가 난다."
   ]
  },
  {
   "cell_type": "code",
   "execution_count": 14,
   "metadata": {},
   "outputs": [
    {
     "name": "stdout",
     "output_type": "stream",
     "text": [
      "8\n"
     ]
    }
   ],
   "source": [
    "import sys\n",
    "\n",
    "# 어떤 집이 속한 마을을 확인하는 함수 선언\n",
    "def find_group(groups, a):\n",
    "    if groups[a] != a:\n",
    "        groups[a] = find_group(groups, groups[a])\n",
    "    return groups[a]\n",
    "\n",
    "# 두 집이 속한 마을을 같은 마을로 합치는 함수 선언\n",
    "def union_group(groups, a, b):\n",
    "    group_a = find_group(groups, a)\n",
    "    group_b = find_group(groups, b)\n",
    "    \n",
    "    if group_a < group_b:\n",
    "        groups[group_b] = group_a\n",
    "    else:\n",
    "        groups[group_a] = group_b\n",
    "\n",
    "# 집 개수 N, 길 개수 M 입력\n",
    "N, M = map(int, input().split())\n",
    "\n",
    "# 집들이 속한 마을 정보를 담는 리스트 선언(자신이 속한 마을을 자신의 마을로 초기화)\n",
    "groups = [i for i in range(N+1)]\n",
    "\n",
    "# 길의 정보 입력\n",
    "roads = []\n",
    "for _ in range(M):\n",
    "    A, B, C = map(int, sys.stdin.readline().split())\n",
    "    # A번 집에서 B번 집으로 가는 경로의 유지비가 C임.\n",
    "    roads.append((C, (A, B)))\n",
    "\n",
    "# 길을 유지비 기준 오름차순으로 정렬\n",
    "roads.sort()\n",
    "\n",
    "# 최소 신장 트리를 통해 구한 길의 전체 유지비와 길 중 가장 유지비가 높은 길의 유지비를 초기화\n",
    "result = 0\n",
    "max_cost = 0\n",
    "\n",
    "# 모든 길을 확인하며\n",
    "for cost, road in roads:\n",
    "    # 길로 이어진 두 집의 속한 마을이 다르다면\n",
    "    if find_group(groups, road[0]) != find_group(groups, road[1]):\n",
    "        # 속한 마을을 합쳐주고\n",
    "        union_group(groups, road[0], road[1])\n",
    "        # 전체 유지비에 해당 길의 유지비를 추가하고\n",
    "        result += cost\n",
    "        # 지금까지 확인한 길보다 유지비가 비싸다면 최대 유지비를 가진 길을 갱신\n",
    "        max_cost = max(max_cost, cost) ## 어차피 오름차순 정렬되어 있으므로 max()를 쓰지 않고 갱신해도 된다.\n",
    "\n",
    "# 전체 유지비에서 가장 유지비가 큰 길을 빼서 마을 두 개를 생성할 수 있다.\n",
    "print(result - max_cost)"
   ]
  },
  {
   "cell_type": "markdown",
   "metadata": {},
   "source": [
    "### 커리큘럼 // RE(해결 못 함)"
   ]
  },
  {
   "cell_type": "markdown",
   "metadata": {},
   "source": [
    "#### 제한\n",
    "* 풀이 시간 50분\n",
    "* 시간 제한 2초\n",
    "* 메모리 제한 128MB\n",
    "\n",
    "#### 아이디어\n",
    "* 선수 강의의 개수가 적은 것부터 확인한다.\n",
    "* 어떤 강의의 선수 강의 중 indegree가 같은 레벨에 있는 강의가 여러 개라면 그 중에 가장 시간이 오래 걸리는 것만 시간에 추가한다.\n",
    "* 어떤 강의의 시간을 체크할 때 선수 강의 목록에 선수 강의와 선수 강의의 선수 강의가 함께 들어있다면, 후자의 시간을 중복 체크하지 않도록 한다.\n",
    "\n",
    "* 근데 여기선 상위 강의의 정보에 선수 강의가 들어가 있어서 거꾸로 봐야할 것 같은데... => 방향을 뒤집어서 기본 코드와 비슷하게 가보자"
   ]
  },
  {
   "cell_type": "markdown",
   "metadata": {},
   "source": [
    "#### 시간 복잡도\n",
    "* 해설 코드 기준 최악의 경우엔 O(N!)이 되지 않나? N번 강의가 1번부터 N-1번까지를 모두 선수 과목으로 한다면 간선이 그렇게 될 것 같은데\n",
    "    * 아니구나. 노드 N개일 때, 간선은 N(N-1)/2이 최대가 되겠네. 그러면 O(N^3)이고 N은 최대 500이니까 해결 가능이겠다.\n",
    "\n",
    "#### 해설 본 후\n",
    "* 너무 어렵게 생각했나... 그리고 스스로가 답이라고 생각한 방식에 확신이 없고 구체화를 못해서 금방 포기해버린 건 아닌가 싶다.\n",
    "* 상위 강의 -> 하위 강의의 형태로 입력이 주어지므로, 위상 정렬 알고리즘 사용을 위해 이를 뒤집어줘야 한다. 생각은 했는데, 다른 좋은 방법이 있지 않을까 하며 시도를 안 해봤다...\n",
    "* 특히 같은 차수에서 둘 다 선수 과목으로 하는 과목이 있을 경우 더 많은 시간이 걸리는 것을 채택해야 하는데 그 부분을 어떻게 구현할지 막막했다. 해설에서는 똑같이 위상정렬을 돌되, max()를 이용하여 그 부분을 체크해줬다.\n",
    "* 모르겠으면 그냥 많이 풀어보는 게 장땡인 건 맞을 것 같다. 정진합시다."
   ]
  },
  {
   "cell_type": "code",
   "execution_count": 2,
   "metadata": {},
   "outputs": [
    {
     "name": "stdout",
     "output_type": "stream",
     "text": [
      "[0, 10, 10, 4, 4, 3]\n",
      "[[], [], [1], [1], [3, 1], [3]]\n"
     ]
    }
   ],
   "source": [
    "# X\n",
    "\n",
    "from collections import deque\n",
    "\n",
    "# 듣고자 하는 강의 수 N 입력\n",
    "N = int(input())\n",
    "\n",
    "\n",
    "course_times = [0] * (N+1) # 각 강의의 소요 시간\n",
    "graph = [[] for _ in range(N+1)]\n",
    "indegrees = [0] * (N+1)\n",
    "\n",
    "# 강의 시간 및 선수 강의 정보 입력\n",
    "for i in range(1, N+1):\n",
    "    time, *precourse = map(int, input().split())\n",
    "    course_times[i] = time\n",
    "    for p in precourse[:-1]:\n",
    "        graph[p].append(i)\n",
    "        indegrees[i] += 1\n",
    "\n",
    "shortest_time = [0] * (N+1)\n",
    "\n",
    "q = deque()\n",
    "\n",
    "for i in range(1, N+1):\n",
    "    if indegrees[i] == 0:\n",
    "        q.append(i)\n",
    "        \n",
    "while q:\n",
    "    course = q.popleft()\n",
    "    "
   ]
  },
  {
   "cell_type": "markdown",
   "metadata": {},
   "source": [
    "#### 해설 코드 참고"
   ]
  },
  {
   "cell_type": "code",
   "execution_count": null,
   "metadata": {},
   "outputs": [],
   "source": [
    "from collections import deque\n",
    "import copy\n",
    "\n",
    "# 노드 개수 입력\n",
    "v = int(input())\n",
    "# 모든 노드에 대한 진입차수를 0으로 초기화\n",
    "indegree = [0] * (v+1)\n",
    "# 각 노드에 연결된 간선 정보를 담기 위한 연결 리스트(그래프) 초기화\n",
    "graph = [[] for i in range(v+1)]\n",
    "# 각 강의 시간을 0으로 초기화\n",
    "time = [0] * (v+1)\n",
    "\n",
    "# 방향 그래프의 모든 간선 정보를 입력받기\n",
    "for i in range(1, v+1):\n",
    "    data = list(map(int, input().split()))\n",
    "    time[i] = data[0] # 첫 번째 수는 시간 정보를 담고 있음\n",
    "    for x in data[1:-1]:\n",
    "        indegree[i] += 1\n",
    "        graph[x].append(i) ## 여기도 키포인트\n",
    "        \n",
    "# 위상 정렬 함수\n",
    "def topology_sort():\n",
    "    result = copy.deepcopy(time) # 알고리즘 수행 결과를 담을 리스트\n",
    "    q = deque() # 큐 기능을 위한 deque 라이브러리 사용\n",
    "    \n",
    "    # 처음 시작할 때는 진입차수가 0인 노드를 큐에 삽입\n",
    "    for i in range(1, v + 1):\n",
    "        if indegree[i] == 0:\n",
    "            q.append(i)\n",
    "            \n",
    "    # 큐가 빌 때까지 반복\n",
    "    while q:\n",
    "        # 큐에서 원소 꺼내기\n",
    "        now = q.popleft()\n",
    "        # 해당 원소와 연결된 노드들의 진입차수에서 1 빼기\n",
    "        for i in graph[now]:\n",
    "            result[i] = max(result[i], result[now] + time[i]) ## 여기가 키포인트라고 생각한다.\n",
    "            indegree[i] -= 1\n",
    "            # 새롭게 진입차수가 0이 되는 노드를 큐에 삽입\n",
    "            if indegree[i] == 0:\n",
    "                q.append(i)\n",
    "                \n",
    "    # 위상 정렬 수행 결과 출력\n",
    "    for i in range(1, v+1):\n",
    "        print(result[i])\n",
    "\n",
    "topology_sort()"
   ]
  },
  {
   "cell_type": "markdown",
   "metadata": {},
   "source": []
  },
  {
   "cell_type": "code",
   "execution_count": null,
   "metadata": {},
   "outputs": [],
   "source": []
  }
 ],
 "metadata": {
  "kernelspec": {
   "display_name": "base",
   "language": "python",
   "name": "python3"
  },
  "language_info": {
   "codemirror_mode": {
    "name": "ipython",
    "version": 3
   },
   "file_extension": ".py",
   "mimetype": "text/x-python",
   "name": "python",
   "nbconvert_exporter": "python",
   "pygments_lexer": "ipython3",
   "version": "3.10.9"
  },
  "orig_nbformat": 4
 },
 "nbformat": 4,
 "nbformat_minor": 2
}
