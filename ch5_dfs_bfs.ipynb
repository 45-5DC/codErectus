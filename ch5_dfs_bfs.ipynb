{
 "cells": [
  {
   "attachments": {},
   "cell_type": "markdown",
   "metadata": {},
   "source": [
    "# 05. DFS/BFS"
   ]
  },
  {
   "attachments": {},
   "cell_type": "markdown",
   "metadata": {},
   "source": [
    "## 실전 문제"
   ]
  },
  {
   "attachments": {},
   "cell_type": "markdown",
   "metadata": {},
   "source": [
    "### 음료수 얼려 먹기"
   ]
  },
  {
   "attachments": {},
   "cell_type": "markdown",
   "metadata": {},
   "source": [
    "#### 제한\n",
    "* 풀이 시간 30분\n",
    "* 시간 제한 1초\n",
    "* 메모리 제한 128MB\n",
    "\n",
    "#### 아이디어\n",
    "* 모든 칸을 돌며 bfs 수행하고, 각 칸에서 bfs가 시작된 경우만 세기\n",
    "* 아니다, bfs는 queue를 돌면서 하니까 세기 어렵겠다. dfs를 이용하여 반복문 돌면서 모든 점에서 dfs를 수행하면서 수행된 점만 세야겠다.\n",
    "* 수행된 점만 세려면? 재귀로 짜되, 맨 처음 함수에 들어가게 되는 점이 이미 방문한 점이거나, 칸막이거나, 범위를 벗어나면 0을 리턴해버리고, 함수가 끝까지 실행된 경우 끝에 1 리턴하게 하고 모든 점에 대해 함수 실행시켜서 그 리턴값을 정답 변수에 더해주는 식으로 하면 될 듯. 그러면 첫 점에서 실행된 경우만 1을 리턴하게 되고, 이전의 점에서 dfs 재귀로 인해 방문처리가 된 점이라면 visted[x][y]에서 조건문에 걸려 0을 리턴하게 되니 총 합은 생성할 수 있는 아이스크림 개수가 될 것이다."
   ]
  },
  {
   "attachments": {},
   "cell_type": "markdown",
   "metadata": {},
   "source": [
    "#### 시간 복잡도\n",
    "* 우선 반복문만 보면 O(M*N)이고, 최악의 경우 N=1000, M=1000. M * N = 1,000,000이다.\n",
    "* dfs는 O(노드의개수)니까 O(M*N)이긴 한데, 체크한 건 그냥 넘기니까 매 반복문마다 O(M * N)인건 아니고 합산이 O(M * N)이 되는 건가...?\n",
    "* 그럼 대충 O(M * N + M * N)인가...? 그럼 1초 내에 가능이긴 하다.\n",
    "* 정확한 복잡도는 모르겠지만 해설의 코드보다 약간 오래(visited를 선언하고 체크하느라) 걸릴 것이니 통과라고 보면 될 것 같다.\n",
    "\n",
    "#### 해설 본 후\n",
    "* 어차피 한 번만 체크하면 되니까 visited를 따로 만들 필요없이 바로 해당 좌표의 ice_frame의 값을 1로 바꿔줘도 되는구나. 이러면 자원이 더 절약 되겠다.\n",
    "* 그냥 map에 int를 사용하면 앞에 0들이 잘릴 것 같아서 list(map(int, list(input())))를 사용했는데, 그냥 list(map(int, input())) 해도 의도대로 들어간다. 이렇게 했으면 시간도 좀 더 줄어들 듯"
   ]
  },
  {
   "cell_type": "code",
   "execution_count": 9,
   "metadata": {},
   "outputs": [
    {
     "name": "stdout",
     "output_type": "stream",
     "text": [
      "8\n"
     ]
    }
   ],
   "source": [
    "# 얼음 틀의 세로 길이 n, 가로 길이 m 입력\n",
    "n, m = map(int, input().split())\n",
    "\n",
    "# 얼음 틀의 형태 입력\n",
    "ice_frame = []\n",
    "for _ in range(n):\n",
    "    ice_frame.append(list(map(int, list(input())))) ## list(map(int, input())) 그냥 이렇게 해도 앞에 0 안 잘리고 들어가네?\n",
    "\n",
    "# 방문 여부를 체크하는 리스트 선언\n",
    "visited = [[False] * m for _ in range(n)]\n",
    "\n",
    "# dfs를 재귀함수로 구현\n",
    "def dfs(ice_frame, x, y, visited):\n",
    "    # 얼음틀을 벗어나거나, 칸막이 위치거나, 이미 방문한 적 있는 칸이면 0을 리턴\n",
    "    if x < 0 or x >= n or y < 0 or y >= m or ice_frame[x][y] == 1 or visited[x][y]:\n",
    "        return 0\n",
    "    \n",
    "    # 위 조건에 안 걸렸다면 방문 체크하고\n",
    "    visited[x][y] = True\n",
    "    \n",
    "    # 사방의 칸을 체크(이어져 있다면 모두 방문체크하기 위해)\n",
    "    dfs(ice_frame, x-1, y, visited) # 상\n",
    "    dfs(ice_frame, x+1, y, visited) # 하\n",
    "    dfs(ice_frame, x, y-1, visited) # 좌\n",
    "    dfs(ice_frame, x, y+1, visited) # 우\n",
    "    \n",
    "    # 모든 재귀를 돌고 난 뒤 1을 리턴\n",
    "    return 1\n",
    "\n",
    "# 아이스크림이 몇 개 나올지 저장하는 정답 변수 선언\n",
    "answer = 0\n",
    "# 얼음틀의 모든 칸을 돌면서\n",
    "for x in range(n):\n",
    "    for y in range(m):\n",
    "        # 각 칸에서 dfs()를 수행하고 그 리턴값을 더함\n",
    "        # dfs()가 끝까지 실행된다면 1을 리턴, 조건문에 걸려 조기 리턴 되면 0을 리턴\n",
    "        answer += dfs(ice_frame, x, y, visited)\n",
    "        \n",
    "print(answer)"
   ]
  },
  {
   "attachments": {},
   "cell_type": "markdown",
   "metadata": {},
   "source": [
    "### 미로 탈출"
   ]
  },
  {
   "attachments": {},
   "cell_type": "markdown",
   "metadata": {},
   "source": [
    "#### 제한\n",
    "* 풀이 시간 30분\n",
    "* 시간 제한 1초\n",
    "* 메모리 제한 128MB\n",
    "\n",
    "#### 아이디어\n",
    "* 시작점에서 bfs를 돌리는데, queue에 좌표만 넣는 게 아니라 진행한 칸수를 같이 넣어서 1씩 늘려주는 식으로 돌린다. (n, m)에 도착했을 때의 칸수 값이 정답이 된다."
   ]
  },
  {
   "attachments": {},
   "cell_type": "markdown",
   "metadata": {},
   "source": [
    "#### 시간 복잡도\n",
    "* 대충 O(m*n)이 되려나?\n",
    "* 최악의 경우 m=200, n=200으로 1초 내에 해결 가능\n",
    "\n",
    "#### 해설 본 후\n",
    "* 0이 갈 수 없는 칸이고 1이 갈 수 있는 칸이므로, 0이면 무시하고 1이면 이전에 있었던 칸의 값 + 1을 했네.\n",
    "* 이렇게 하고 1인 칸에만(해당 칸을 처음 방문하는 경우에만) +1을 하고 queue에 넣으면 출발점에서부터 해당 지점까지의 최단 거리가 되겠구나\n",
    "* 근데 첫 번째 칸의 값이 3이 되긴 할 것이다. 다만 가장 오른쪽 아래 위치의 값만 정확하면 되므로 이 경우엔 문제가 없다."
   ]
  },
  {
   "cell_type": "code",
   "execution_count": 21,
   "metadata": {},
   "outputs": [
    {
     "name": "stdout",
     "output_type": "stream",
     "text": [
      "10\n"
     ]
    }
   ],
   "source": [
    "from collections import deque\n",
    "\n",
    "# 미로의 세로 크기 n, 가로 크기 m 입력\n",
    "n, m = map(int, input().split())\n",
    "\n",
    "# 미로의 정보 입력\n",
    "maze = []\n",
    "for _ in range(n):\n",
    "    maze.append(list(map(int, input())))\n",
    "\n",
    "# 방문 여부 체크 리스트 선언\n",
    "visited = [[False] * (m) for _ in range(n)]\n",
    "\n",
    "# 방향 선언(상 하 좌 우)\n",
    "dx = [-1, 1, 0, 0]\n",
    "dy = [0, 0, -1, 1]\n",
    "\n",
    "# 큐 선언\n",
    "q = deque()\n",
    "# 큐에 시작점 (x좌표, y좌표, 지나온 칸 수) 삽입\n",
    "q.append((0, 0, 1))\n",
    "# 시작점은 방문 처리\n",
    "visited[0][0] = True\n",
    "\n",
    "while q: # q에 원소가 있는 동안 반복\n",
    "    x, y, check = q.popleft() # x좌표, y좌표, 지나온 칸 수 꺼내기\n",
    "\n",
    "    # 목표 지점에 도착한 경우\n",
    "    if x == (n-1) and y == (m-1): \n",
    "        print(check) # 지나온 칸 수를 출력하고\n",
    "        break # 반복 중지\n",
    "    \n",
    "    # 사방위에 있는 칸 확인\n",
    "    for i in range(4):\n",
    "        nx = x + dx[i]\n",
    "        ny = y + dy[i]\n",
    "        \n",
    "        # 미로 밖으로 벗어나거나, 괴물이 있거나, 이미 방문한 경우\n",
    "        if nx < 0 or nx >= n or ny < 0 or ny >= m or maze[nx][ny] == 0 or visited[nx][ny]:\n",
    "            continue # 무시한다\n",
    "        \n",
    "        # 위 조건에 걸리지 않으면 해당 좌표를 방문 처리하고, 지나온 칸 수에 +1을 하여 큐에 삽입한다.\n",
    "        visited[nx][ny] = True\n",
    "        q.append((nx, ny, check + 1))"
   ]
  },
  {
   "attachments": {},
   "cell_type": "markdown",
   "metadata": {},
   "source": [
    "#### 해설 코드 참고"
   ]
  },
  {
   "cell_type": "code",
   "execution_count": null,
   "metadata": {},
   "outputs": [],
   "source": [
    "## m, n, dx, dy는 동일. visited를 쓰지 않았음\n",
    "\n",
    "# BFS 소스 코드 구현\n",
    "def bfs(x, y):\n",
    "    # 큐(Queue) 구현을 위해 deque 라이브러리 사용\n",
    "    q = deque()\n",
    "    q.append((x, y))\n",
    "    # 큐가 빌 때까지 반복\n",
    "    while q:\n",
    "        x, y = q.popleft()\n",
    "        # 현재 위치에서 네 방향으로의 위치 확인\n",
    "        for i in range(4):\n",
    "            nx = x + dx[i]\n",
    "            ny = y + dy[i]\n",
    "            # 미로 찾기 공간을 벗어난 경우 무시\n",
    "            if nx < 0 or nx >= n or ny < 0 or ny >= m:\n",
    "                continue\n",
    "            # 괴물 칸인 경우 무시\n",
    "            if maze[nx][ny] == 0:\n",
    "                continue\n",
    "            # 해당 노드를 처음 방문하는 경우에만 최단 거리 기록\n",
    "            if maze[nx][ny] == 1:\n",
    "                maze[nx][ny] = maze[x][y] + 1\n",
    "                q.append((nx, ny))\n",
    "    # 가장 오른쪽 아래까지의 최단 거리 반환\n",
    "    return maze[n-1][m-1]\n",
    "\n",
    "# BFS 수행 결과 출력\n",
    "print(bfs(0, 0))"
   ]
  },
  {
   "cell_type": "code",
   "execution_count": null,
   "metadata": {},
   "outputs": [],
   "source": []
  }
 ],
 "metadata": {
  "kernelspec": {
   "display_name": "base",
   "language": "python",
   "name": "python3"
  },
  "language_info": {
   "codemirror_mode": {
    "name": "ipython",
    "version": 3
   },
   "file_extension": ".py",
   "mimetype": "text/x-python",
   "name": "python",
   "nbconvert_exporter": "python",
   "pygments_lexer": "ipython3",
   "version": "3.10.9"
  },
  "orig_nbformat": 4
 },
 "nbformat": 4,
 "nbformat_minor": 2
}
