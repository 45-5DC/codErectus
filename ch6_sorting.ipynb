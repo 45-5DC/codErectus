{
 "cells": [
  {
   "attachments": {},
   "cell_type": "markdown",
   "metadata": {},
   "source": [
    "# 06. 정렬"
   ]
  },
  {
   "attachments": {},
   "cell_type": "markdown",
   "metadata": {},
   "source": [
    "## 실전 문제"
   ]
  },
  {
   "attachments": {},
   "cell_type": "markdown",
   "metadata": {},
   "source": [
    "### 위에서 아래로"
   ]
  },
  {
   "attachments": {},
   "cell_type": "markdown",
   "metadata": {},
   "source": [
    "#### 제한\n",
    "* 풀이 시간 15분\n",
    "* 시간 제한 1초\n",
    "* 메모리 제한 128MB\n",
    "\n",
    "#### 아이디어\n",
    "* 파이썬의 기본 정렬 사용\n",
    "* print()에 end 매개변수 활용"
   ]
  },
  {
   "attachments": {},
   "cell_type": "markdown",
   "metadata": {},
   "source": [
    "#### 시간 복잡도\n",
    "* O(NlogN). N은 최대 500이므로 충분\n",
    "\n",
    "#### 해설 본 후\n",
    "* 선택 정렬, 삽입 정렬, 퀵 정렬, 계수 정렬 다 괜찮다"
   ]
  },
  {
   "cell_type": "code",
   "execution_count": 2,
   "metadata": {},
   "outputs": [
    {
     "name": "stdout",
     "output_type": "stream",
     "text": [
      "27 15 12 "
     ]
    }
   ],
   "source": [
    "# 숫자 개수 N 입력\n",
    "N = int(input())\n",
    "\n",
    "# 숫자들 입력\n",
    "numbers = []\n",
    "for _ in range(N):\n",
    "    numbers.append(int(input()))\n",
    "\n",
    "# 숫자들을 내림차순으로 정렬한 뒤 순서대로 출력\n",
    "for i in sorted(numbers, reverse=True):\n",
    "    print(i, end=' ')"
   ]
  },
  {
   "attachments": {},
   "cell_type": "markdown",
   "metadata": {},
   "source": [
    "### 성적이 낮은 순서로 학생 출력하기"
   ]
  },
  {
   "attachments": {},
   "cell_type": "markdown",
   "metadata": {},
   "source": [
    "#### 제한\n",
    "* 풀이 시간 20분\n",
    "* 시간 제한 1초\n",
    "* 메모리 제한 128MB\n",
    "\n",
    "#### 아이디어\n",
    "* (이름, 점수) 튜플 만들어 점수 기준으로 정렬"
   ]
  },
  {
   "attachments": {},
   "cell_type": "markdown",
   "metadata": {},
   "source": [
    "#### 시간 복잡도\n",
    "* O(NlogN). N은 최대 100,000이므로 1초 내에 가능\n",
    "\n",
    "#### 해설 본 후\n",
    "* O(NlogN) 보장하는 정렬 방식이나, O(N)에 동작하는 계수 정렬 사용해도 됨"
   ]
  },
  {
   "cell_type": "code",
   "execution_count": 3,
   "metadata": {},
   "outputs": [
    {
     "name": "stdout",
     "output_type": "stream",
     "text": [
      "이순신 홍길동 "
     ]
    }
   ],
   "source": [
    "# 학생 수 N 입력\n",
    "N = int(input())\n",
    "\n",
    "# 학생 이름과 성적 입력\n",
    "students = []\n",
    "for _ in range(N):\n",
    "    name, grade = input().split()\n",
    "    students.append((name, int(grade))) # (이름, 점수)의 튜플 형태로 리스트에 추가. 이 때 점수는 비교를 위해 int자료형으로 변경\n",
    "\n",
    "# 점수 기준으로 오름차순 정렬한 후 점수 순서대로 이름을 출력\n",
    "for name, _ in sorted(students, key=lambda x: x[1]):\n",
    "    print(name, end=' ')"
   ]
  },
  {
   "attachments": {},
   "cell_type": "markdown",
   "metadata": {},
   "source": [
    "### 두 배열의 원소 교체"
   ]
  },
  {
   "attachments": {},
   "cell_type": "markdown",
   "metadata": {},
   "source": [
    "#### 제한\n",
    "* 풀이 시간 20분\n",
    "* 시간 제한 2초\n",
    "* 메모리 제한 128MB\n",
    "\n",
    "#### 아이디어\n",
    "* A는 오름차순, B는 내림차순으로 정렬한 후 인덱스 0부터 K-1까지 순서대로 A, B간의 원소를 비교하여 B가 더 크다면 바꿔치기 하기"
   ]
  },
  {
   "attachments": {},
   "cell_type": "markdown",
   "metadata": {},
   "source": [
    "#### 시간 복잡도\n",
    "* 대략 2NlogN + K 번의 연산 필요\n",
    "* K는 최대 N이고, N은 최대 100,000이므로 결국 O(NlogN)이고, 2초 내에 해결 가능할 것임\n",
    "\n",
    "#### 해설 본 후\n",
    "* 반복문에 else: break 넣어주면 쓸 데 없는 반복을 줄일 수 있음"
   ]
  },
  {
   "cell_type": "code",
   "execution_count": 4,
   "metadata": {},
   "outputs": [
    {
     "name": "stdout",
     "output_type": "stream",
     "text": [
      "26\n"
     ]
    }
   ],
   "source": [
    "## 43분까지\n",
    "\n",
    "# 원소의 개수 N, 바꿔치기 횟수 K 입력\n",
    "N, K = map(int, input().split())\n",
    "\n",
    "# 배열 A와 배열 B 입력\n",
    "A = list(map(int, input().split()))\n",
    "B = list(map(int, input().split()))\n",
    "\n",
    "A.sort() # A를 오름차순으로 정렬\n",
    "B.sort(reverse=True) # B를 내림차순으로 정렬\n",
    "\n",
    "# K번 만큼 돌면서 A의 최솟값이 B의 최댓값보다 작다면 바꿔치기\n",
    "for i in range(K):\n",
    "    if A[i] < B[i]:\n",
    "        A[i], B[i] = B[i], A[i]\n",
    "\n",
    "# A의 합 출력\n",
    "print(sum(A))"
   ]
  },
  {
   "attachments": {},
   "cell_type": "markdown",
   "metadata": {},
   "source": [
    "## Q23. 국영수\n",
    "https://www.acmicpc.net/problem/10825"
   ]
  },
  {
   "attachments": {},
   "cell_type": "markdown",
   "metadata": {},
   "source": [
    "#### 제한\n",
    "* 풀이 시간 20분\n",
    "* 시간 제한 1초\n",
    "* 메모리 제한 256MB\n",
    "\n",
    "#### 아이디어\n",
    "* 기본 정렬이랑 람다 함수 잘 이용해서 하면 될 듯"
   ]
  },
  {
   "attachments": {},
   "cell_type": "markdown",
   "metadata": {},
   "source": [
    "#### 시간 복잡도\n",
    "* 정렬하는 데 O(NlogN), 반복문 돌릴 때 O(N)이므로 시간복잡도는 대략 O(NlogN)이 되고, N은 최대 100,000이므로 1초 내에 해결이 가능할 것\n",
    "* 다만 입력값도 최대 100,000개가 들어올 수 있으므로 빡빡할 수도 있다\n",
    "    * sys.stdin.readline()을 활용하면 훨씬 빠르다\n",
    "\n",
    "#### 해설 본 후\n",
    "* 처음에 내 코드에서 시간초과가 떠서 답지처럼 반복문에서 변수 받아올 때 리스트로 받아와서 인덱싱으로 출력하니 통과, 근데 다시 내껄로 해보니 내 코드가 더 빨리 통과됐다... 그냥 잠깐 통신에 문제가 있었나보다."
   ]
  },
  {
   "cell_type": "code",
   "execution_count": 1,
   "metadata": {},
   "outputs": [
    {
     "name": "stdout",
     "output_type": "stream",
     "text": [
      "Donghyuk\n",
      "Sangkeun\n",
      "Sunyoung\n",
      "nsj\n",
      "Wonseob\n",
      "Sanghyun\n",
      "Sei\n",
      "Kangsoo\n",
      "Haebin\n",
      "Junkyu\n",
      "Soong\n",
      "Taewhan\n"
     ]
    }
   ],
   "source": [
    "# 학생 수 N 입력\n",
    "N = int(input())\n",
    "\n",
    "# 학생 정보 입력\n",
    "students = []\n",
    "for _ in range(N):\n",
    "    name, kor, eng, math = input().split()\n",
    "    students.append((name, int(kor), int(eng), int(math)))\n",
    "    \n",
    "for name, kor, eng, math in sorted(students, key= lambda student: (-student[1], student[2], -student[3], student[0])):\n",
    "    print(name)"
   ]
  },
  {
   "attachments": {},
   "cell_type": "markdown",
   "metadata": {},
   "source": [
    "## Q24. 안테나\n",
    "https://www.acmicpc.net/problem/18310"
   ]
  },
  {
   "attachments": {},
   "cell_type": "markdown",
   "metadata": {},
   "source": [
    "#### 제한\n",
    "* 풀이 시간 20분\n",
    "* 시간 제한 1초\n",
    "* 메모리 제한 256MB\n",
    "\n",
    "#### 아이디어\n",
    "* (기억의 저편) 제시된 숫자들 중 중앙값 위치의 집에 설치하면 된다."
   ]
  },
  {
   "attachments": {},
   "cell_type": "markdown",
   "metadata": {},
   "source": [
    "#### 시간 복잡도\n",
    "* O(NlogN). N은 최대 200,000.\n",
    "* 대충 파이썬에선 N이 100,000 이하일 때 NlogN이 먹힌다고 하는데, 이 경우 일단 시간 내에 해결이 되긴 한다. 200,000정도 까지는 조건에 따라 가능하긴한듯?\n",
    "\n",
    "#### 해설 본 후\n",
    "* 이전 풀이에선 아예 진짜 중앙값을 구해서 location에다 반복문을 돌리면서 진짜 중앙값과 가장 가까운 값(여러 개라면 더 작은 값)을 찾고, 해당 값을 출력하는 식으로 풀었다."
   ]
  },
  {
   "cell_type": "code",
   "execution_count": 4,
   "metadata": {},
   "outputs": [
    {
     "name": "stdout",
     "output_type": "stream",
     "text": [
      "5\n"
     ]
    }
   ],
   "source": [
    "# 집의 수 N 입력\n",
    "N = int(input())\n",
    "\n",
    "# 집의 위치 정보 입력\n",
    "location = list(map(int, input().split()))\n",
    "\n",
    "# 집 위치 정보를 오름차순 정렬\n",
    "location.sort()\n",
    "\n",
    "# 중앙값의 위치(집의 개수가 짝수라면 작은 쪽)에 있는 집 번호를 출력\n",
    "print(location[(len(location)-1)//2])"
   ]
  },
  {
   "attachments": {},
   "cell_type": "markdown",
   "metadata": {},
   "source": [
    "## Q25. 실패율 // RE(풀이 시간 초과)\n",
    "https://school.programmers.co.kr/learn/courses/30/lessons/42889"
   ]
  },
  {
   "attachments": {},
   "cell_type": "markdown",
   "metadata": {},
   "source": [
    "#### 제한\n",
    "* 풀이 시간 20분\n",
    "* 시간 제한 1초\n",
    "* 메모리 제한 128MB\n",
    "\n",
    "#### 아이디어\n",
    "* stages를 돌면서 각 스테이지에 정체되어 있는 사람수를 세어 계수 정렬한 리스트를 만들고, 실패율을 담을 리스트를 만든다\n",
    "* N+1번째 스테이지부터 1번째 스테이지까지 역순으로 확인하며 (해당 스테이지에 머물러 있는 사람) 값을 더해나가며, (해당 스테이지에 머물러 있는 사람) / (현재까지의 스테이지에 머물러 있는 사람의 합) 을 계산하여 각 스테이지의 실패율을 구함\n",
    "* 실패율에 enumerate 돌려 해당 스테이지를 구하고 문제 조건에 맞게 정렬한 뒤 스테이지만 빼와서 리스트로 만들어 리턴"
   ]
  },
  {
   "attachments": {},
   "cell_type": "markdown",
   "metadata": {},
   "source": [
    "#### 시간 복잡도\n",
    "* 반복문만 보면 (stages의 길이) + N + NlogN + N 번의 연산\n",
    "* stages의 길이는 최대 200,000이고, N은 최대 500이므로 1초 내에 충분히 해결 가능\n",
    "* 시간 복잡도는 O(stages의 길이 + NlogN)가 될 것 같다.\n",
    "\n",
    "#### 해설 본 후\n",
    "* 답지는 나랑 반대로 1스테이지부터 시작하여 전체 유저수에서 빼는 방식으로 실패율을 계산해나갔다.\n",
    "* 리스트 구성을 좀 더 잘했으면 더 효율적인 코드가 되었을 것 같다."
   ]
  },
  {
   "cell_type": "code",
   "execution_count": 15,
   "metadata": {},
   "outputs": [
    {
     "data": {
      "text/plain": [
       "[4, 1, 2, 3]"
      ]
     },
     "execution_count": 15,
     "metadata": {},
     "output_type": "execute_result"
    }
   ],
   "source": [
    "N= 4\n",
    "stages = [4, 4, 4, 4, 4]\n",
    "\n",
    "def solution(N, stages):\n",
    "    stay = [0] * (N + 2)\n",
    "    for stage in stages:\n",
    "        stay[stage] += 1\n",
    "    \n",
    "    failure_rate = [0] * (N+2)\n",
    "    \n",
    "    total = 0\n",
    "    for i in range(N+1, 0, -1):\n",
    "        total += stay[i]\n",
    "        \n",
    "        if total == 0:\n",
    "            failure_rate[i] = 0\n",
    "        else:\n",
    "            failure_rate[i] = stay[i] / total\n",
    "\n",
    "    answer = []\n",
    "    for f, i in sorted([(f, i) for i, f in enumerate(failure_rate[1:-1], start=1)], key=lambda x: -x[0]):\n",
    "        answer.append(i)\n",
    "\n",
    "    return answer\n",
    "\n",
    "solution(N, stages)"
   ]
  },
  {
   "attachments": {},
   "cell_type": "markdown",
   "metadata": {},
   "source": [
    "#### 해설 코드 참고"
   ]
  },
  {
   "cell_type": "code",
   "execution_count": null,
   "metadata": {},
   "outputs": [],
   "source": [
    "def solution(N, stages):\n",
    "    answer = []\n",
    "    length = len(stages)\n",
    "    \n",
    "    # 스테이지 번호를 1부터 N까지 증가시키며\n",
    "    for i in range(1, N+1):\n",
    "        # 해당 스테이지에 머물러 있는 사람의 수 계산\n",
    "        count = stages.count(i)\n",
    "        \n",
    "        # 실패율 계산\n",
    "        if length == 0:\n",
    "            fail = 0\n",
    "        else:\n",
    "            fail = count / length\n",
    "            \n",
    "        # 리스트에 (스테이지 번호, 실패율) 원소 삽입\n",
    "        answer.append((i, fail))\n",
    "        length -= count\n",
    "        \n",
    "    # 실패율을 기준으로 각 스테이지를 내림차순 정렬\n",
    "    answer = sorted(answer, key=lambda t: t[1], reverse=True)\n",
    "    \n",
    "    # 정렬된 스테이지 번호 출력\n",
    "    answer = [i[0] for i in answer]\n",
    "    return answer"
   ]
  },
  {
   "attachments": {},
   "cell_type": "markdown",
   "metadata": {},
   "source": [
    "#### 이전 풀이 참고"
   ]
  },
  {
   "cell_type": "code",
   "execution_count": null,
   "metadata": {},
   "outputs": [],
   "source": [
    "def solution(N, stages):\n",
    "  failure_rate = []\n",
    "  \n",
    "  total_failure = [0]*(N+1)\n",
    "  \n",
    "  for fail_stage in stages:\n",
    "    total_failure[fail_stage-1] += 1\n",
    "    \n",
    "  for i in range(N):\n",
    "    failure_rate.append((i+1, total_failure[i]/sum(total_failure[i:]) if sum(total_failure[i:]) !=0 else 0))\n",
    "  \n",
    "  return [stage for stage, rate in sorted(failure_rate, key=lambda x: (-x[1], x[0]))]"
   ]
  },
  {
   "attachments": {},
   "cell_type": "markdown",
   "metadata": {},
   "source": [
    "## Q26. 카드 정렬하기\n",
    "https://www.acmicpc.net/problem/1715"
   ]
  },
  {
   "attachments": {},
   "cell_type": "markdown",
   "metadata": {},
   "source": [
    "#### 제한\n",
    "* 풀이 시간 30분\n",
    "* 시간 제한 2초\n",
    "* 메모리 제한 128MB\n",
    "\n",
    "#### 아이디어\n",
    "* 매번 묶음에서 작은 것 두 개를 골라 묶는 게 최적해가 된다.\n",
    "* 내림차순 정렬 + .pop() + .append() 사용해서 풀어보자 => 시간 초과...\n",
    "* (기억의 저편) heapq를 쓰면 빨랐나...?"
   ]
  },
  {
   "attachments": {},
   "cell_type": "markdown",
   "metadata": {},
   "source": [
    "#### 시간 복잡도\n",
    "* heapify()가 O(N)이고 heappop()과 heappush()가 O(logN)이라고 한다.\n",
    "* N의 최댓값은 100,000\n",
    "* 리스트로 하면 매 반복마다 sort를 하여 O(N * NlogN)이 돼서 시간 초과가 나는 건가?\n",
    "* 최소힙으로 하면 N + N * 3 * logN이니 O(NlogN)으로 2초 내에 해결이 가능하겠다.\n",
    "\n",
    "#### 해설 본 후\n",
    "* 잘 풀었다."
   ]
  },
  {
   "cell_type": "code",
   "execution_count": 4,
   "metadata": {},
   "outputs": [
    {
     "name": "stdout",
     "output_type": "stream",
     "text": [
      "120\n"
     ]
    }
   ],
   "source": [
    "## 그냥 리스트로 푼 것 => 시간 초과\n",
    "\n",
    "# 카드 묶음 개수 N 입력\n",
    "N = int(input())\n",
    "\n",
    "# 카드 묶음 크기 정보 입력\n",
    "decks = []\n",
    "for _ in range(N):\n",
    "    decks.append(int(input()))\n",
    "\n",
    "total = 0\n",
    "while True:\n",
    "    decks.sort(reverse=True)\n",
    "    s1 = decks.pop()\n",
    "    try:\n",
    "        s2 = decks.pop()\n",
    "        total += (s1 + s2)\n",
    "        decks.append(s1 + s2)\n",
    "    except:\n",
    "        break\n",
    "\n",
    "print(total)"
   ]
  },
  {
   "cell_type": "code",
   "execution_count": 5,
   "metadata": {},
   "outputs": [
    {
     "name": "stdout",
     "output_type": "stream",
     "text": [
      "100\n"
     ]
    }
   ],
   "source": [
    "## heap 사용\n",
    "\n",
    "import heapq\n",
    "\n",
    "# 카드 묶음 개수 N 입력\n",
    "N = int(input())\n",
    "\n",
    "# 카드 묶음 크기 정보 입력\n",
    "decks = []\n",
    "for _ in range(N):\n",
    "    decks.append(int(input()))\n",
    "    \n",
    "# 힙 자료구조를 이용하여 리스트를 우선순위큐로 변환\n",
    "heapq.heapify(decks)\n",
    "\n",
    "total = 0 # 전체 비교 횟수 담을 변수 선언\n",
    "while True:\n",
    "    s1 = heapq.heappop(decks) # 가장 작은 카드 묶음 꺼내기\n",
    "    if not decks: # 하나 꺼냈을 때 덱이 비게 된다면\n",
    "        break # 전부 합친 것이므로 반복 중단\n",
    "    s2 = heapq.heappop(decks) # 아니라면 다시 가장 작은 카드 묶음 꺼내기\n",
    "    total += (s1 + s2) # 전체 비교 횟수에 두 카드 묶음의 합을 추가\n",
    "    heapq.heappush(decks, s1 + s2) # 덱에 두 카드 묶음을 합쳐서 넣기\n",
    "\n",
    "# 정답 출력\n",
    "print(total)\n",
    "    "
   ]
  },
  {
   "attachments": {},
   "cell_type": "markdown",
   "metadata": {},
   "source": [
    "#### 이전 풀이 & 해설 코드 참고"
   ]
  },
  {
   "cell_type": "code",
   "execution_count": null,
   "metadata": {},
   "outputs": [],
   "source": [
    "import heapq\n",
    "\n",
    "n = int(input())\n",
    "\n",
    "# 힙(heap)에 초기 카드 묶음을 모두 삽입\n",
    "heap = []\n",
    "for _ in range(n):\n",
    "    heapq.heappush(heap, int(input()))\n",
    "    \n",
    "result = 0\n",
    "\n",
    "# 힙에 원소가 1개 남을 때까지\n",
    "while len(heap) != 1: # while len(heap) > 1:\n",
    "    # 가장 작은 2개의 카드 묶음 꺼내서 비교하여 합치기\n",
    "    comparison = heapq.heappop(heap) + heapq.heappop(heap)\n",
    "    result += comparison\n",
    "    # 합친 카드 묶음을 다시 삽입\n",
    "    heapq.heappush(heap, comparison)\n",
    "\n",
    "print(result)    "
   ]
  }
 ],
 "metadata": {
  "kernelspec": {
   "display_name": "base",
   "language": "python",
   "name": "python3"
  },
  "language_info": {
   "codemirror_mode": {
    "name": "ipython",
    "version": 3
   },
   "file_extension": ".py",
   "mimetype": "text/x-python",
   "name": "python",
   "nbconvert_exporter": "python",
   "pygments_lexer": "ipython3",
   "version": "3.10.9"
  },
  "orig_nbformat": 4
 },
 "nbformat": 4,
 "nbformat_minor": 2
}
